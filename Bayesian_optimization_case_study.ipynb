{
 "cells": [
  {
   "cell_type": "markdown",
   "metadata": {
    "colab_type": "text",
    "id": "WNK7vbHo-KYU"
   },
   "source": [
    "## Bayesian methods of hyperparameter optimization"
   ]
  },
  {
   "cell_type": "markdown",
   "metadata": {
    "colab_type": "text",
    "id": "BlFdvPwF-KYW"
   },
   "source": [
    "In addition to the random search and the grid search methods for selecting optimal hyperparameters, we can use Bayesian methods of probabilities to select the optimal hyperparameters for an algorithm.\n",
    "\n",
    "In this case study, we will be using the BayesianOptimization library to perform hyperparmater tuning. This library has very good documentation which you can find here: https://github.com/fmfn/BayesianOptimization\n",
    "\n",
    "You will need to install the Bayesian optimization module. Running a cell with an exclamation point in the beginning of the command will run it as a shell command — please do this to install this module from our notebook in the cell below."
   ]
  },
  {
   "cell_type": "code",
   "execution_count": 1,
   "metadata": {
    "colab": {},
    "colab_type": "code",
    "id": "Pssx080d-Ulf"
   },
   "outputs": [],
   "source": [
    "#! pip install bayesian-optimization"
   ]
  },
  {
   "cell_type": "code",
   "execution_count": 2,
   "metadata": {
    "ExecuteTime": {
     "end_time": "2019-04-22T16:39:09.312682Z",
     "start_time": "2019-04-22T16:39:09.309208Z"
    },
    "_kg_hide-input": true,
    "colab": {},
    "colab_type": "code",
    "id": "l9nfFTyj-KYY"
   },
   "outputs": [],
   "source": [
    "import warnings\n",
    "warnings.filterwarnings('ignore')\n",
    "from sklearn.preprocessing import LabelEncoder\n",
    "import numpy as np\n",
    "import pandas as pd\n",
    "import lightgbm\n",
    "from bayes_opt import BayesianOptimization\n",
    "from catboost import CatBoostClassifier, cv, Pool"
   ]
  },
  {
   "cell_type": "code",
   "execution_count": 3,
   "metadata": {
    "colab": {
     "base_uri": "https://localhost:8080/",
     "height": 85
    },
    "colab_type": "code",
    "id": "D16Dquw1AAK0",
    "outputId": "44167587-f22e-4bf5-a816-e2bcfdc6c4ee"
   },
   "outputs": [
    {
     "data": {
      "text/plain": [
       "['.ipynb_checkpoints',\n",
       " 'Bayesian_optimization_case_study.ipynb',\n",
       " 'flight_delays_test.csv',\n",
       " 'flight_delays_test.csv.zip',\n",
       " 'flight_delays_train.csv',\n",
       " 'flight_delays_train.csv.zip']"
      ]
     },
     "execution_count": 3,
     "metadata": {},
     "output_type": "execute_result"
    }
   ],
   "source": [
    "import os\n",
    "os.listdir()"
   ]
  },
  {
   "cell_type": "markdown",
   "metadata": {
    "ExecuteTime": {
     "end_time": "2019-04-22T14:48:15.929012Z",
     "start_time": "2019-04-22T14:48:15.926574Z"
    },
    "colab_type": "text",
    "id": "AkBt3yds-KYu"
   },
   "source": [
    "## How does Bayesian optimization work?"
   ]
  },
  {
   "cell_type": "markdown",
   "metadata": {
    "colab_type": "text",
    "id": "E1kyBCUs-KYv"
   },
   "source": [
    "Bayesian optimization works by constructing a posterior distribution of functions (Gaussian process) that best describes the function you want to optimize. As the number of observations grows, the posterior distribution improves, and the algorithm becomes more certain of which regions in parameter space are worth exploring and which are not, as seen in the picture below."
   ]
  },
  {
   "cell_type": "markdown",
   "metadata": {
    "colab_type": "text",
    "id": "gAdHF72R-KYw"
   },
   "source": [
    "<img src=\"https://github.com/fmfn/BayesianOptimization/blob/master/examples/bo_example.png?raw=true\" />\n",
    "As you iterate over and over, the algorithm balances its needs of exploration and exploitation while taking into account what it knows about the target function. At each step, a Gaussian Process is fitted to the known samples (points previously explored), and the posterior distribution, combined with an exploration strategy (such as UCB — aka Upper Confidence Bound), or EI (Expected Improvement). This process is used to determine the next point that should be explored (see the gif below).\n",
    "<img src=\"https://github.com/fmfn/BayesianOptimization/raw/master/examples/bayesian_optimization.gif\" />"
   ]
  },
  {
   "cell_type": "markdown",
   "metadata": {
    "colab_type": "text",
    "id": "RTP8KUlLoYzu"
   },
   "source": [
    "## Let's look at a simple example"
   ]
  },
  {
   "cell_type": "markdown",
   "metadata": {
    "colab_type": "text",
    "id": "crpPqKdC-KYx"
   },
   "source": [
    "The first step is to create an optimizer. It uses two items:\n",
    "* function to optimize\n",
    "* bounds of parameters\n",
    "\n",
    "The function is the procedure that counts metrics of our model quality. The important thing is that our optimization will maximize the value on function. Smaller metrics are best. Hint: don't forget to use negative metric values."
   ]
  },
  {
   "cell_type": "markdown",
   "metadata": {
    "colab_type": "text",
    "id": "e09ciF8gpTfr"
   },
   "source": [
    "Here we define our simple function we want to optimize."
   ]
  },
  {
   "cell_type": "code",
   "execution_count": 4,
   "metadata": {
    "colab": {},
    "colab_type": "code",
    "id": "ofwvnfEwo5mG"
   },
   "outputs": [],
   "source": [
    "def simple_func(a, b):\n",
    "    return a + b"
   ]
  },
  {
   "cell_type": "markdown",
   "metadata": {
    "colab_type": "text",
    "id": "XCGsdciCpeI3"
   },
   "source": [
    "Now, we define our bounds of the parameters to optimize, within the Bayesian optimizer."
   ]
  },
  {
   "cell_type": "code",
   "execution_count": 5,
   "metadata": {
    "colab": {},
    "colab_type": "code",
    "id": "4jLYW2qnpOFr"
   },
   "outputs": [],
   "source": [
    "optimizer = BayesianOptimization(\n",
    "    simple_func,\n",
    "    {'a': (1, 3),\n",
    "    'b': (4, 7)})"
   ]
  },
  {
   "cell_type": "markdown",
   "metadata": {
    "colab_type": "text",
    "id": "dg6LdYx8pq2T"
   },
   "source": [
    "These are the main parameters of this function:\n",
    "\n",
    "* **n_iter:** This is how many steps of Bayesian optimization you want to perform. The more steps, the more likely you are to find a good maximum.\n",
    "\n",
    "* **init_points:** This is how many steps of random exploration you want to perform. Random exploration can help by diversifying the exploration space."
   ]
  },
  {
   "cell_type": "markdown",
   "metadata": {
    "colab_type": "text",
    "id": "i-GKMJ1uqMYv"
   },
   "source": [
    "Let's run an example where we use the optimizer to find the best values to maximize the target value for a and b given the inputs of 3 and 2."
   ]
  },
  {
   "cell_type": "code",
   "execution_count": 6,
   "metadata": {
    "colab": {
     "base_uri": "https://localhost:8080/",
     "height": 153
    },
    "colab_type": "code",
    "id": "Oy44Ro7wqNat",
    "outputId": "9cc64d54-b1e6-46d1-dc29-4c0039a1c72d"
   },
   "outputs": [
    {
     "name": "stdout",
     "output_type": "stream",
     "text": [
      "|   iter    |  target   |     a     |     b     |\n",
      "-------------------------------------------------\n",
      "| \u001b[0m1        \u001b[0m | \u001b[0m7.158    \u001b[0m | \u001b[0m2.603    \u001b[0m | \u001b[0m4.555    \u001b[0m |\n",
      "| \u001b[0m2        \u001b[0m | \u001b[0m7.036    \u001b[0m | \u001b[0m1.925    \u001b[0m | \u001b[0m5.111    \u001b[0m |\n",
      "| \u001b[95m3        \u001b[0m | \u001b[95m7.779    \u001b[0m | \u001b[95m1.333    \u001b[0m | \u001b[95m6.446    \u001b[0m |\n",
      "| \u001b[95m4        \u001b[0m | \u001b[95m8.083    \u001b[0m | \u001b[95m1.085    \u001b[0m | \u001b[95m6.997    \u001b[0m |\n",
      "| \u001b[95m5        \u001b[0m | \u001b[95m10.0     \u001b[0m | \u001b[95m3.0      \u001b[0m | \u001b[95m7.0      \u001b[0m |\n",
      "=================================================\n"
     ]
    }
   ],
   "source": [
    "optimizer.maximize(3,2)"
   ]
  },
  {
   "cell_type": "markdown",
   "metadata": {
    "colab_type": "text",
    "id": "tyKFMF2Hq2Sx"
   },
   "source": [
    "Great, now let's print the best parameters and the associated maximized target."
   ]
  },
  {
   "cell_type": "code",
   "execution_count": 7,
   "metadata": {
    "colab": {
     "base_uri": "https://localhost:8080/",
     "height": 51
    },
    "colab_type": "code",
    "id": "_H6DixyfscV_",
    "outputId": "fd0c35d7-e30d-4d30-9ab2-12c0fa837971"
   },
   "outputs": [
    {
     "name": "stdout",
     "output_type": "stream",
     "text": [
      "{'a': 3.0, 'b': 7.0}\n"
     ]
    },
    {
     "data": {
      "text/plain": [
       "10.0"
      ]
     },
     "execution_count": 7,
     "metadata": {},
     "output_type": "execute_result"
    }
   ],
   "source": [
    "print(optimizer.max['params']);optimizer.max['target']"
   ]
  },
  {
   "cell_type": "markdown",
   "metadata": {
    "colab_type": "text",
    "id": "tQ1T1V6Mspi4"
   },
   "source": [
    "## Test it on real data using the Light GBM"
   ]
  },
  {
   "cell_type": "markdown",
   "metadata": {
    "colab_type": "text",
    "id": "y_oGwREZkm4h"
   },
   "source": [
    "The dataset we will be working with is the famous flight departures dataset. Our modeling goal will be to predict if a flight departure is going to be delayed by 15 minutes based on the other attributes in our dataset. As part of this modeling exercise, we will use Bayesian hyperparameter optimization to identify the best parameters for our model."
   ]
  },
  {
   "cell_type": "markdown",
   "metadata": {
    "colab_type": "text",
    "id": "abYSagjQANDZ"
   },
   "source": [
    "**<font color='teal'> You can load the zipped csv files just as you would regular csv files using Pandas read_csv. In the next cell load the train and test data into two seperate dataframes. </font>**\n"
   ]
  },
  {
   "cell_type": "code",
   "execution_count": 8,
   "metadata": {
    "colab": {},
    "colab_type": "code",
    "id": "EWKBApVuAeJe"
   },
   "outputs": [],
   "source": [
    "train_df = pd.read_csv('flight_delays_train.csv.zip')\n",
    "test_df = pd.read_csv('flight_delays_test.csv.zip')"
   ]
  },
  {
   "cell_type": "markdown",
   "metadata": {
    "colab_type": "text",
    "id": "OapNcT9Eikis"
   },
   "source": [
    "**<font color='teal'> Print the top five rows of the train dataframe and review the columns in the data. </font>**"
   ]
  },
  {
   "cell_type": "code",
   "execution_count": 9,
   "metadata": {
    "colab": {
     "base_uri": "https://localhost:8080/",
     "height": 204
    },
    "colab_type": "code",
    "id": "__4cXZ8iiYaC",
    "outputId": "8718ad4b-8955-486c-9ae8-1dee6aa6c2fb"
   },
   "outputs": [
    {
     "data": {
      "text/html": [
       "<div>\n",
       "<style scoped>\n",
       "    .dataframe tbody tr th:only-of-type {\n",
       "        vertical-align: middle;\n",
       "    }\n",
       "\n",
       "    .dataframe tbody tr th {\n",
       "        vertical-align: top;\n",
       "    }\n",
       "\n",
       "    .dataframe thead th {\n",
       "        text-align: right;\n",
       "    }\n",
       "</style>\n",
       "<table border=\"1\" class=\"dataframe\">\n",
       "  <thead>\n",
       "    <tr style=\"text-align: right;\">\n",
       "      <th></th>\n",
       "      <th>Month</th>\n",
       "      <th>DayofMonth</th>\n",
       "      <th>DayOfWeek</th>\n",
       "      <th>DepTime</th>\n",
       "      <th>UniqueCarrier</th>\n",
       "      <th>Origin</th>\n",
       "      <th>Dest</th>\n",
       "      <th>Distance</th>\n",
       "      <th>dep_delayed_15min</th>\n",
       "    </tr>\n",
       "  </thead>\n",
       "  <tbody>\n",
       "    <tr>\n",
       "      <th>0</th>\n",
       "      <td>c-8</td>\n",
       "      <td>c-21</td>\n",
       "      <td>c-7</td>\n",
       "      <td>1934</td>\n",
       "      <td>AA</td>\n",
       "      <td>ATL</td>\n",
       "      <td>DFW</td>\n",
       "      <td>732</td>\n",
       "      <td>N</td>\n",
       "    </tr>\n",
       "    <tr>\n",
       "      <th>1</th>\n",
       "      <td>c-4</td>\n",
       "      <td>c-20</td>\n",
       "      <td>c-3</td>\n",
       "      <td>1548</td>\n",
       "      <td>US</td>\n",
       "      <td>PIT</td>\n",
       "      <td>MCO</td>\n",
       "      <td>834</td>\n",
       "      <td>N</td>\n",
       "    </tr>\n",
       "    <tr>\n",
       "      <th>2</th>\n",
       "      <td>c-9</td>\n",
       "      <td>c-2</td>\n",
       "      <td>c-5</td>\n",
       "      <td>1422</td>\n",
       "      <td>XE</td>\n",
       "      <td>RDU</td>\n",
       "      <td>CLE</td>\n",
       "      <td>416</td>\n",
       "      <td>N</td>\n",
       "    </tr>\n",
       "    <tr>\n",
       "      <th>3</th>\n",
       "      <td>c-11</td>\n",
       "      <td>c-25</td>\n",
       "      <td>c-6</td>\n",
       "      <td>1015</td>\n",
       "      <td>OO</td>\n",
       "      <td>DEN</td>\n",
       "      <td>MEM</td>\n",
       "      <td>872</td>\n",
       "      <td>N</td>\n",
       "    </tr>\n",
       "    <tr>\n",
       "      <th>4</th>\n",
       "      <td>c-10</td>\n",
       "      <td>c-7</td>\n",
       "      <td>c-6</td>\n",
       "      <td>1828</td>\n",
       "      <td>WN</td>\n",
       "      <td>MDW</td>\n",
       "      <td>OMA</td>\n",
       "      <td>423</td>\n",
       "      <td>Y</td>\n",
       "    </tr>\n",
       "  </tbody>\n",
       "</table>\n",
       "</div>"
      ],
      "text/plain": [
       "  Month DayofMonth DayOfWeek  DepTime UniqueCarrier Origin Dest  Distance  \\\n",
       "0   c-8       c-21       c-7     1934            AA    ATL  DFW       732   \n",
       "1   c-4       c-20       c-3     1548            US    PIT  MCO       834   \n",
       "2   c-9        c-2       c-5     1422            XE    RDU  CLE       416   \n",
       "3  c-11       c-25       c-6     1015            OO    DEN  MEM       872   \n",
       "4  c-10        c-7       c-6     1828            WN    MDW  OMA       423   \n",
       "\n",
       "  dep_delayed_15min  \n",
       "0                 N  \n",
       "1                 N  \n",
       "2                 N  \n",
       "3                 N  \n",
       "4                 Y  "
      ]
     },
     "execution_count": 9,
     "metadata": {},
     "output_type": "execute_result"
    }
   ],
   "source": [
    "train_df.head()"
   ]
  },
  {
   "cell_type": "markdown",
   "metadata": {
    "colab_type": "text",
    "id": "UxGBsPQhffgd"
   },
   "source": [
    "**<font color='teal'> Use the describe function to review the numeric columns in the train dataframe. </font>**"
   ]
  },
  {
   "cell_type": "code",
   "execution_count": 10,
   "metadata": {
    "colab": {
     "base_uri": "https://localhost:8080/",
     "height": 297
    },
    "colab_type": "code",
    "id": "_bRRKG3DAtae",
    "outputId": "7cfb9975-ec97-422c-abbd-98923a0b7aec"
   },
   "outputs": [
    {
     "data": {
      "text/html": [
       "<div>\n",
       "<style scoped>\n",
       "    .dataframe tbody tr th:only-of-type {\n",
       "        vertical-align: middle;\n",
       "    }\n",
       "\n",
       "    .dataframe tbody tr th {\n",
       "        vertical-align: top;\n",
       "    }\n",
       "\n",
       "    .dataframe thead th {\n",
       "        text-align: right;\n",
       "    }\n",
       "</style>\n",
       "<table border=\"1\" class=\"dataframe\">\n",
       "  <thead>\n",
       "    <tr style=\"text-align: right;\">\n",
       "      <th></th>\n",
       "      <th>DepTime</th>\n",
       "      <th>Distance</th>\n",
       "    </tr>\n",
       "  </thead>\n",
       "  <tbody>\n",
       "    <tr>\n",
       "      <th>count</th>\n",
       "      <td>100000.000000</td>\n",
       "      <td>100000.00000</td>\n",
       "    </tr>\n",
       "    <tr>\n",
       "      <th>mean</th>\n",
       "      <td>1341.523880</td>\n",
       "      <td>729.39716</td>\n",
       "    </tr>\n",
       "    <tr>\n",
       "      <th>std</th>\n",
       "      <td>476.378445</td>\n",
       "      <td>574.61686</td>\n",
       "    </tr>\n",
       "    <tr>\n",
       "      <th>min</th>\n",
       "      <td>1.000000</td>\n",
       "      <td>30.00000</td>\n",
       "    </tr>\n",
       "    <tr>\n",
       "      <th>25%</th>\n",
       "      <td>931.000000</td>\n",
       "      <td>317.00000</td>\n",
       "    </tr>\n",
       "    <tr>\n",
       "      <th>50%</th>\n",
       "      <td>1330.000000</td>\n",
       "      <td>575.00000</td>\n",
       "    </tr>\n",
       "    <tr>\n",
       "      <th>75%</th>\n",
       "      <td>1733.000000</td>\n",
       "      <td>957.00000</td>\n",
       "    </tr>\n",
       "    <tr>\n",
       "      <th>max</th>\n",
       "      <td>2534.000000</td>\n",
       "      <td>4962.00000</td>\n",
       "    </tr>\n",
       "  </tbody>\n",
       "</table>\n",
       "</div>"
      ],
      "text/plain": [
       "             DepTime      Distance\n",
       "count  100000.000000  100000.00000\n",
       "mean     1341.523880     729.39716\n",
       "std       476.378445     574.61686\n",
       "min         1.000000      30.00000\n",
       "25%       931.000000     317.00000\n",
       "50%      1330.000000     575.00000\n",
       "75%      1733.000000     957.00000\n",
       "max      2534.000000    4962.00000"
      ]
     },
     "execution_count": 10,
     "metadata": {},
     "output_type": "execute_result"
    }
   ],
   "source": [
    "train_df.describe()"
   ]
  },
  {
   "cell_type": "markdown",
   "metadata": {
    "colab_type": "text",
    "id": "i6k-_fI5Aiyh"
   },
   "source": [
    "Notice, `DepTime` is the departure time in a numeric representation in 2400 hours. "
   ]
  },
  {
   "cell_type": "markdown",
   "metadata": {
    "colab_type": "text",
    "id": "gtZS4-hrlQah"
   },
   "source": [
    " **<font color='teal'>The response variable is 'dep_delayed_15min' which is a categorical column, so we need to map the Y for yes and N for no values to 1 and 0. Run the code in the next cell to do this.</font>**"
   ]
  },
  {
   "cell_type": "code",
   "execution_count": 11,
   "metadata": {
    "ExecuteTime": {
     "end_time": "2019-04-22T15:38:42.677690Z",
     "start_time": "2019-04-22T15:38:42.481963Z"
    },
    "colab": {},
    "colab_type": "code",
    "id": "yRlOTbnW-KYc"
   },
   "outputs": [],
   "source": [
    "#train_df = train_df[train_df.DepTime <= 2400].copy()\n",
    "y_train = train_df['dep_delayed_15min'].map({'Y': 1, 'N': 0}).values"
   ]
  },
  {
   "cell_type": "markdown",
   "metadata": {
    "colab_type": "text",
    "id": "z3WPkFQO9uo9"
   },
   "source": [
    "## Feature Engineering\n",
    "Use these defined functions to create additional features for the model. Run the cell to add the functions to your workspace."
   ]
  },
  {
   "cell_type": "code",
   "execution_count": 12,
   "metadata": {
    "colab": {},
    "colab_type": "code",
    "id": "cXqsqz5W9t3r"
   },
   "outputs": [],
   "source": [
    "def label_enc(df_column):\n",
    "    df_column = LabelEncoder().fit_transform(df_column)\n",
    "    return df_column\n",
    "\n",
    "def make_harmonic_features_sin(value, period=2400):\n",
    "    value *= 2 * np.pi / period \n",
    "    return np.sin(value)\n",
    "\n",
    "def make_harmonic_features_cos(value, period=2400):\n",
    "    value *= 2 * np.pi / period \n",
    "    return np.cos(value)\n",
    "\n",
    "def feature_eng(df):\n",
    "    df['flight'] = df['Origin']+df['Dest']\n",
    "    df['Month'] = df.Month.map(lambda x: x.split('-')[-1]).astype('int32')\n",
    "    df['DayofMonth'] = df.DayofMonth.map(lambda x: x.split('-')[-1]).astype('uint8')\n",
    "    df['begin_of_month'] = (df['DayofMonth'] < 10).astype('uint8')\n",
    "    df['midddle_of_month'] = ((df['DayofMonth'] >= 10)&(df['DayofMonth'] < 20)).astype('uint8')\n",
    "    df['end_of_month'] = (df['DayofMonth'] >= 20).astype('uint8')\n",
    "    df['DayOfWeek'] = df.DayOfWeek.map(lambda x: x.split('-')[-1]).astype('uint8')\n",
    "    df['hour'] = df.DepTime.map(lambda x: x/100).astype('int32')\n",
    "    df['morning'] = df['hour'].map(lambda x: 1 if (x <= 11)& (x >= 7) else 0).astype('uint8')\n",
    "    df['day'] = df['hour'].map(lambda x: 1 if (x >= 12) & (x <= 18) else 0).astype('uint8')\n",
    "    df['evening'] = df['hour'].map(lambda x: 1 if (x >= 19) & (x <= 23) else 0).astype('uint8')\n",
    "    df['night'] = df['hour'].map(lambda x: 1 if (x >= 0) & (x <= 6) else 0).astype('int32')\n",
    "    df['winter'] = df['Month'].map(lambda x: x in [12, 1, 2]).astype('int32')\n",
    "    df['spring'] = df['Month'].map(lambda x: x in [3, 4, 5]).astype('int32')\n",
    "    df['summer'] = df['Month'].map(lambda x: x in [6, 7, 8]).astype('int32')\n",
    "    df['autumn'] = df['Month'].map(lambda x: x in [9, 10, 11]).astype('int32')\n",
    "    df['holiday'] = (df['DayOfWeek'] >= 5).astype(int) \n",
    "    df['weekday'] = (df['DayOfWeek'] < 5).astype(int)\n",
    "    df['airport_dest_per_month'] = df.groupby(['Dest', 'Month'])['Dest'].transform('count')\n",
    "    df['airport_origin_per_month'] = df.groupby(['Origin', 'Month'])['Origin'].transform('count')\n",
    "    df['airport_dest_count'] = df.groupby(['Dest'])['Dest'].transform('count')\n",
    "    df['airport_origin_count'] = df.groupby(['Origin'])['Origin'].transform('count')\n",
    "    df['carrier_count'] = df.groupby(['UniqueCarrier'])['Dest'].transform('count')\n",
    "    df['carrier_count_per month'] = df.groupby(['UniqueCarrier', 'Month'])['Dest'].transform('count')\n",
    "    df['deptime_cos'] = df['DepTime'].map(make_harmonic_features_cos)\n",
    "    df['deptime_sin'] = df['DepTime'].map(make_harmonic_features_sin)\n",
    "    df['flightUC'] = df['flight']+df['UniqueCarrier']\n",
    "    df['DestUC'] = df['Dest']+df['UniqueCarrier']\n",
    "    df['OriginUC'] = df['Origin']+df['UniqueCarrier']\n",
    "    return df.drop('DepTime', axis=1)"
   ]
  },
  {
   "cell_type": "markdown",
   "metadata": {
    "colab_type": "text",
    "id": "-BYbxXpU-FGE"
   },
   "source": [
    "Concatenate the training and testing dataframes.\n"
   ]
  },
  {
   "cell_type": "code",
   "execution_count": 13,
   "metadata": {
    "colab": {},
    "colab_type": "code",
    "id": "Cj6bfSNw_RAf"
   },
   "outputs": [],
   "source": [
    "full_df = pd.concat([train_df.drop('dep_delayed_15min', axis=1), test_df])\n",
    "full_df = feature_eng(full_df)"
   ]
  },
  {
   "cell_type": "markdown",
   "metadata": {
    "colab_type": "text",
    "id": "GSO8JbfM_W-F"
   },
   "source": [
    "Apply the earlier defined feature engineering functions to the full dataframe."
   ]
  },
  {
   "cell_type": "code",
   "execution_count": 14,
   "metadata": {
    "colab": {},
    "colab_type": "code",
    "id": "x6RfAINftjwi"
   },
   "outputs": [],
   "source": [
    "for column in ['UniqueCarrier', 'Origin', 'Dest','flight',  'flightUC', 'DestUC', 'OriginUC']:\n",
    "    full_df[column] = label_enc(full_df[column])"
   ]
  },
  {
   "cell_type": "markdown",
   "metadata": {
    "colab_type": "text",
    "id": "IJAw1RGB_ZuM"
   },
   "source": [
    "\n",
    "Split the new full dataframe into X_train and X_test. "
   ]
  },
  {
   "cell_type": "code",
   "execution_count": 15,
   "metadata": {
    "colab": {},
    "colab_type": "code",
    "id": "15cPtQU5tjfz"
   },
   "outputs": [],
   "source": [
    "X_train = full_df[:train_df.shape[0]]\n",
    "X_test = full_df[train_df.shape[0]:]"
   ]
  },
  {
   "cell_type": "markdown",
   "metadata": {
    "colab_type": "text",
    "id": "umfAw-9JErLV"
   },
   "source": [
    "Create a list of the categorical features."
   ]
  },
  {
   "cell_type": "code",
   "execution_count": 16,
   "metadata": {
    "ExecuteTime": {
     "end_time": "2019-04-22T14:31:58.412296Z",
     "start_time": "2019-04-22T14:31:58.409088Z"
    },
    "colab": {},
    "colab_type": "code",
    "id": "5ibeVyNb-KZI"
   },
   "outputs": [],
   "source": [
    "categorical_features = ['Month',  'DayOfWeek', 'UniqueCarrier', 'Origin', 'Dest','flight',  'flightUC', 'DestUC', 'OriginUC']"
   ]
  },
  {
   "cell_type": "markdown",
   "metadata": {
    "colab_type": "text",
    "id": "NzMIsMPIETVk"
   },
   "source": [
    "Let's build a light GBM model to test the bayesian optimizer."
   ]
  },
  {
   "cell_type": "markdown",
   "metadata": {
    "ExecuteTime": {
     "end_time": "2019-04-22T15:18:04.466965Z",
     "start_time": "2019-04-22T15:18:04.457992Z"
    },
    "colab_type": "text",
    "id": "2hfm1i5G-KZH"
   },
   "source": [
    "### [LightGBM](https://lightgbm.readthedocs.io/en/latest/) is a gradient boosting framework that uses tree-based learning algorithms. It is designed to be distributed and efficient with the following advantages:\n",
    "\n",
    "* Faster training speed and higher efficiency.\n",
    "* Lower memory usage.\n",
    "* Better accuracy.\n",
    "* Support of parallel and GPU learning.\n",
    "* Capable of handling large-scale data."
   ]
  },
  {
   "cell_type": "markdown",
   "metadata": {
    "colab_type": "text",
    "id": "jf-3F2Wg-KZL"
   },
   "source": [
    "First, we define the function we want to maximize and that will count cross-validation metrics of lightGBM for our parameters.\n",
    "\n",
    "Some params such as num_leaves, max_depth, min_child_samples, min_data_in_leaf should be integers."
   ]
  },
  {
   "cell_type": "code",
   "execution_count": 17,
   "metadata": {},
   "outputs": [],
   "source": [
    "def lgb_eval(num_leaves, max_depth, lambda_l2, lambda_l1, min_child_samples, min_data_in_leaf):\n",
    "    params = {\n",
    "        \"objective\": \"binary\",\n",
    "        \"metric\": \"auc\", \n",
    "        'is_unbalance': True,\n",
    "        \"num_leaves\": int(num_leaves),\n",
    "        \"max_depth\": int(max_depth),\n",
    "        \"lambda_l2\": lambda_l2,\n",
    "        \"lambda_l1\": lambda_l1,\n",
    "        \"num_threads\": 20,\n",
    "        \"min_child_samples\": int(min_child_samples),\n",
    "        'min_data_in_leaf': int(min_data_in_leaf),\n",
    "        \"learning_rate\": 0.03,\n",
    "        \"subsample_freq\": 5,\n",
    "        \"bagging_seed\": 42,\n",
    "        \"verbosity\": -1,\n",
    "        \"early_stopping_rounds\": 100,\n",
    "        \"verbose\": -1  # Add verbose parameter here\n",
    "    }\n",
    "    \n",
    "    lgtrain = lightgbm.Dataset(X_train, y_train, categorical_feature=categorical_features)\n",
    "    cv_result = lightgbm.cv(params,\n",
    "                            lgtrain,\n",
    "                            num_boost_round=1000,\n",
    "                            stratified=True,\n",
    "                            nfold=3)\n",
    "    \n",
    "    # Print the cv_result to inspect available metrics\n",
    "    print(cv_result)\n",
    "    \n",
    "    # Return a placeholder value for now\n",
    "    return 0\n"
   ]
  },
  {
   "cell_type": "markdown",
   "metadata": {
    "colab_type": "text",
    "id": "FJwqBhdeF11Q"
   },
   "source": [
    "Apply the Bayesian optimizer to the function we created in the previous step to identify the best hyperparameters. We will run 10 iterations and set init_points = 2.\n"
   ]
  },
  {
   "cell_type": "code",
   "execution_count": 18,
   "metadata": {
    "ExecuteTime": {
     "end_time": "2019-04-22T15:48:04.682447Z",
     "start_time": "2019-04-22T15:40:14.641634Z"
    },
    "colab": {
     "base_uri": "https://localhost:8080/",
     "height": 51
    },
    "colab_type": "code",
    "id": "JheCOkUE-KZP",
    "outputId": "8f37ee51-885d-44e4-cdcd-ceb7abd58b61"
   },
   "outputs": [
    {
     "name": "stdout",
     "output_type": "stream",
     "text": [
      "|   iter    |  target   | lambda_l1 | lambda_l2 | max_depth | min_ch... | min_da... | num_le... |\n",
      "-------------------------------------------------------------------------------------------------\n",
      "{'valid auc-mean': [0.6990959156076887, 0.7059307510779691, 0.7100726021331635, 0.7119904391999975, 0.7137135460584195, 0.7149647265907223, 0.7159323448328708, 0.717113936165474, 0.7176882512248396, 0.7186431005631205, 0.7193381511002673, 0.7197216989644918, 0.7198108395084134, 0.7201214020564045, 0.7202817348657028, 0.720266649050385, 0.7204859033485024, 0.7205231706764658, 0.7206477089209438, 0.7208859163011576, 0.7209092669604314, 0.7210873301348578, 0.7210842943242274, 0.7212009173890171, 0.721298543016791, 0.7214714905055549, 0.7217633227571759, 0.7219244922255803, 0.7221214510901337, 0.7222174537569216, 0.7223828576120656, 0.7224343458107105, 0.7224408311134881, 0.7224632088955248, 0.722516629907786, 0.7224714432341552, 0.7225700587671898, 0.722650637611483, 0.7227255022583874, 0.7227578746553244, 0.7228078816610178, 0.7228274510010194, 0.7228466844078741, 0.7229454872518354, 0.7229620041385979, 0.722982931612223, 0.7230015732734575, 0.722978476571113, 0.723077570801387, 0.7230671149173599, 0.723083808739346, 0.7230527129276653, 0.7230309051804511, 0.7230495261190503, 0.7230057779089002, 0.7230322738011479, 0.7229824106893646, 0.7229656884049686, 0.7230046325167784, 0.7230727442789612, 0.7231118083201252, 0.7231021815800807, 0.7231911340057594, 0.7232606348689568, 0.7233071414145978, 0.7233992524134402, 0.7234630612993421, 0.7235196057265553, 0.7235399968807323, 0.723633196026178, 0.723742093551533, 0.7237812893796735, 0.7238815834495257, 0.7239264305087377, 0.7240589877702636, 0.7240701336234072, 0.7241002581812808, 0.724155202576743, 0.7242407697409262, 0.7242847810748252, 0.7243744910179776, 0.7243758811971447, 0.7244106428720087, 0.7245221486418393, 0.7246551213154637, 0.7247226374574698, 0.7247820803927926, 0.7248276017993035, 0.7248276373103372, 0.7248862336400711, 0.724978353308335, 0.7250077630937447, 0.7251238240742929, 0.725136649196687, 0.7251555482386988, 0.7251683303670956, 0.7251913265297766, 0.7252194592071861, 0.7252812267702268, 0.7252721209776292, 0.7253122629825451, 0.7253666874840522, 0.7253605116788832, 0.7253970553801854, 0.7254230539851036, 0.7254669582216239, 0.7254743316475131, 0.7255247182135992, 0.7255337588575438, 0.7254934361328024, 0.7255376280915251, 0.7255274252655702, 0.7255133679985751, 0.7255134518395666, 0.7255825523275464, 0.7256107307517318, 0.7256487981779532, 0.7256508199973383, 0.7256308284160378, 0.7256268147337832, 0.7256934356268993, 0.7256777532316169, 0.725708433666784, 0.7257067716632598, 0.7257374788043324, 0.7257590055962794, 0.7257446803073759, 0.725730237745381, 0.7256907134544747, 0.7257648648486906, 0.7257674220377585, 0.7257636635283472, 0.7257952370947853, 0.7258269371258675, 0.7258196592655173, 0.7258155198250565, 0.7257946828866378, 0.725799647368773, 0.7257555055509896, 0.7258022231731323, 0.7257760824257967, 0.7258111241539345, 0.7258129744319949, 0.7258655056179634, 0.7258966061776756, 0.7259093667071136, 0.72590177238277, 0.7259311516043746, 0.7259025747171922, 0.725931202025452, 0.7259746208187807, 0.7259912594534867, 0.7260275958532273, 0.7259982984779022, 0.72603153238254, 0.7260756714820119, 0.7261386452890451, 0.726167255887456, 0.7261295485862203, 0.726125925816218, 0.7260976560874024, 0.7260773167990862, 0.7260863926527268, 0.726141025675063, 0.7261347322178408, 0.7261636469647761, 0.7261499165803817, 0.7261348298565445, 0.7261478269635804, 0.7261864436051488, 0.7262067062158925, 0.7261982236778705, 0.7262336832068864, 0.7262060695742214, 0.7262199634201423, 0.7262418928039657, 0.7262253419344532, 0.7262191313499261, 0.7262558084536308, 0.7262541190063962, 0.7262385206876086, 0.7262174648202815, 0.726207615785996, 0.7262053431376003, 0.7261769219295903, 0.726177201919986, 0.726165504848347, 0.7261773936851056, 0.7262116253317994, 0.7262323156376622, 0.726214497807344, 0.7262353108100138, 0.7262289227660051, 0.7262573822428031], 'valid auc-stdv': [0.004136671787388047, 0.003930880563999932, 0.004772322359355123, 0.004988409191005212, 0.004758266450313685, 0.005118413062816761, 0.005176353726114454, 0.005230653750489043, 0.005080188779170038, 0.004793453574249589, 0.004995355199196056, 0.0051156990779033535, 0.0051832311271573965, 0.005166229046982672, 0.00531778420440679, 0.005393624478236496, 0.0052216084033012864, 0.005264721991070557, 0.005188542356169778, 0.005007177066724254, 0.005181292990468129, 0.0051074441497059725, 0.005148067858567286, 0.00503472701321841, 0.005006592043680573, 0.005003931169337175, 0.004880535300137254, 0.004834950296711305, 0.004841602703809706, 0.004834050932009941, 0.004778180785208544, 0.0047303589223961, 0.00470206835708601, 0.004640159106579441, 0.004749901449414195, 0.004656194446055807, 0.004733149815298702, 0.004771754788440121, 0.004809000071987714, 0.004765346697085246, 0.004806915061552727, 0.0047721675592458665, 0.004755362502092115, 0.004684617425820268, 0.004726914931979631, 0.004709700323413857, 0.004646727312241488, 0.00456704767166123, 0.00462625031505022, 0.0046360389044707555, 0.004686758692880679, 0.004617766155269221, 0.004579523219755059, 0.00454115431189762, 0.004490482408278131, 0.004478624854593552, 0.0044290021148516885, 0.00441450322752002, 0.0043358183584016755, 0.004303638252826571, 0.0043967572473866505, 0.0044120885202851064, 0.004404565985105923, 0.004388055648671118, 0.004320756255582294, 0.004294939782544381, 0.0043751755588018965, 0.00435779600425677, 0.004348528890350693, 0.004360564811678705, 0.004430979447856471, 0.004410679208238562, 0.004461470206759018, 0.004538049162830287, 0.004502390336163375, 0.004531025838952536, 0.004610948442400583, 0.004615437159266691, 0.004641113848408924, 0.004612060627321839, 0.0046564615444748235, 0.0045977222035390565, 0.004596446672465607, 0.004621856185922882, 0.004638487313366615, 0.004628872314183241, 0.004586993023895585, 0.0046107150648107675, 0.004572566870672777, 0.004542831993476548, 0.004528019706192309, 0.004467702634538335, 0.004495913313011031, 0.0044994693009384615, 0.004514635372790949, 0.00453504213845052, 0.004539424795658908, 0.004480732379676327, 0.004482648809464759, 0.004487845739854398, 0.0045140316311500705, 0.004495304016009768, 0.004469859123210727, 0.004462324236524963, 0.004468493556600442, 0.00449468216821766, 0.004455595896117722, 0.004378467505012462, 0.004361903220585191, 0.004378438089999494, 0.0043612848138793936, 0.0043889950199239285, 0.004407163083591979, 0.00439329420037609, 0.004363062364613081, 0.004337830844167063, 0.004324362242048632, 0.004324703036747738, 0.00430668775345682, 0.00426777826289537, 0.004316320825996561, 0.004291410896845241, 0.00430143392010894, 0.004257121024508474, 0.004293561896309891, 0.004306058844479798, 0.004286511465053241, 0.004302378710003639, 0.004293742150268573, 0.004295416311922064, 0.00427276815252188, 0.00427322289305327, 0.0042361198662266755, 0.004260228546791138, 0.00426859602304754, 0.004303875985712196, 0.004278392865672435, 0.004252978629779717, 0.00423863072094361, 0.004179948862954724, 0.00418257614194999, 0.004258479733485646, 0.004273990995386815, 0.004342588796444658, 0.004355421233489349, 0.004322304971170835, 0.004299870851438069, 0.004269368170786917, 0.004251857337802461, 0.004266444846321235, 0.004288022763675081, 0.004261419054274889, 0.004253060530188911, 0.004272335025456762, 0.004251021655442285, 0.004313678891561951, 0.004336319149372794, 0.00431289162097673, 0.004321161345557118, 0.004403988908194138, 0.004412610439617453, 0.004415787735894678, 0.004391903797962269, 0.004353466639743239, 0.004324044525510533, 0.004374735233471358, 0.004394215237776863, 0.0044128641358985735, 0.004378371957168385, 0.004441165758898061, 0.0044217726923947605, 0.004446976282896329, 0.004453624447524483, 0.004436189773828612, 0.0044146458287891805, 0.004335538371104749, 0.004295867507927244, 0.00425926148879859, 0.0042939770430724675, 0.0043147460043214455, 0.004324012178761223, 0.004301233400607412, 0.0043009078279412, 0.00429476558420332, 0.004284131936921559, 0.004296699742489785, 0.004321385226449948, 0.004346969874337349, 0.004354574848740994, 0.004361615008454004, 0.004331895464105516, 0.004333909836543957, 0.004319552652601603, 0.00425504255939696]}\n",
      "| \u001b[0m1        \u001b[0m | \u001b[0m0.0      \u001b[0m | \u001b[0m0.04156  \u001b[0m | \u001b[0m0.0007267\u001b[0m | \u001b[0m31.95    \u001b[0m | \u001b[0m7.222e+03\u001b[0m | \u001b[0m734.0    \u001b[0m | \u001b[0m1.698e+03\u001b[0m |\n"
     ]
    },
    {
     "name": "stdout",
     "output_type": "stream",
     "text": [
      "{'valid auc-mean': [0.6989784590962215, 0.7060171054613124, 0.7086452198617358, 0.7109847638602084, 0.713172681546177, 0.7141428845602352, 0.7153403770335514, 0.7161458294837398, 0.7165599024767193, 0.7172274670554857, 0.7174064415503546, 0.7177831604335801, 0.7180667044413637, 0.7183956862965711, 0.7190239695381772, 0.7193591210182134, 0.7194626573458193, 0.7197767572079359, 0.7200082424189113, 0.7202098335992085, 0.7204408913074479, 0.7208637302314935, 0.7209413229387307, 0.7211794885860005, 0.7213226130271795, 0.7214329200943519, 0.7214613833889936, 0.7214764000827113, 0.7215380139377845, 0.7216938938930314, 0.7217446490255929, 0.7218749685525978, 0.7219276140875155, 0.721999842132487, 0.7221262088233754, 0.7222558046011724, 0.7222865441490117, 0.7222953599750586, 0.7224013600973525, 0.7224761411796897, 0.7225662844033781, 0.722694276541017, 0.7227720562608716, 0.7228605695178544, 0.7229995354178529, 0.7231419220541829, 0.7232117988811915, 0.7232559479839309, 0.7232876168627381, 0.7233253476118069, 0.7233757545391614, 0.723434726628606, 0.7234638725828914, 0.7236067494057573, 0.7236679896852222, 0.7237904141399523, 0.7237923696188181, 0.7239105758237625, 0.723956631333531, 0.7240232068298812, 0.7240736626601603, 0.7241757005474039, 0.7242426335491438, 0.7243329543780428, 0.7244658287333857, 0.7245440940418005, 0.724610663426421, 0.7246912073839877, 0.7247929192431418, 0.7248628404321723, 0.7249388572635881, 0.7250182856852825, 0.7251124815772311, 0.7251800746058135, 0.7252058181239129, 0.7252881028985473, 0.7253877776086064, 0.7255094507816179, 0.7255330901377364, 0.7255771038447678, 0.7256268997909773, 0.7257143433759299, 0.7257768789752447, 0.7258163499032649, 0.7258740894798551, 0.7259229030905848, 0.725998668004706, 0.7260684145033663, 0.726099382004557, 0.7261570990845935, 0.7261314515542949, 0.7261693485394455, 0.7261874704939159, 0.7262004732717079, 0.7262390958607451, 0.7262760249124259, 0.7262908228943874, 0.726348038406897, 0.7263607826914358, 0.7263938631405549, 0.726382363206266, 0.7264504577855382, 0.7264919571851193, 0.7264684699551444, 0.7265412068476594, 0.7265108376915185, 0.7265559940625178, 0.7265888347111188, 0.7265990799941578, 0.7266639743116688, 0.7267249917030508, 0.7267439270651792, 0.7268100091061408, 0.7268430892003463, 0.7268944266729603, 0.7268905760717926, 0.7269661871655306, 0.7270233795224232, 0.7270364910383657, 0.7270588555363124, 0.7270993552684212, 0.7271392686614632, 0.727230532880721, 0.7272403729726938, 0.7273356792491859, 0.7273741713125164, 0.7274200230994222, 0.7274757490126432, 0.7275766874340528, 0.7275845618125354, 0.7275983506155663, 0.7276831585779872, 0.7276443680161933, 0.7276829780615772, 0.7276909383851501, 0.727749282048428, 0.7277943690130022, 0.7278133757838748, 0.7278863606777742, 0.7279661694724417, 0.7280487989664587, 0.7280568760551253, 0.7280959772948566, 0.7281094798032349, 0.7281496888139706, 0.7281626676334438, 0.7282310957572274, 0.7282959566615302, 0.728307152865807, 0.7283595201475087, 0.7284116730171927, 0.7284304307688824, 0.7284357948314656, 0.7284814154313194, 0.7285283006697548, 0.7285438588555575, 0.7285945254578999, 0.7286715938292828, 0.7287755003320839, 0.7287740205802384, 0.728840106393652, 0.7288283356267736, 0.728873166066776, 0.7289524753648462, 0.729005556849506, 0.7290478834498787, 0.7290411644317413, 0.7290599670618155, 0.7290797012861342, 0.7290922009385151, 0.7291066081964971, 0.7291119818938782, 0.7291825874986962, 0.7292508564844514, 0.7292659327754042, 0.7292933748808057, 0.7293347263796028, 0.7293805942002046, 0.7293948166770464, 0.729466057659418, 0.7294785853976992, 0.7294849907231535, 0.7295401349232252, 0.7295712479959091, 0.7296002280741098, 0.7296681688442114, 0.7297087706784106, 0.7297211837927605, 0.7297678747890369, 0.7297796292818847, 0.7298420912003456, 0.7299009119318806, 0.7299017096266852, 0.7298975512251052, 0.7298885986371282, 0.7299372320005534, 0.729971368594898, 0.7300132593651911, 0.7300224163019969, 0.7300439454514649, 0.7300591812427867, 0.7301089679512224, 0.7301337624029071, 0.7301205814307133, 0.730128433834773, 0.7301146048393763, 0.730077228821178, 0.7300675070386987, 0.7300490379799238, 0.7300420599182808, 0.7300725679820932, 0.7300977894921871, 0.7301207502221434, 0.7301985053997161, 0.7302072406254662, 0.7302270207023426, 0.7302546539810049, 0.7302535510106344, 0.73023241515661, 0.7302184067971543, 0.7302293462539028, 0.7302404301362103, 0.730225414345027, 0.7302316687983605, 0.7302380049213822, 0.7302416352878452, 0.7302454281433922, 0.7302424219958352, 0.7302541421235828, 0.730266543444162, 0.730261741230894, 0.7302302783653748, 0.7302381247371311, 0.730248138661214, 0.730229100719102, 0.7302275328047861, 0.7302403660650968, 0.7302465306115334, 0.7302352333605326, 0.730256852478946, 0.7302794846459788, 0.7302650815855228, 0.7302665213582608, 0.7303058513545139, 0.7303346448736177, 0.7303511418120722, 0.7303151471757005, 0.7303429751318351, 0.7303518370250678, 0.7303567103053982, 0.7303567108420227, 0.7303448026632725, 0.730344837554974, 0.7303537964834425, 0.7303538806753814, 0.7303623340197145, 0.7303483100418303, 0.7303104801911755, 0.7303106124831932, 0.7303068313085687, 0.7303074970080782, 0.7303241384135539, 0.7303273204296109, 0.7303161108643774, 0.7303076662181648, 0.7303019856864686, 0.7303241431557806, 0.7303341642816075, 0.7303090161434945, 0.730285691498218, 0.7303090531648934, 0.7303053973693334, 0.7303094389030665, 0.7303154597797753, 0.7303170866052587, 0.7303028995607092, 0.7303197849927835, 0.7303062848523459, 0.7302968906800329, 0.7302859516393453, 0.7302860901312446, 0.7302735857853094, 0.7302812509660893, 0.730290116373701, 0.7303269035406772, 0.7303226871389366, 0.7303114555730331, 0.7303484776374284, 0.7303394198421201, 0.7303591996210481, 0.7303493733577217, 0.730369058439286, 0.7303810708012236, 0.7303634978681308, 0.730368901479916, 0.7303751811411923, 0.7303881703200723, 0.7304221432354141, 0.7304270059255934], 'valid auc-stdv': [0.00420799011330472, 0.004175240406177531, 0.0060098774900947715, 0.0051956294236386, 0.0051800514344413524, 0.005428654654663619, 0.005505543455411244, 0.005511950506386178, 0.005240265580815506, 0.005162244809000852, 0.005162179486902424, 0.005165919322960296, 0.005291158837232006, 0.005233316498603259, 0.005237223383386034, 0.005000345579135152, 0.005170004441260732, 0.0052193498473262845, 0.005227507514449121, 0.005208489569826658, 0.005097690294942513, 0.0051709084126440935, 0.004966042801013134, 0.004912707754740423, 0.004847271759697533, 0.004919850716411022, 0.004850372378243941, 0.004823885297140015, 0.004849628266651875, 0.004795877809744411, 0.004844776039715279, 0.004883556157622336, 0.004930972566861133, 0.004921692066070946, 0.00497045202254543, 0.004952166590082836, 0.00491721571068364, 0.004906993329630446, 0.005040915614215938, 0.0050345652707499845, 0.005016200519969615, 0.004992516080796081, 0.004970470248879831, 0.004911566783669711, 0.004873329755894412, 0.004919463860566229, 0.004892277891627173, 0.004813027963702373, 0.004716216193968522, 0.004755127568442356, 0.004709971782885236, 0.0046936026127095505, 0.004749820549613317, 0.004707600643745432, 0.004620434033344316, 0.004613121564956899, 0.004592024913171069, 0.004524916012619143, 0.0045194152756958825, 0.004486386059839687, 0.004501051408182653, 0.004441215060085136, 0.004436300960123846, 0.004469162429428979, 0.0044141740031613495, 0.004378800983494643, 0.004358811749098167, 0.004392305345591791, 0.004444411555417091, 0.004481163771007949, 0.004511303937890074, 0.004567622672485118, 0.004562169429096177, 0.004593256275430178, 0.0046222881166102054, 0.004583114572382223, 0.004613369867149943, 0.004622289934661226, 0.004619399695261861, 0.004673966736082553, 0.004668726322385289, 0.004617529330563802, 0.004611574850562407, 0.004605404568588624, 0.004559651223529057, 0.004519446433688136, 0.004556672272789865, 0.0045391968217545105, 0.004503183808718542, 0.004454428677658263, 0.004442870350442867, 0.004423952139841488, 0.004432058512521196, 0.004401168098245123, 0.004410571541694668, 0.004387868012147587, 0.004368664568959593, 0.004407117739978512, 0.004383914656346291, 0.004327783465693933, 0.00431081123049514, 0.004219001800103261, 0.004175051616523872, 0.004147830665800085, 0.00414606489644002, 0.004144098794227516, 0.004115277905202006, 0.0041175712271092025, 0.004087602512278907, 0.004095947879804279, 0.004046728376835744, 0.004037393210361667, 0.004022144922274652, 0.004006266078985728, 0.0039009307892653475, 0.003881087875163931, 0.0038120206645973916, 0.003769761777431451, 0.003743253495890032, 0.0037020000057643586, 0.003617697474703554, 0.003635618937467019, 0.00358030596848596, 0.0035244950059330087, 0.00354947311036223, 0.003499318562955295, 0.0035440314434482803, 0.0035340215157607406, 0.0035146887247864437, 0.003540058426324644, 0.003574820889052383, 0.0036252753047473544, 0.0036558022912916263, 0.003646082752058027, 0.00365763424014054, 0.0036207861573969743, 0.0036594939368588264, 0.0036293757167361568, 0.003673296887707427, 0.0037330906970644323, 0.0037334988721728873, 0.0037429950571089667, 0.0037998264065083214, 0.003790799205600815, 0.0038164917609265327, 0.003824138199205929, 0.0038450561499658712, 0.003891697316696022, 0.003911605042609958, 0.003911410656642272, 0.003933289375599994, 0.0039588962496842186, 0.004000062142113212, 0.004021935150161642, 0.004052445543567054, 0.004111343495867981, 0.004115504164503065, 0.004214606076420912, 0.004274754422160624, 0.004328063393459073, 0.00432296881439247, 0.0043370973208719955, 0.004362702425806004, 0.004452670866824679, 0.00444849890667266, 0.004452466482664843, 0.004449788880315018, 0.004469443009642277, 0.004517373496689991, 0.004554332591704007, 0.004554029567783847, 0.004599346651427507, 0.00461540117216088, 0.004617709359499941, 0.004630634169911075, 0.004657217636591922, 0.004671886128685648, 0.004685542152683393, 0.00468048560816932, 0.004752856507245326, 0.004743648401842016, 0.004769612335366149, 0.004762176900699101, 0.004733999052553668, 0.004719780438524452, 0.004793807128463172, 0.004831701710196069, 0.004812835513584283, 0.004825092465557323, 0.004803160769055002, 0.004835915472016164, 0.0048931895123793985, 0.004899405602810402, 0.004909687289101955, 0.0048914716119140954, 0.004890452629616729, 0.00487796948040679, 0.004874378872132673, 0.004902575839534658, 0.004953257390698911, 0.0049808801277951625, 0.0050057979870451776, 0.004995919440907145, 0.004974463069344341, 0.004926012604715422, 0.004913199998419764, 0.004902156637331434, 0.004917057269917423, 0.004967255170990842, 0.004972659415593337, 0.004941745521090693, 0.004993487010643712, 0.005029019516622787, 0.005021392999456405, 0.005008512524317211, 0.004990374339625754, 0.004994173815311042, 0.0049748613803517, 0.004972353794405818, 0.004978446067966285, 0.004935420781969942, 0.004929447940045944, 0.004901986851241253, 0.0048929433368825204, 0.0048727125192251355, 0.004811319544660683, 0.004796277555664417, 0.004790181999564774, 0.004788004174097219, 0.004783585921026638, 0.004780308547866103, 0.004796390532128359, 0.00476950043130799, 0.004739539438966656, 0.004714040856522627, 0.004688234539846924, 0.004680994831908143, 0.004687388154242902, 0.004667581104492722, 0.004647071036527718, 0.004665430254659954, 0.004657941807465296, 0.004674734662739941, 0.0046852932739829874, 0.004656273679657301, 0.004665053310699335, 0.004656322632091855, 0.004669048531687453, 0.004656636372318276, 0.004609785281867044, 0.004579849551315836, 0.004557801061134055, 0.0045497276447589025, 0.004555252768421403, 0.004531013108406133, 0.004513524929429012, 0.0045327642107418, 0.004540080426825198, 0.0045440628761068734, 0.004571883643135228, 0.004573309601044947, 0.00455680325313356, 0.004531823523016869, 0.004499222364733592, 0.004476028030612162, 0.004499171885971629, 0.004514664848745374, 0.004508716689495008, 0.004499972383546192, 0.004478750907396213, 0.004457740411383518, 0.0044287505626853085, 0.00444055591101721, 0.0044147273885984445, 0.004407478392013605, 0.0043944389654339885, 0.0043390244825927266, 0.004331433280428997, 0.004312279587431331, 0.0042745306619322914, 0.004265550807518943, 0.004281103055381899, 0.004267467128749872, 0.00428077106341098, 0.004261407513445438, 0.004255578554111833, 0.0042517751085062285, 0.0042571109816101176, 0.004240915408916186, 0.0042402483494281525, 0.004219800464264763, 0.004180443486157956, 0.004168033730452046, 0.004170782639553063, 0.004185823746479784, 0.004168116898647891, 0.004153810236926526, 0.004172024008821463, 0.004172299052692992]}\n",
      "| \u001b[0m2        \u001b[0m | \u001b[0m0.0      \u001b[0m | \u001b[0m0.03381  \u001b[0m | \u001b[0m0.01241  \u001b[0m | \u001b[0m54.47    \u001b[0m | \u001b[0m3.052e+03\u001b[0m | \u001b[0m948.5    \u001b[0m | \u001b[0m2.075e+03\u001b[0m |\n"
     ]
    },
    {
     "name": "stdout",
     "output_type": "stream",
     "text": [
      "{'valid auc-mean': [0.6973088979513862, 0.7042473880248754, 0.7075668953127113, 0.7094499042106451, 0.7112881874066317, 0.7121425802503687, 0.7131011928542402, 0.7133537028040271, 0.7141583738033367, 0.7148075392999438, 0.7152505689760016, 0.7158325218948395, 0.7164166160383744, 0.7165486352017026, 0.7169912220471891, 0.7172535522530565, 0.7175222544477483, 0.7178873705483534, 0.7181393363678916, 0.7183686127652159, 0.7186460506786935, 0.7189807587167584, 0.7191723041320345, 0.7193283643847006, 0.7194327159364265, 0.7194347743032111, 0.7197137471524608, 0.7199458835054721, 0.720131201733596, 0.7203632592359286, 0.7204889902014532, 0.7206049051496688, 0.7207325474179661, 0.7208807079182155, 0.7209621161499263, 0.7211272717868583, 0.7212872966267239, 0.721410523069219, 0.7215622119498261, 0.7217131089229102, 0.7217831896511758, 0.721912313199927, 0.7220795488525008, 0.7222339387003531, 0.7223616470465899, 0.7224753880686742, 0.7226531521846496, 0.7227466363963596, 0.7228896154524439, 0.7230020177332994, 0.7230312271641353, 0.7231015497695448, 0.7232221037765, 0.7233907928376424, 0.7235206163867195, 0.7236368354371665, 0.7238104429025501, 0.7239266392132967, 0.7239833278449153, 0.7240594118937863, 0.7242433194486528, 0.7243634481140441, 0.7244688846077686, 0.7245596334906663, 0.7246557521543138, 0.724756853556653, 0.7249297365924937, 0.7250461454983274, 0.7251459778778363, 0.7253145161502864, 0.7254431981375958, 0.7255957808007852, 0.7257050985839039, 0.7258584901012665, 0.7259481064232607, 0.7260373297736825, 0.7261712701900883, 0.7263457048822222, 0.7264673368948958, 0.7265921900183349, 0.7266412799572608, 0.7268550275730981, 0.7269884262266547, 0.727045361973636, 0.7271002049709221, 0.7273397334332193, 0.7275235273570398, 0.7275204942260712, 0.7276656283187702, 0.7277394770817494, 0.7279195165266835, 0.7280393955104395, 0.7281350755346244, 0.7282497680503365, 0.728347870455666, 0.7284524215078155, 0.7284942270255392, 0.7286272461892965, 0.7287427238354288, 0.7288479601659529, 0.7289169731135342, 0.7290997304206991, 0.7292643352953241, 0.7294218599893787, 0.7295149482768193, 0.7296432546993247, 0.7298128258709248, 0.7299281179231559, 0.7300065697826277, 0.7301416773809106, 0.7302577338589898, 0.7303981291331292, 0.7305317900758617, 0.7306880046846705, 0.7308218711098351, 0.7309572230677093, 0.7311147849527236, 0.7311812505762386, 0.7312418667637428, 0.7313423286158794, 0.7314131386468259, 0.7316059797182975, 0.7317156205307683, 0.7318737014430772, 0.73195123478559, 0.7320684370480564, 0.7321937381822385, 0.7322757778922496, 0.732404430494929, 0.7324586111803916, 0.7325680359605874, 0.7326518471635621, 0.7327809234076171, 0.7328599511010193, 0.7329274515049704, 0.7329962141446621, 0.7330780028117913, 0.733138327042215, 0.7332276156970062, 0.7332861335905, 0.7333472887713093, 0.7334091982924601, 0.7334633640510058, 0.7335243439591399, 0.7336316485838227, 0.7336734459861276, 0.7337552468640255, 0.7338276638316718, 0.7339073574437905, 0.7339684232715612, 0.7340313018864286, 0.7341514107362257, 0.7342174461951171, 0.7342623836032455, 0.7343609282151272, 0.7344121652313619, 0.734466493919136, 0.7345082406629131, 0.7345691478310169, 0.7346529722462626, 0.7347375484733257, 0.734814836600835, 0.7348788155096561, 0.7349786933474025, 0.7350172854335296, 0.7350758888465347, 0.7351163184537386, 0.7351900671489261, 0.7352444291792426, 0.7353209511513678, 0.7353948645962115, 0.7354380313394236, 0.7355292575197726, 0.7355690659641335, 0.7356175146069885, 0.7357091218329659, 0.735792300563818, 0.7358401168003125, 0.7358847533213418, 0.7359353735804345, 0.7359878654304953, 0.7360399138574768, 0.7360719003115994, 0.7361186772355163, 0.7361782308380836, 0.736260818172965, 0.7363301928494207, 0.7363829591256241, 0.736421995167417, 0.7364785483228916, 0.7365603101873468, 0.7366101031959656, 0.736694640212011, 0.7367360292447479, 0.7368158178925589, 0.736889939378067, 0.736904037330968, 0.7369538460392083, 0.7370002377462899, 0.7370320022661326, 0.7370662188095344, 0.7371260055152682, 0.7371722978921463, 0.7372217792157013, 0.737259899083094, 0.7373031255317745, 0.7373356857757217, 0.7373663640553771, 0.7374086476422114, 0.7374634513961759, 0.7375012888766775, 0.7375359838206682, 0.7375763118526715, 0.7376099890600409, 0.7376512962278222, 0.7376813874486333, 0.7376995171833668, 0.7377396373636275, 0.7377619993052885, 0.7377878736665481, 0.737812839332982, 0.7378474057607237, 0.7378961871960442, 0.7379365462420201, 0.7379798156270478, 0.738019129800808, 0.7380676679714906, 0.7380820792195452, 0.7381142212122302, 0.7381598443341186, 0.7381914259021181, 0.7382483929705748, 0.7382689879389028, 0.7383042179451821, 0.7383318900589652, 0.7383430263475437, 0.7383764814493777, 0.7384013052497108, 0.7384387013956569, 0.7384906467070761, 0.7385180348869721, 0.738551179025467, 0.7385810423179118, 0.7386111858347414, 0.7386352700992832, 0.7386566320577126, 0.73867115021527, 0.7386896887036164, 0.7387073021685934, 0.7387433706880446, 0.7388013307874811, 0.7388121792728803, 0.7388369016151155, 0.7388584852917907, 0.7388641342297694, 0.7389020239656209, 0.7389555509249647, 0.7389613437947099, 0.7389892926005439, 0.7390048573500826, 0.7390348121757387, 0.7390978453293972, 0.7391375803986042, 0.7391624818636986, 0.7391921992717756, 0.7392522363328456, 0.7392653222958826, 0.7392912258847938, 0.7393029518673883, 0.7393330509470596, 0.7393988448755723, 0.7394072860105068, 0.73945435412875, 0.7395009460625587, 0.7395525558329882, 0.7395704444901785, 0.7396032849840367, 0.7396568434106213, 0.7396663879102824, 0.7396766527207738, 0.7396931674074984, 0.739694895747828, 0.7397127919143734, 0.7397266678715587, 0.7397479808586335, 0.7397578795502692, 0.7397732869807653, 0.7397946916744701, 0.7398182814074538, 0.7398830290394818, 0.7399366561499013, 0.7399391607184665, 0.7399365223361972, 0.7399688375518997, 0.7399833810438045, 0.7400103858968046, 0.7400456350811749, 0.7400587017494508, 0.7400750568236069, 0.7400899854055817, 0.740117079699736, 0.7401282158726543, 0.7401596320927929, 0.7401888765809614, 0.7402043990197223, 0.740236060352616, 0.7402428764763657, 0.7402617883728507, 0.7402754579647187, 0.7402815598766411, 0.7402997072400183, 0.7403178392011451, 0.7403199117001851, 0.7403209486473458, 0.7403477648334004, 0.7403572060390329, 0.7403717397238747, 0.7403895625004843, 0.7404020918996914, 0.740394656595913, 0.7404094548598871, 0.7404361483950672, 0.7404613553150589, 0.7404728323395453, 0.7404938787501804, 0.7405178588241798, 0.7405323301608466, 0.7405286603573086, 0.7405443439950766, 0.7405556669399531, 0.7405866607885306, 0.7406109529432484, 0.7406114937564042, 0.7406347235590206, 0.740656777991223, 0.7406641957287311, 0.7406681085330654, 0.7406898381286479, 0.7407013521519635, 0.74070241076709, 0.7407247747738399, 0.7407524336185313, 0.7407716219297414, 0.7408046452584846, 0.740817241137847, 0.7408355943884679, 0.7408366569610743, 0.740857388108307, 0.7408769267551064, 0.7409006916792112, 0.7409165485950867, 0.7409154140356858, 0.7409088039481543, 0.7409449095580114, 0.7409626753698532, 0.7409642088492688, 0.74096949394901, 0.7409680830449, 0.740979629765612, 0.7409893397142285, 0.7409924706039962, 0.7410033264073048, 0.7410010768729922, 0.7410345949167351, 0.7410583188886409, 0.7410613876925608, 0.7410760184414812, 0.7410776647281501, 0.7410764170613842, 0.7411017273517664, 0.7411065745476862, 0.7411176579865324, 0.7411084033423042, 0.7411380564036728, 0.7411268580341496, 0.7411607102988089, 0.7411690153002666, 0.7411776510575111, 0.7411832626377811, 0.7411827409921163, 0.7411884755770927, 0.7412084382477263, 0.7412295761693634, 0.7412377119409048, 0.7412464257010951, 0.7412496601064059, 0.741265906227531, 0.7412631274185723, 0.7412870851236483, 0.7413022358119519, 0.7413056876927705, 0.7413201529498314, 0.7413299114446565, 0.7413306821152728, 0.7413455349904954, 0.7413442680818955, 0.7413576769618326, 0.7413686474324094, 0.7413719436985922, 0.7413835798730769, 0.7413947025639698, 0.7414024044603403, 0.7414183976298957, 0.7414186798048625, 0.7414206839686356, 0.7414295357857722, 0.7414394869559308, 0.7414567487407283, 0.7414651746081816, 0.7414740010939272, 0.7414801752117071, 0.741483360635424, 0.7414828214761994, 0.7415055004395339, 0.7415246423147638, 0.7415401295448382, 0.7415387011967521, 0.7415659158937552, 0.7415806792958802, 0.7415904863550127, 0.7416012237114625, 0.7415971099127439, 0.7416047901355244, 0.741607794602326, 0.7416101219940714, 0.7416143366204513, 0.7416467681922532, 0.7416440812293804, 0.7416584476249373, 0.7416580391684074, 0.7416595549004904, 0.7416723159648946, 0.7416901088413052, 0.7417032278773465, 0.7417109378207782, 0.7417294607801095, 0.7417310232492218, 0.7417516963961499, 0.7417682362818038, 0.7417720793726069, 0.7417797813012096, 0.741799856849978, 0.7418075314348115, 0.741806649811621, 0.7418028007918447, 0.741821522149904, 0.7418159822312235, 0.7418305998862014, 0.7418408801401885, 0.7418473210213109, 0.741856552038627, 0.7418594451827983, 0.7418504959204947, 0.7418604472725806, 0.7418684524614866, 0.7418670709608987, 0.7418726032500209, 0.7418908340732288, 0.7419002345051283, 0.7419084071680588, 0.741895187128053, 0.741915961285435, 0.7419396093454426, 0.7419287730100975, 0.7419383096195316, 0.7419430166638522, 0.7419339668855365, 0.7419395242093271, 0.7419515888043332, 0.7419564825126675, 0.7419737754360396, 0.7419882234503768, 0.7420094355182139, 0.7420222921231355, 0.7420295813699208, 0.7420382193831229, 0.7420480617212467, 0.7420468069172009, 0.7420417731711254, 0.7420611112263334, 0.7420815198008351, 0.7420976490693999, 0.7421026051547522, 0.7421061580511447, 0.7421193139558611, 0.7421147489512764, 0.7421176194469633, 0.742123248965651, 0.7421302931461184, 0.7421387888788894, 0.7421496135422534, 0.7421608863256398, 0.7421530309822592, 0.7421682711897372, 0.7421714916073322, 0.7421865838215843, 0.7422167408779812, 0.7422145595508004, 0.7422278208313634, 0.7422393385938175, 0.7422418820792732, 0.7422471943001155, 0.7422437093182426, 0.7422444215704024, 0.7422474959343931, 0.7422423511043633, 0.7422387006759142, 0.7422353615637712, 0.7422402808194586, 0.7422556552448034, 0.7422550753564084, 0.7422562487830181, 0.7422620183063496, 0.7422703194204879, 0.742290652144527, 0.7422856669168986, 0.7423052620760627, 0.7423158010400582, 0.742315573358372, 0.7423196248856381, 0.7423248319721941, 0.7423135595305975, 0.7423090334418219, 0.7423309770334333, 0.7423443122987475, 0.7423468397257746, 0.7423598946646717, 0.7423525760446497, 0.7423593751453872, 0.742368711434715, 0.7423813538862687, 0.742377236331178, 0.7423843117446088, 0.7424118320035169, 0.742425530930405, 0.7424143265458844, 0.7424005633350212, 0.7423811843395841, 0.7423854383619375, 0.7424036825156004, 0.7424070508712589, 0.7423932391297628, 0.7423980766516584, 0.7424078080597777, 0.7424110012305162, 0.7424049629567732, 0.7424070369110162, 0.7423982142262772, 0.7424148784383693, 0.7424110039814922, 0.7424071957833281, 0.7424213401443757, 0.7424167828447737, 0.742414342641521, 0.7424067594484957, 0.7424245213632114, 0.7424415706323485, 0.74244046335593, 0.7424489236078083, 0.7424522122675072, 0.7424548974107453, 0.7424652164883159, 0.7424815580159826, 0.7424883162679233, 0.7424884037752965, 0.7424976719104913, 0.7425076640642158, 0.7425086659311134, 0.7425102168194608, 0.7425178074845613, 0.7425329715633137, 0.7425399787472594, 0.742540477166281, 0.742550568476141, 0.7425483833143515, 0.7425605428629916, 0.7425670867409154, 0.7425626870817396, 0.7425746211441528, 0.7425779699578655, 0.7425882908952346, 0.7425923343756559, 0.7425998197965061, 0.7426060816593979, 0.7426164823093834, 0.7426230359056055, 0.742627532968847, 0.7426157818881297, 0.7426286226425085, 0.7426360383350458, 0.7426443024701123, 0.7426569835211394, 0.7426617293310692, 0.7426616281905333, 0.742659258055797, 0.7426656269778865, 0.7426642474246359, 0.7426728363347427, 0.7426691860347173, 0.7426875237243795, 0.7426974888687696, 0.7427095570305048, 0.7427242210600274, 0.742731113143699, 0.7427346992861539, 0.7427466997527934, 0.7427526657136712, 0.7427443956510014, 0.7427485538595495, 0.7427619316231936, 0.7427790783541545, 0.742779123390671, 0.7427778936058624, 0.742782754325486, 0.7427737664077535, 0.7427715189688872, 0.7427718847067265, 0.7427676581542585, 0.7427589813566993, 0.742752668972645, 0.7427499117943723, 0.7427596080501212, 0.7427676095687515, 0.7427598125094187, 0.742756957925494, 0.7427780941065983, 0.7427770569340293, 0.7427911277971239, 0.7427863275454704, 0.7427842316061327, 0.7427922835743228, 0.7428048964955177, 0.7428157799527301, 0.7428180097824221, 0.7428076421184793, 0.742821105763038, 0.7428180001362312, 0.7428161008274717, 0.7428250613751155, 0.742824590476166, 0.7428227109354818, 0.7428330180041848, 0.7428481317843705, 0.7428450711407205, 0.7428474471575598, 0.742849688747132, 0.7428484045814588, 0.7428444740911554, 0.7428536470640369, 0.7428527812667284, 0.7428595662388523, 0.7428665616405644, 0.7428643511248142, 0.7428679590479391, 0.7428600102141313, 0.7428592416545365, 0.7428510261989331, 0.742847375814037, 0.7428506915942602, 0.74285815795405, 0.7428564300162247, 0.7428619483936326, 0.7428676031703058, 0.7428585023034847, 0.7428583622451926, 0.7428712923193687, 0.7428783851828326, 0.7428796538473964, 0.7428800391762868, 0.7428887860938475, 0.742895684143195, 0.7429092062186128, 0.7429060616308577, 0.7429223058880018, 0.7429252850424488, 0.7429279238199396, 0.7429347130524672, 0.7429488771523144, 0.7429551252490767, 0.7429627609103854, 0.742983653678094, 0.7429766757242517, 0.7429641422693539, 0.7429690088601205, 0.7429733889809557, 0.742986206317967, 0.7429862569414505, 0.7429978485725625, 0.7430040909773693, 0.74300847711587, 0.7430077573322182, 0.743016317277145, 0.7430200243147992, 0.7430198298795362, 0.7430267727403526, 0.7430396584424113, 0.7430367749176788, 0.7430392287923836, 0.7430424105402725, 0.7430353820464474, 0.7430451933213492, 0.7430407567428787, 0.7430413834448814, 0.7430314441018072, 0.7430321467831287, 0.743038799734359, 0.7430421079379509, 0.7430335792896585, 0.7430335948085786, 0.7430284906762082, 0.7430233166759243, 0.7430291330683864, 0.7430252646204498, 0.7430200068330389, 0.7430080784043183, 0.7430072823749102, 0.7430066479722514, 0.7430262544434357, 0.7430248182402389, 0.7430386126621448, 0.7430319091995582, 0.7430371143604816, 0.7430326527074674, 0.7430257565647881, 0.7430335011430023, 0.7430318238078213, 0.743028895439965, 0.7430288762154365, 0.7430294502541767, 0.7430298957635442, 0.7430265276570894, 0.7430365099845705, 0.7430339550965274, 0.7430330268526172, 0.7430320050976572, 0.7430377337942567, 0.7430362724757034, 0.7430485079456158, 0.7430488251843329, 0.743067816636456, 0.7430707920011453, 0.7430573460718314, 0.7430536394459835, 0.7430513995816573, 0.7430547192884261, 0.7430465487107747, 0.7430627130743125, 0.7430728314469383, 0.7430833626175469, 0.7430898209227438, 0.7430936893889957, 0.7430862698067596, 0.743083927184236, 0.7430714172951753, 0.743072201606742, 0.7430796582248705, 0.7430883894285323, 0.7430933942582446, 0.7431020961980566, 0.743098040990564, 0.7430975835337644, 0.7431095000715132, 0.7431050344907274, 0.7431051319286835, 0.743104618325393, 0.7431101755627266, 0.7431101134339029, 0.7431114095125406, 0.7431099579629773, 0.74311071502675, 0.7431199111972151, 0.7431189946605464, 0.7431111491112493, 0.7431187533811022, 0.7431335850404738, 0.7431377996919472, 0.7431430751221346, 0.743144267859297, 0.7431402184755728, 0.7431485002426719, 0.7431416178179542, 0.7431485257367377, 0.7431549141028508, 0.7431558656127027, 0.7431606798163788, 0.7431547936909165, 0.7431495809457905, 0.743145815617743, 0.7431432548922312, 0.7431376217104066, 0.7431335626396067, 0.7431442181970076, 0.7431530973763728, 0.7431479290699196, 0.7431626339428309, 0.7431602774194089, 0.7431742390752211, 0.7431693880397169, 0.7431689289977764, 0.7431689135464211, 0.7431718167343844, 0.7431725716073126, 0.7431713982957868, 0.7431800827378304, 0.7431945247098412, 0.743186968758697, 0.7431826605584617, 0.7431911755742404, 0.7432000701337188, 0.7432092390424732], 'valid auc-stdv': [0.0053386377376844485, 0.00516512291177991, 0.006184347753887487, 0.005209462775808824, 0.005276651297426493, 0.005362258676631233, 0.0055490397339685825, 0.005383889768209561, 0.005737003856328858, 0.005566957767879406, 0.005874756043749247, 0.006031282152258262, 0.005992059972850324, 0.006127699620595377, 0.00609320933934854, 0.006012949194014229, 0.005992015178030598, 0.005956996563338798, 0.005832980962326525, 0.005855103153439792, 0.005871552666269062, 0.0057496273459639305, 0.0056705729602458035, 0.005676318304028522, 0.005697256868365924, 0.005585063326987826, 0.005524636875220772, 0.005442188024884484, 0.005588195783118355, 0.005571976722593217, 0.005617404407725354, 0.005675033765911295, 0.0056819084875262445, 0.005679267029918328, 0.005641775826448999, 0.005585209758970835, 0.005554292163765164, 0.0054943884317235625, 0.005482084402279746, 0.005439264924197358, 0.005428009939275199, 0.005555107796832976, 0.0055775165292220414, 0.00558833423731747, 0.005550804054277143, 0.005595066626769956, 0.005584788018258913, 0.005588998593600078, 0.00557506808131321, 0.005520128222319345, 0.0055576686920841036, 0.005627548671150029, 0.005569755915135028, 0.00555602333814249, 0.005568557525409448, 0.005571940861058374, 0.00555312370128893, 0.00558368193593936, 0.005541572047932113, 0.005569455116807987, 0.005458457867725987, 0.005427262711948547, 0.005392312220462038, 0.005370449873870874, 0.005345611169382167, 0.005292777522599561, 0.005177091208049762, 0.005169725786455951, 0.005142511548981173, 0.005166523136326162, 0.005176394370303842, 0.005126170276482136, 0.005135074299203077, 0.005154652543759724, 0.005095748015021946, 0.005066244020154936, 0.005048501638246961, 0.005060681012790581, 0.005028185427174249, 0.005023383648939491, 0.005056140507351815, 0.00521391676393393, 0.005207428612128695, 0.005165941929180739, 0.005187619682889801, 0.005214093647241967, 0.005333768248291017, 0.005363760971920466, 0.005406416153213628, 0.005463900172168445, 0.0055242092835575745, 0.005550208104920276, 0.005558858844099325, 0.005575106438729786, 0.0055946532541802435, 0.0055351324492814895, 0.005506178886861807, 0.005598277334519368, 0.005591235738639943, 0.00561348765530027, 0.005634721415887999, 0.005567811638748177, 0.005510932318938076, 0.005535595963848558, 0.0055460026839722325, 0.00550210208182684, 0.005540990528473065, 0.005521623034431981, 0.005513542838999483, 0.005451838539134098, 0.005458313731594486, 0.005535833169324436, 0.00551905247359103, 0.005571402285444705, 0.005612808919111578, 0.005664714514488093, 0.005605782008076596, 0.005627279976622042, 0.005607698818004341, 0.005579706951093705, 0.005586486709913015, 0.0056224818665562455, 0.0055772056166681, 0.005568244933870129, 0.0055597264397896085, 0.005586934944709063, 0.005544536289426897, 0.005555736151767408, 0.00558688658902682, 0.0055954890709284544, 0.005560443990758629, 0.00552352677667929, 0.005591987643406067, 0.0055833313571620365, 0.005575545527647384, 0.00560845429855243, 0.005620291142629473, 0.00559768581763752, 0.005632836520769018, 0.0056480576532109104, 0.005625653863420802, 0.00564545489424253, 0.005617439155970513, 0.00560609817369557, 0.005627363407165824, 0.005622234504382301, 0.005610844126278703, 0.005643352506714402, 0.00562362032676396, 0.0055923720298635664, 0.00560372856139375, 0.005605918610780501, 0.005593448788159614, 0.005567655875576161, 0.005581344696296191, 0.005564198578514452, 0.005572634217286827, 0.005568769908520269, 0.005603628238587754, 0.005591033194755423, 0.0055418736551913535, 0.005530924689775949, 0.005492550936212728, 0.00548991804512614, 0.005513271326132942, 0.0055358744115204285, 0.0055195920976946556, 0.005511297683200047, 0.005497302568731367, 0.005461216053671664, 0.005423289485013143, 0.005399609391619049, 0.0054070588686465785, 0.005420280326074307, 0.005401066057280516, 0.0054246344339167595, 0.005390453683275965, 0.00537196719960124, 0.005365180847107601, 0.005344471521069555, 0.005342307760375096, 0.005328314601549631, 0.005311444265289941, 0.005305714071895702, 0.005290042907786508, 0.005250986529698584, 0.005217329550794852, 0.00521176196717925, 0.005214888331340864, 0.005195637577782084, 0.005178779018826157, 0.005170730443932585, 0.005137492230247625, 0.00511922626522744, 0.005112724235071712, 0.005149405442779194, 0.005143189311540316, 0.005134116198080545, 0.005122005625711166, 0.005117671299222542, 0.005095146522869615, 0.005110105249176973, 0.005104517768760908, 0.005117234818609272, 0.005106807479756274, 0.0051108189829850844, 0.005108000303436975, 0.005126649250377002, 0.005139931566549372, 0.005129947861062077, 0.005127687277627127, 0.005125042234379467, 0.0051325423078220425, 0.005135437490628337, 0.005125158270376331, 0.005111322805985259, 0.0051081988710992106, 0.005097248787577358, 0.0051018833142546195, 0.005095476484155318, 0.005085398889841601, 0.005087449814217236, 0.005072207456833527, 0.005083886298844257, 0.005078845917677284, 0.005089576840118264, 0.005067636426901408, 0.005062583164324766, 0.00505701769230358, 0.005041853523993337, 0.005037653331427973, 0.005048841293020552, 0.0050554367492718745, 0.005050627218683891, 0.005058439464081139, 0.0050542203482763495, 0.005068453456800838, 0.005047438568763184, 0.00502031159691481, 0.00500907338615106, 0.005005053104878902, 0.0049965114788139454, 0.004995830748813672, 0.004992106692520775, 0.004979505847035789, 0.004967569208118876, 0.0049658919851771795, 0.004955823172563128, 0.004986037638014056, 0.004998491259813474, 0.004984299189968508, 0.004970709196330028, 0.0049675786504679185, 0.004966898769021617, 0.004962766221851707, 0.00497748003012654, 0.004980944114516685, 0.004980030935387632, 0.004970573911190457, 0.004985632512377264, 0.004980907274578138, 0.004952831499220967, 0.004930368464580654, 0.004921187943270699, 0.004918693358161212, 0.00496875018652415, 0.004968842159587709, 0.00496149294270633, 0.004956231880542177, 0.004940324714728859, 0.004924410848644726, 0.004926738318988216, 0.0049592187185879075, 0.004960653199938754, 0.004996273823393463, 0.004982768826814931, 0.004981856594214311, 0.00495799325877929, 0.004956748343011979, 0.004936464458458899, 0.004932506334445988, 0.004909071780007922, 0.004910167747866931, 0.004914927384215837, 0.00492299560024626, 0.004922694857343904, 0.004920427972634849, 0.004913103957181106, 0.004917567521644722, 0.0048768926191062045, 0.004829269176136722, 0.004814401182681327, 0.004803029050919648, 0.004798565966450079, 0.004795348345897573, 0.004791391702165157, 0.00480449435863417, 0.004796680744215261, 0.004797609469875735, 0.004806758477613433, 0.004804582827844061, 0.004806368616630113, 0.004793230716757501, 0.004792162284696578, 0.004780270384721998, 0.00478048609136663, 0.0047983861865526405, 0.004799155382835365, 0.004807637981001204, 0.004828250747075073, 0.0048170955718653714, 0.004797144465359827, 0.004789211312222856, 0.0048015975378455185, 0.004793606444880568, 0.0048001797352064425, 0.004799218105002232, 0.004768698865621789, 0.004771775994878914, 0.004778771764687827, 0.0047855857416054595, 0.0047798174925596714, 0.004776066181013512, 0.004758239995681776, 0.004763281067188507, 0.004756407347103049, 0.004765203222860067, 0.004757453079608242, 0.004761541218504011, 0.004763604921444919, 0.004765431943781499, 0.00477593309178325, 0.00478567435856077, 0.004783309731784072, 0.004787158277530684, 0.00478343771648719, 0.004804176436016597, 0.004796045329779588, 0.004778593040971283, 0.004776779546029393, 0.004772249923120894, 0.0047642407615689, 0.0047587144959691345, 0.004757372380262889, 0.0047453156717509595, 0.004754057679531844, 0.004748750840254285, 0.004758415590963628, 0.004752681507694223, 0.004754793000700985, 0.00475558896239709, 0.00476222858519633, 0.004760179488476132, 0.00475996008340701, 0.004764651328603192, 0.004757570006518523, 0.00474959313496149, 0.004760515532819264, 0.004763250058486126, 0.004762976324354439, 0.004765105048337957, 0.004776436885489, 0.004785799823248576, 0.0047602461634710345, 0.004764895158222479, 0.004756596264872079, 0.004772440905156471, 0.004769490201880808, 0.004790262447764061, 0.004770829472524947, 0.004769690972068673, 0.0047855223263058985, 0.004791916418039261, 0.004789083591156938, 0.004781602004900468, 0.004783029631617211, 0.004784659338195121, 0.004785074741233544, 0.004801609898395552, 0.0048103118412960565, 0.0048027282507031215, 0.004801807132280448, 0.004806081230972089, 0.004804351942403858, 0.004795644721149998, 0.004777959338063651, 0.004773980952279941, 0.004780735536820877, 0.004773677967207424, 0.004768493222187003, 0.004773870553504328, 0.0047926621461729865, 0.004796787607496125, 0.004790098808942654, 0.004788581242876478, 0.004799279423209634, 0.0048074844470831725, 0.004826410420666139, 0.004827883264738931, 0.004832866480733312, 0.004828485020583617, 0.004819895839750058, 0.004811837062448128, 0.004810304560505213, 0.00481334353781858, 0.004806159354001466, 0.0048061111741601915, 0.004809780148268005, 0.0047942150225209765, 0.004793489977354117, 0.004801675663081898, 0.0048016077263911515, 0.004809308003488362, 0.004818884912551366, 0.0048017049094567065, 0.004799858116232467, 0.004806318192437741, 0.0048223972396515035, 0.00481766641436288, 0.004825469684061955, 0.00482097538839523, 0.00483449648806043, 0.004839451241769471, 0.0048396450490115666, 0.00483219880916631, 0.004840422200056563, 0.0048612233100788745, 0.004841671588415619, 0.004839456528184662, 0.004828693240572089, 0.00483197341013421, 0.004828361777709807, 0.004835621233152242, 0.0048352875927223675, 0.004816813340708854, 0.004808308558440564, 0.004811919901774646, 0.004801624985179005, 0.00479963491089735, 0.004801507874959006, 0.004790313641939321, 0.0047956169147903285, 0.004790128420779786, 0.004795578000631386, 0.004800623609035191, 0.004795827162686793, 0.004797976930163194, 0.004783240154284763, 0.004776080205951964, 0.004771458861533475, 0.004783609330624136, 0.004802338766592326, 0.004811663098779847, 0.004805017102737909, 0.00481186526927925, 0.004809487299999212, 0.004796637862224645, 0.0047994048030895065, 0.004805050915094294, 0.00480973267353546, 0.004798723326525731, 0.0047957882841845375, 0.004804147603209555, 0.004791606972462067, 0.004799802912784143, 0.004797955969113415, 0.004770486848213631, 0.0047761362272244765, 0.004766289271169127, 0.004775391485279844, 0.004775151405445755, 0.004784013765884336, 0.004777270947891694, 0.0047592068923057425, 0.004759557111356649, 0.004740770201039814, 0.004730592009996309, 0.004722160707589908, 0.004712928771588857, 0.004718051108612494, 0.004705034087101148, 0.004714234549690409, 0.004716477147944878, 0.004732437316188134, 0.004740641028575864, 0.004741650718149712, 0.004723166317414415, 0.00471803941798164, 0.0047068885881503915, 0.004702287911892394, 0.004713100471687436, 0.004691455357201012, 0.0046842177457329, 0.004675263867967339, 0.004673405449972928, 0.00467531482141871, 0.004676738142327649, 0.004678154818780306, 0.0046660478623508275, 0.0046567207164051215, 0.0046418149795623455, 0.004643640400371481, 0.004641395904208791, 0.004633990447887951, 0.004638785880900347, 0.0046358284643528746, 0.004638406866468306, 0.004637578947321543, 0.0046298922616131, 0.004620333944503853, 0.004619532344253308, 0.004617312486192355, 0.004619300704161707, 0.004614331262074432, 0.0045992477429627945, 0.0045927204709148, 0.004581320638473411, 0.004578920808867146, 0.004579593855489128, 0.004564842464763951, 0.004567032853569564, 0.004563584541943451, 0.004565510873389548, 0.004562162505554123, 0.004553344570708068, 0.004568119789758611, 0.004562812124756931, 0.004573804356760248, 0.004565403911502315, 0.00456654631442865, 0.004555801857949977, 0.004560855973470879, 0.00454903872379758, 0.004560887297554686, 0.004562226988055303, 0.004565381389782865, 0.0045713927881078946, 0.004575300785622132, 0.0045556196686989785, 0.004573432703043419, 0.004567801623392202, 0.004565069174469275, 0.004559637231394373, 0.004552824945182172, 0.004553057276345985, 0.0045682827772204025, 0.004587103100136649, 0.004592019203064102, 0.004597487399595504, 0.004610962278675207, 0.0046172720378358295, 0.004628411413440396, 0.004632034000862519, 0.0046337674421103444, 0.004640043654224479, 0.004635714849299971, 0.004659774276576471, 0.004661546165209356, 0.0046797798403831565, 0.004670695262414092, 0.0046770771786499845, 0.0046687417606688705, 0.0046627773274567335, 0.004650412732929675, 0.004652140106813751, 0.00465358158195544, 0.004649262955306162, 0.00466330100113142, 0.004661107500122036, 0.004669740557838483, 0.004673973710375904, 0.004666045526249398, 0.004651773404618413, 0.0046501779189840045, 0.0046464915498703315, 0.004661620226159717, 0.004666826324534319, 0.0046667438371319194, 0.004661743255696552, 0.004661935702691611, 0.0046620514204938615, 0.0046648718083498585, 0.004684695945020956, 0.004681623077167537, 0.004682701422607821, 0.004686042693421351, 0.004675837892431876, 0.004672585308272637, 0.004675170617810414, 0.0046763791407837246, 0.004676770780819072, 0.004689454736863255, 0.004699347254992098, 0.004694878432281648, 0.004700923274899291, 0.0046973643393294, 0.004692454795381983, 0.0046998141152594045, 0.004689818655077223, 0.004699184977833931, 0.0046792729726932, 0.004686523879980478, 0.004688876279433024, 0.004698278966901468, 0.0047019098081141, 0.004687513050398463, 0.004691054958903984, 0.004696255235681767, 0.004700942828987326, 0.004706816757673999, 0.004721592206292415, 0.004705257940457404, 0.0047067397353319, 0.004710852351799229, 0.0047066099377132955, 0.004704627556853227, 0.004709656371956777, 0.004715974428920542, 0.004724550059616685, 0.004724947068024892, 0.004719189720620706, 0.00472191448329853, 0.004714088588472889, 0.004712784688456722, 0.004712531792187473, 0.00470694147563662, 0.004708678901905994, 0.004691398228819282, 0.004679527056556723, 0.0046929840210429685, 0.004697133881150161, 0.004709028528226473, 0.004693534741999953, 0.004702595217774288, 0.00470667785434166, 0.004697652422810633, 0.004698167230440635, 0.004708951269388575, 0.004719290113256465, 0.004715358265442239, 0.0047033349326807816, 0.004715888002901566, 0.00470395130485756, 0.004694044511910732, 0.004686953089168843, 0.004689673398199159, 0.0046820084885903935, 0.00467323871772744, 0.004669004730950926, 0.004667184856108523, 0.004684597862748038, 0.004686079202089687, 0.0046846449497597005, 0.004671691018376587, 0.0046677975580764865, 0.004665422233424313, 0.004666555466342538, 0.004662591675960807, 0.004660864737552378, 0.004656250126885803, 0.004656224527800284, 0.004664471864588344, 0.004661268573890679, 0.00466464609882121, 0.004660805923704996, 0.004673603282889594, 0.004663918030314729, 0.004662918436595663, 0.004659777857635932, 0.004646374622140687, 0.004644125098828423, 0.004629940947230447, 0.004631064798985662, 0.004625518856811301, 0.0046265054619433164, 0.004617660631600014, 0.004610688159540203, 0.004606454527711192, 0.00461165120121355, 0.004608134814143517, 0.004612685638919292, 0.004618474377690781, 0.004622183534988205, 0.004625194184988759, 0.004626912751812137, 0.004635698141830401, 0.004633106574659826, 0.004628954084201293, 0.004624372295784575, 0.004617129957866361, 0.0046070081491212285, 0.004603913747261877, 0.004594485700992032, 0.00458860302555926, 0.004592679622989713, 0.004578671006599657, 0.004564509047104526, 0.004560257457855929, 0.00454394375492237, 0.004547869699462578, 0.0045365475992200435, 0.004534525285844838, 0.004525266131989057, 0.004517122917516044, 0.00450773805645758, 0.004504459192245364, 0.004490868621913445, 0.00448660025270425, 0.004490685142153228, 0.004499730114658619, 0.004496376677167063, 0.004484309992684681, 0.0044897888668747185, 0.0044943564476956875, 0.004508102582354113, 0.004517539960701354, 0.004520911216726289, 0.004526416818998923, 0.004535340060308661, 0.004526997868115745, 0.004524736989763284, 0.0045293850891155625, 0.004516469626077934, 0.004511050913429689, 0.004510418913680748, 0.004511360980464425, 0.004502634115700214, 0.00448846073184707, 0.004486862093691358, 0.00448821031921418, 0.004473750612818667, 0.004473418611336313, 0.004472462424349066, 0.004475049992974884, 0.0044882110447787985, 0.004485207097955881, 0.004484963301687969, 0.004495831150212903, 0.004490133830837218, 0.004502448399298191, 0.004493871328083216, 0.004489767869790873, 0.004472245814830489, 0.004481565285390033, 0.004479018058589471, 0.004469179847607107, 0.004466405712073223, 0.004474161606608329, 0.004467161007763927, 0.004470068426101381, 0.004465380307024274, 0.004464029308635229, 0.004451956819824224, 0.004447633807495586, 0.0044412339760565725, 0.004437734971180947, 0.004432706264971033, 0.0044296190262559515, 0.004428749597239672, 0.004427051995894461, 0.004435163665366006, 0.004434033331808861, 0.004424555163948214, 0.004412595192426335, 0.004406785739295299, 0.004413911358125747, 0.004406973942577117, 0.004396139530088747, 0.004394051449841829, 0.004383432491741493, 0.004384153961260954, 0.004384239765155288, 0.004372417352124775, 0.004383379089832535, 0.004369349042072943, 0.004373392411886445, 0.00435976078645788, 0.004363961263521056, 0.004365261292341229, 0.004354538198786681, 0.004346482467928105, 0.004342850861057408, 0.004338729935035619, 0.0043397275119370395, 0.004329396532881815, 0.004321160073650786, 0.004307804878517508, 0.004312704806561963, 0.004308201173137695, 0.0043018472351475275, 0.004302217926270041, 0.004303618832503491, 0.004293317691871319, 0.004296070386903788, 0.004298124161676735, 0.004302958369992476, 0.0043007325193541055, 0.004296961309698752, 0.004285836119588357, 0.004279129377176643, 0.004279689969611518, 0.0042864791197453475, 0.0042846850353905385, 0.004281801146202085, 0.004299353200328581, 0.004305786203006732, 0.004307917867449284, 0.004313859534966525, 0.00431212137239079, 0.004313297036656563]}\n",
      "| \u001b[0m3        \u001b[0m | \u001b[0m0.0      \u001b[0m | \u001b[0m0.0327   \u001b[0m | \u001b[0m0.01915  \u001b[0m | \u001b[0m10.35    \u001b[0m | \u001b[0m9.844e+03\u001b[0m | \u001b[0m1.719e+03\u001b[0m | \u001b[0m3.986e+03\u001b[0m |\n"
     ]
    },
    {
     "name": "stdout",
     "output_type": "stream",
     "text": [
      "{'valid auc-mean': [0.6972921095094798, 0.7039204008308523, 0.707949006904624, 0.7090539519242421, 0.7104669847255273, 0.7114342553603127, 0.7125682226297781, 0.7132153819555341, 0.713609331967815, 0.7141828562889181, 0.7144764470987379, 0.7149857281140314, 0.7154178670999461, 0.7158497981558817, 0.7161573226198347, 0.7165045269661113, 0.7169678073343961, 0.7173047537718859, 0.7175473570189577, 0.7179718560033367, 0.7182528817130202, 0.7185537013944217, 0.7188152739725627, 0.7191247083112343, 0.7194154671948795, 0.7195353146342759, 0.7196691884663305, 0.7199659403056581, 0.7201310869135321, 0.7203770328532849, 0.7205237567108416, 0.7207384996552223, 0.7208391960599956, 0.720962583897883, 0.7210827352774126, 0.7211914386153021, 0.7213541913643988, 0.7214615955343818, 0.7216054968132495, 0.721597348183341, 0.7217371542870378, 0.7219181683691026, 0.7221134493260492, 0.7222302268593971, 0.7224306653704399, 0.7226042768346934, 0.7228107924054225, 0.722925058604171, 0.7229996534009157, 0.7231577400867698, 0.7232660270429303, 0.7234515046572408, 0.7235639178587165, 0.7237042040294804, 0.7237992685580452, 0.7239348085921598, 0.7240258060228011, 0.7241607753601453, 0.7242842857413588, 0.7243649151930552, 0.7244700246725108, 0.7245673567444711, 0.7246564136760907, 0.7247861958545284, 0.7248532149648265, 0.7249289855288645, 0.7249973840127573, 0.725118538415718, 0.7251809842256712, 0.7253561167723537, 0.7254829182831667, 0.72560331025802, 0.7256836205337572, 0.7257719332883455, 0.7259239876427338, 0.7260836311831521, 0.7262125339182833, 0.7263002713684634, 0.7264580957590846, 0.7266605929133725, 0.7268466176598061, 0.7269429490943752, 0.7270817674778148, 0.727243394259741, 0.7273329936844789, 0.7275186305241043, 0.7277419073337602, 0.7279721648032395, 0.7281211010815567, 0.7282605244058704, 0.7284107756411292, 0.7285807850627025, 0.7286990072578985, 0.7288793157141652, 0.7290019389072859, 0.7291142411001599, 0.7293140251291802, 0.7294392237081119, 0.7295351011765369, 0.7296632249759375, 0.7298010229785713, 0.729896521106712, 0.7300716577849062, 0.7301745980567335, 0.7303001527122793, 0.7303831593106688, 0.730472673866594, 0.7305811237397964, 0.7306789531084242, 0.7307592245828233, 0.7308437435784647, 0.7309471332833933, 0.7310465037503953, 0.7311290800214508, 0.7312448678621832, 0.7313770775892827, 0.731435456823768, 0.7315091076443158, 0.7316372699106558, 0.731700162228198, 0.7318043072184741, 0.7318782326388716, 0.7319229156067696, 0.732078640731911, 0.7321645740931865, 0.732246693608256, 0.7322790252558323, 0.7323739667638992, 0.7324895815714015, 0.7325773529999687, 0.7326392474866902, 0.7327226352848744, 0.7327840023321598, 0.7328809896464845, 0.73293722732894, 0.7329950195402382, 0.7330838257393989, 0.733137619561738, 0.7332355819515354, 0.73329387045223, 0.733331437002148, 0.7333818718518988, 0.7335144442252974, 0.7336094651676456, 0.733644204712118, 0.7337006359104651, 0.7337720803323169, 0.7338650495573166, 0.733901692393771, 0.733980360278235, 0.7340491705755534, 0.7341115835913062, 0.7341660468077307, 0.7342756498135511, 0.7343304978665155, 0.7344092837075786, 0.7344878258030464, 0.7345460799111679, 0.7346276513178139, 0.7346817545192889, 0.7347504332529482, 0.7348410325958046, 0.7349430182424443, 0.7350573109202844, 0.7351095159305229, 0.7351366481309803, 0.7351713052140235, 0.7352303581888422, 0.7353024591438163, 0.7353379068562758, 0.7353787527250774, 0.7354243600050759, 0.7355111558123881, 0.7355262967209576, 0.7356034861667992, 0.735622487654422, 0.7356766510753121, 0.7357452859152159, 0.7357634309681943, 0.7357983980740777, 0.7358199991508875, 0.7358711469487083, 0.735917336195891, 0.7359473746457829, 0.7359876135988285, 0.736032458768101, 0.7360946081442833, 0.7361179775830015, 0.7361654490715225, 0.7361983185950972, 0.7362498589055257, 0.7363228849991698, 0.7363933959914227, 0.7364384429932581, 0.7364843847132357, 0.7365331249207618, 0.7365833756669673, 0.7366333319746542, 0.7366839325484508, 0.7367220695958338, 0.7367552778490672, 0.7368165105590035, 0.73689983536657, 0.7369599318227213, 0.7369980516530509, 0.7370383040539427, 0.7370858615358665, 0.7371325158784204, 0.7371829415376282, 0.7372216429881601, 0.73726956989774, 0.7372885227372663, 0.737342618448639, 0.737383195987633, 0.7374127852143287, 0.7374310250935268, 0.7374957653884288, 0.7375387597435212, 0.7375902439127948, 0.7376120787460655, 0.7376623194193473, 0.7376715039722006, 0.7377183200516121, 0.7377733782170361, 0.7378395947411484, 0.7378890026197492, 0.7379179998442659, 0.7379544287658124, 0.7379799799629868, 0.7380151498306113, 0.7380484574697149, 0.7380804942362488, 0.738138573177982, 0.7381957451402564, 0.7382132076499724, 0.7382588423562314, 0.738297283131463, 0.7383350468826905, 0.7383302113914884, 0.7383917394482101, 0.7384355219026077, 0.7384706506975413, 0.73853380354177, 0.7385639162333325, 0.7386050890999627, 0.7386426539960212, 0.7386583668228633, 0.7387251682858572, 0.7387752861846723, 0.7387943458060705, 0.7388155965689954, 0.7388297996962021, 0.7388611669950288, 0.7388615289142674, 0.7388929276751431, 0.7389267587985104, 0.7389713927924578, 0.7390007892817355, 0.7390129177972945, 0.7390491696879669, 0.7390524387846645, 0.7390664841317727, 0.7390987190810002, 0.73910694047971, 0.7391258990748629, 0.7391559744170091, 0.7391725765829128, 0.7392014478270598, 0.7392113075290482, 0.7392287233837932, 0.7392451444860623, 0.7392687594219413, 0.7392977467796179, 0.7393244262815825, 0.739350315948396, 0.7393958232033625, 0.7394338748008898, 0.7394519266730709, 0.7394708853934026, 0.7394981745468124, 0.73949923300186, 0.7395303281849429, 0.7395412407225636, 0.7395938648683195, 0.7395993404276006, 0.7396035299891711, 0.7396398052809148, 0.7396858255249597, 0.7397183548922993, 0.7397355619235079, 0.7397655535157347, 0.739783484700819, 0.7397958348440564, 0.7398173273126534, 0.7398418103377078, 0.7398515589582656, 0.7398708387559614, 0.7399023928055467, 0.7399066642808897, 0.7399312016625808, 0.7399515846017581, 0.7399626466670538, 0.7399725961132644, 0.7399759335277789, 0.739985555917249, 0.7399997219009787, 0.74000730877935, 0.7400182347669081, 0.740051723647824, 0.7400607761873551, 0.7400654738164457, 0.7400803910527985, 0.740100988278887, 0.7401271486956547, 0.7401388450802527, 0.7401419544583838, 0.7401508023651987, 0.740186931526039, 0.7402004121028982, 0.7402166928191464, 0.7402375718037084, 0.7402533777383749, 0.740279255721093, 0.7402983584081637, 0.7403023727758007, 0.7403006585317806, 0.7403121140089374, 0.7403288171785168, 0.74033719807125, 0.7403621327470743, 0.7403752050276268, 0.7404042490521228, 0.7404252259719669, 0.7404351207712355, 0.7404556499096744, 0.7404649644769555, 0.74047746279102, 0.7405110306824407, 0.7405237097290936, 0.740532699877618, 0.7405475332445691, 0.7405707453861653, 0.7405959349037148, 0.7406144691325948, 0.7406217506301952, 0.7406296841850568, 0.7406329905291384, 0.7406573290878207, 0.7406872640714189, 0.7407147298416613, 0.7407231107953974, 0.7407371931263365, 0.7407529698295293, 0.7407627768861379, 0.7407790639834019, 0.7407916381449723, 0.7408075166082494, 0.740833968811347, 0.7408460856332925, 0.7408795405590399, 0.7409075455645803, 0.7409301022890631, 0.7409610168403277, 0.7409664516365478, 0.7409765448838662, 0.7410063807762257, 0.7410244543090174, 0.7410280094643239, 0.7410533274096461, 0.7410778335499373, 0.7410919995989241, 0.7411250751668651, 0.7411344697906438, 0.7411486027788846, 0.7411494531918256, 0.7411582660061192, 0.7411880202333334, 0.7412043501182947, 0.741214579730555, 0.7412271480347553, 0.7412375293216216, 0.7412638997182427, 0.741276273682434, 0.7412907333495715, 0.7413008947169878, 0.7413257162247323, 0.741331481885117, 0.7413407638192501, 0.74135643179071, 0.7413721485373919, 0.7413767836622666, 0.7413996551709247, 0.7413964951406835, 0.7414003634089279, 0.7414022686416852, 0.7414039420713037, 0.7414225348216817, 0.7414257612972505, 0.7414430794383721, 0.7414582183405484, 0.7414609329461482, 0.741464995910469, 0.7414788758875793, 0.7414964432109192, 0.7414993931208413, 0.7415043336510033, 0.7415177604286898, 0.7415156958854947, 0.7415210312665689, 0.7415235960205145, 0.7415366084135631, 0.7415154254019781, 0.7415338604535228, 0.7415611783288939, 0.7415760214382273, 0.7416000294275928, 0.7416159775139782, 0.7416098028367878, 0.7416246558643019, 0.7416352199477639, 0.7416483407733713, 0.741650329359889, 0.74165883280644, 0.7416722086143102, 0.7416888047476219, 0.7417023052149953, 0.7416923246891942, 0.7416904977098122, 0.7417182402804112, 0.7417238014185484, 0.7417160565643787, 0.7417157862929301, 0.7417335346336115, 0.7417401565065491, 0.7417364610402858, 0.7417604243595135, 0.7417721401882075, 0.7417690596210185, 0.7417551778990488, 0.7417698517654147, 0.7417864072789432, 0.7417833581036425, 0.7417875495361161, 0.7417917118761399, 0.7418014101607794, 0.7418063895127224, 0.7418109602747364, 0.7418305374934638, 0.7418380528505671, 0.7418491810336776, 0.7418573333328521, 0.7418730364647587, 0.741872466339513, 0.7418766890252123, 0.7418771563125096, 0.7418659695868457, 0.7418578065981559, 0.7418856758094856, 0.7418752265948321, 0.7418814804663297, 0.7418805583113274, 0.7419071988926514, 0.741909489320035, 0.741907064873513, 0.7419173019401102, 0.7419392590264381, 0.7419650961497597, 0.7419680071493531, 0.7419632298933818, 0.7419674507810067, 0.7419768162669076, 0.7419711361093776, 0.7419767831595799, 0.741992382948641, 0.7419974559009749, 0.7420055547648312, 0.7420102715077649, 0.7420289577898878, 0.7420380295109714, 0.7420468638906937, 0.7420566011703885, 0.7420727461150681, 0.7420803953258227, 0.742083551244418, 0.7420908405646087, 0.7421007601922461, 0.7421056130775258, 0.7421128613399519, 0.742121174014016, 0.7421267022700896, 0.7421283466707127, 0.7421283116980342, 0.7421321781389284, 0.7421412245233571, 0.7421533903000727, 0.7421495083967184, 0.7421459728408278, 0.7421550482311775, 0.7421543497452191, 0.7421797316777216, 0.7421749254097003, 0.7421848686426896, 0.7421916283569, 0.7421979913870075, 0.7422105771704443, 0.7422203648758313, 0.7422381446368113, 0.7422383215644994, 0.7422266232862843, 0.7422296742255526, 0.7422293745239023, 0.7422538112521441, 0.7422601740820087, 0.7422696702132788, 0.7422875041610822, 0.7422974068422136, 0.7422988488233901, 0.7423026472925839, 0.7423042115147757, 0.7423067003169476, 0.742301833687243, 0.7423013005186436, 0.7423039938597918, 0.7422947822125175, 0.742306595475346, 0.7423147658868618, 0.7423295897000638, 0.7423535084334474, 0.7423730100510605, 0.7423825038098469, 0.7423920406023622, 0.7424019820555922, 0.7423967904625024, 0.7424009254998584, 0.7424212147235608, 0.7424247423809319, 0.7424289320642923, 0.742413722948014, 0.7424342321941363, 0.7424334032669452, 0.7424449284769579, 0.7424437588880576, 0.7424436187078318, 0.7424439322783645, 0.7424550821518662, 0.7424444071544073, 0.7424466934438255, 0.7424537563621674, 0.7424498746954703, 0.7424373820202904, 0.7424538556350452, 0.7424543364076848, 0.7424554590023481, 0.7424569768583597, 0.7424660694106006, 0.7424711636635121, 0.7424824047303819, 0.7425081696829624, 0.7425246999628058, 0.7425222521197553, 0.7425246767926951, 0.742525110793117, 0.7425224428530156, 0.742531257591644, 0.7425284650288865, 0.7425331528311568, 0.7425473870127884, 0.7425545089364703, 0.7425573579826054, 0.7425520145528116, 0.7425467549883816, 0.7425596231403939, 0.7425828218023445, 0.7425950669456323, 0.7426090734081537, 0.7426013579920457, 0.7425996863269718, 0.7426001123285003, 0.7426036675376712, 0.7426087812120369, 0.7426179716009887, 0.7426268057088655, 0.7426344451415448, 0.7426405766493002, 0.7426414117646191, 0.7426525889379763, 0.7426568096919858, 0.7426661734201203, 0.7426648852641581, 0.7426679442365707, 0.7426692208910864, 0.742685270409683, 0.7426862199586415, 0.7426797267292945, 0.7426712991296008, 0.742683956978862, 0.7426951049521127, 0.7427026005201572, 0.7427077611673442, 0.7427314250571997, 0.7427340170851865, 0.7427302401398155, 0.7427298782947757, 0.7427397242224144, 0.7427531819336014, 0.7427590332191351, 0.7427596947764972, 0.7427577646771543, 0.7427543652065726, 0.7427712122911174, 0.7427594241964283, 0.7427501444653982, 0.7427500430603716, 0.7427626309068059, 0.7427806047308297, 0.7427770069603795, 0.742793937807679, 0.742804233657525, 0.7427881686683925, 0.7427978571312592, 0.74279487809204, 0.7428000659052509, 0.7428022860470018, 0.7428125989836029, 0.742826945914441, 0.7428233344421815, 0.7428316004874498, 0.7428238053151722, 0.7428312947703692, 0.7428398562038128, 0.7428470560054778, 0.7428470988507895, 0.7428463690519723, 0.7428511522424689, 0.7428622512708284, 0.7428585523563808, 0.7428524226625637, 0.7428546292997195, 0.7428606576151179, 0.7428886528171287, 0.7428791004100788, 0.7428783277690508, 0.7428862456449857, 0.7428882654448538, 0.7428861524588527, 0.7428908557154346, 0.7429003437802466, 0.7429047102499643, 0.7429198627627335, 0.7429243792798776, 0.7429307207653233, 0.7429237815734847, 0.7429236141533245, 0.7429211778312618, 0.742930350728214, 0.7429267993899943, 0.74290997938754, 0.7429083216105292, 0.7429117091830006, 0.7429161556960201, 0.7429158189622268, 0.7429057179633443, 0.7428945622080277, 0.742890814486775, 0.7428967999906083, 0.7429001449135404, 0.7429173855990849, 0.7429183915622697, 0.7429284378308543, 0.7429470170292626, 0.7429361590402291, 0.7429330786292251, 0.74291763608097, 0.7429255325494637, 0.7429373732752554, 0.7429346489676533, 0.7429384806809628, 0.7429552249053503, 0.7429583792439244, 0.7429608194891438, 0.7429634972686844, 0.7429550580279439, 0.742952583029397, 0.7429477980817832, 0.7429562683881974, 0.7429533787880412, 0.7429455853814618, 0.7429499869617276, 0.7429618780966268, 0.7429655849680731, 0.7429582567723093, 0.7429525673486675, 0.7429521703564491, 0.7429532347312401, 0.7429576190097259, 0.7429594540900332, 0.7429686951693842, 0.7429678058187857, 0.742986161122093, 0.7429941644245205, 0.7429988384797701, 0.7429979649293831, 0.7430008505716268, 0.7430199514720878, 0.7430351175815337, 0.743029235279864, 0.7430243842729866, 0.7430357928098429, 0.7430396319909013, 0.7430423855270923, 0.7430529222831538, 0.7430317824753989, 0.7430343276511285, 0.7430382468715226, 0.7430368907743613, 0.7430552225918708, 0.7430583711583778, 0.7430625020473127, 0.7430689079340523, 0.7430639147673076, 0.743066323789154, 0.7430794175750698, 0.7430755804128072, 0.743063268903294, 0.7430608247887099, 0.7430620896260199, 0.7430723717779504, 0.7430744071156306, 0.7430772811499967, 0.7430725737667704, 0.7430779735069556, 0.7430852120223124, 0.7430924016738271, 0.7430989769544554, 0.7430999771953996, 0.7431078638926679, 0.74310465712446, 0.7430916043955157, 0.7430907910848784, 0.7430996701151252, 0.7431024936474371, 0.7430897638256587, 0.7430882519738286, 0.7430932995922476, 0.7430967903333529, 0.7431072202122158, 0.7431070588203209, 0.7431163737864291, 0.7431088296671287, 0.743102641646071, 0.743093104922707, 0.7430886080431236, 0.7430917038896916, 0.743091524917321, 0.7430843800081238, 0.7430861956087863, 0.7430910893595196, 0.7430914823787552, 0.7430926772696266, 0.7430841466668583, 0.7430952556047455, 0.7430828311176612, 0.7430766959673916, 0.7430762622321815, 0.7430748514928373, 0.7430794145924121, 0.7430813994628659, 0.7430819734440642, 0.7430747947627075, 0.7430672192865629, 0.7430729983393433, 0.7430575617684455, 0.743055275549909, 0.7430588539888955, 0.7430724380507244, 0.743069075610555, 0.7430648044801026, 0.7430650827582319, 0.743074006520629, 0.7430849753764287, 0.7430971389532864, 0.7430967187254836, 0.7431006997829542, 0.7430968080604953, 0.7431032256833916, 0.7431144377695782, 0.743135819158259, 0.7431393587297483, 0.7431473815365539, 0.7431517012075902, 0.7431586967013115, 0.7431593623141478, 0.743163585046717, 0.74316419606662, 0.7431622287856552, 0.7431697612914538, 0.7431722537830098, 0.7431524684321853, 0.7431441616408013, 0.7431471346837709, 0.743134755190371, 0.7431350566945664, 0.7431475861123052, 0.7431552140555077, 0.7431456307024104, 0.7431580960341817, 0.7431547413333902, 0.7431546225965869, 0.7431535795807807, 0.7431733343693864, 0.7431690086935919, 0.7431785455355727, 0.743176171417614, 0.7431775453531079, 0.743168971807683, 0.7431774343622446, 0.7431759147455103, 0.7431693784768824, 0.7431721592208479, 0.7431852648187053, 0.7431839261891713, 0.7431970726491657, 0.7431851327797853, 0.7431929806929851, 0.7431795718311468, 0.7431858862611813, 0.7431968104541983, 0.7431991689586316, 0.7432057811513437, 0.7431963845830402, 0.7432011502298358, 0.74319584568023, 0.7431839448251578, 0.7431878658088705, 0.7431964586884995, 0.7431985154242465, 0.7432050304019593, 0.7432053749711779, 0.7431965447405974, 0.7431823474666511, 0.7431823435063588, 0.7431817403422157, 0.7431864706369028, 0.7431976613659793, 0.743189786482167, 0.7431787454995399, 0.7431769123636133, 0.7431826374028446, 0.7431789869185123, 0.7431844666157587, 0.7431862976732565, 0.7431927250425733, 0.743195774223354, 0.7431983372046073, 0.7432148071431733, 0.7432398894806728, 0.7432411056633246, 0.7432435771470597, 0.7432417384339728, 0.7432537521717949, 0.7432554238846761, 0.7432540327805852, 0.7432639782433571, 0.7432651359306858, 0.7432737637950352, 0.743259397438921, 0.7432568619911523, 0.7432537468718882, 0.7432576971957404, 0.7432597925818688, 0.7432695103051241, 0.7432733652063548, 0.7432645271986842, 0.7432653016286287, 0.7432628907517428, 0.7432639786420397, 0.7432602504146374, 0.7432575008950545, 0.743259176284773, 0.7432619648120301, 0.7432543662277874, 0.7432638932958748, 0.7432613851135664, 0.7432597584164347, 0.7432597157627852, 0.743258846154231, 0.7432644812497186, 0.7432634676002987, 0.7432658570350599, 0.7432536622113942, 0.7432571336818942, 0.7432479782754994, 0.7432415491585836, 0.7432371689865519, 0.7432394088224679, 0.7432453555580242, 0.7432674432088163, 0.7432707764787319, 0.7432728060480223, 0.7432693871487035, 0.7432740865437085, 0.7432891088518302, 0.743275499510744, 0.7432907903861237, 0.7432861438679637, 0.7432924154014905, 0.7432962954030075, 0.74329938741987, 0.7433036274802499, 0.7432999011458876, 0.7432880721486814, 0.7432916076493378, 0.7432964780639688, 0.7432946974633858, 0.7432851334212741, 0.7432877389155669, 0.7432773695245755, 0.7432925685427646, 0.7432981026795714, 0.7433111613215532, 0.7433118309025413, 0.743302889619157, 0.7433022145144403, 0.7433088947899709, 0.7433125414358006, 0.7433200525960988, 0.7433223566694803, 0.7433152871770909, 0.7433161103384882, 0.7433223488605184, 0.7433282877501938, 0.7433272272351047, 0.7433199613079813, 0.7433212533538588, 0.7433279530106075, 0.7433281804440274, 0.7433310000559947, 0.7433194706741982, 0.7433218622235861, 0.7433158475444511, 0.7433172174918911, 0.7433196749377958, 0.7433181513192352, 0.7433238914583695, 0.7433237143002257, 0.7433130039855582, 0.7433223382800297, 0.7433176992645186, 0.743315590092071, 0.7433247687390976, 0.7433242881482411, 0.7433210541145007, 0.7433316337809867, 0.7433294681294157, 0.7433348230434222, 0.7433256654993986, 0.7433196587209464, 0.743323667354589, 0.7433261054145884, 0.7433277320923954, 0.7433317113590023, 0.7433288354370764, 0.7433246030826165, 0.7433345036265515, 0.7433298955748985, 0.7433221198036687, 0.7433230752319182, 0.7433248187325772, 0.7433344411583894, 0.7433350738404895, 0.7433149631080558, 0.7433234141861921, 0.7433315869353633, 0.7433328226274405, 0.7433470798111722, 0.7433453128913431, 0.7433415048180693, 0.7433496094767787, 0.7433476266445895, 0.7433513411549683, 0.7433539176845133, 0.74336611644619, 0.7433716136450985, 0.7433643888700563, 0.7433746066732593, 0.743373452847868, 0.7433735502525106, 0.7433799092090446, 0.7433916914597755, 0.7433945870638966, 0.7433982802889845, 0.7434161839056123, 0.7434157248406695, 0.7434131619165258, 0.7434158301051098, 0.74341888116761, 0.7434238628021902, 0.7434250399879841, 0.7434342302655299], 'valid auc-stdv': [0.004793875217065243, 0.0055507335714397085, 0.006026179954229047, 0.005276326435619688, 0.005213176252716551, 0.0055155497080475, 0.005388455435766978, 0.005642348321716918, 0.005348907091180308, 0.0054747775442945635, 0.005294949439860273, 0.0055619212153016845, 0.005841720544238626, 0.005802096928210592, 0.005789963496051887, 0.005822297916036059, 0.005810002314445185, 0.005887432190924242, 0.005867618446119422, 0.005807582547652097, 0.005659886814902822, 0.005606705649448587, 0.005552770504880726, 0.0056166822153235025, 0.0055853516356956815, 0.005429262441787017, 0.005382088207272469, 0.005455029354949622, 0.005319605666482077, 0.00541254461439558, 0.005540009812035915, 0.005577810919321621, 0.005555549825676618, 0.005614581376939695, 0.005699562020687595, 0.005679729248372175, 0.005600508962883172, 0.005663057437434366, 0.005602798238269344, 0.005613536561693128, 0.005644958029700066, 0.005628019040875001, 0.005613918266453288, 0.0056145441876130926, 0.005592345479350833, 0.005591942451775422, 0.00563563399475316, 0.00558068921957987, 0.005482222528898205, 0.005464699959226165, 0.005513766435364248, 0.005480089840194447, 0.0055143797221397835, 0.005586045144191488, 0.005625514396277112, 0.005596247877471204, 0.005618289891490518, 0.005562212856635644, 0.0055341926801778475, 0.0055173188251730395, 0.005495993259823772, 0.00551244567066671, 0.0054899689121439554, 0.0054935909240736045, 0.005466815063276117, 0.0054522712497757555, 0.005392738691022264, 0.005373225669978031, 0.005380114078427098, 0.005388053206093725, 0.005429842901839541, 0.005426206082472366, 0.005394449601389642, 0.005375766460880786, 0.005386689714971242, 0.005377885909176144, 0.0054073820359895565, 0.00540190955683761, 0.005415446540914905, 0.005351155670863676, 0.005334855998176435, 0.005269918907934854, 0.00532495979040566, 0.0052695198868267954, 0.005224983086537199, 0.005234136372530979, 0.005332771352093967, 0.00529712787248963, 0.005290982351173137, 0.005243855614209729, 0.005202150518677391, 0.005160358566149632, 0.005123237277324722, 0.005223732923861815, 0.005204828270771408, 0.0052033974184099606, 0.005224058200970064, 0.005219348556712538, 0.005176177416966531, 0.005114946190562613, 0.0051544853594267005, 0.0050990045097503, 0.005107743348060609, 0.0051254686083648335, 0.0050463486887007015, 0.005067717736807606, 0.005020904668498226, 0.005097093848158607, 0.005046224456360434, 0.005026220360617407, 0.005028738216544852, 0.005033617946953312, 0.004985935298610204, 0.0050177167552428095, 0.004968839772121799, 0.004993990019572577, 0.0049800115274157555, 0.005006333340304906, 0.005033934840125401, 0.005043378745049457, 0.0050943388684357984, 0.005097371112682826, 0.0051018217224211675, 0.005147978641105863, 0.005159082113708241, 0.005171688291702594, 0.005113763455093924, 0.005079961410349593, 0.005138581053466636, 0.005132875123679881, 0.005115984839108914, 0.005149294715674462, 0.005142275904844855, 0.005178740936151169, 0.005171401415571983, 0.005183408744839354, 0.005155445497853314, 0.005140676658206451, 0.005179689338968503, 0.005183196347642408, 0.005209036207813915, 0.005221166209686303, 0.005213920244417685, 0.005205827347567995, 0.005213571304441924, 0.005217301245939974, 0.005225052077808365, 0.005257515520598769, 0.0052481804529895815, 0.005241616131204238, 0.005215739825292369, 0.0052640094625744675, 0.005250007102876358, 0.005260950118245526, 0.0052763257446345885, 0.005256613598234989, 0.005314970003263892, 0.0052821174132986985, 0.005268169812675854, 0.00525911570545107, 0.00530309864234446, 0.0053239380630932635, 0.005299761186064454, 0.005295712750721911, 0.005342802281888218, 0.005346350434788263, 0.005339494117063772, 0.005357677150517687, 0.005321257076065467, 0.005335295279302594, 0.005332987200827703, 0.005335762052693125, 0.0053173206967375, 0.00531027605568169, 0.005274688095799036, 0.005272745086667109, 0.005276873882390037, 0.005267937801134699, 0.005278627143214641, 0.005288875968756556, 0.005292835745056522, 0.005259267168876464, 0.0052566039220219955, 0.0052537064508093295, 0.00523273237876032, 0.005203941675305801, 0.005199128163971449, 0.005224175704542237, 0.005217815717382738, 0.005228627699529279, 0.0052327991703430355, 0.005262402461335668, 0.005239878577230065, 0.0052361421628359175, 0.005255499448013546, 0.005257546816075348, 0.0052235263411566455, 0.0052284457221613125, 0.005224719198278601, 0.005226637143202887, 0.005223873240097656, 0.005217958156027318, 0.005234957527489238, 0.005220112299613062, 0.005208411369595122, 0.0051947337174823496, 0.005175780292160539, 0.005166316882350434, 0.005145739154482697, 0.0051496458237016585, 0.0051432427544318045, 0.005142902706815774, 0.005118374154344786, 0.005105252144883895, 0.005086938544313375, 0.005071202119268857, 0.005062206886304335, 0.0050416552371507165, 0.005021145382079911, 0.005005790756072502, 0.004998211595068771, 0.00499405447378554, 0.004976253685033119, 0.004991682022100207, 0.004953541160224182, 0.004937496763012201, 0.004940756983587534, 0.004924815936600787, 0.004926227749224019, 0.0049130758546555905, 0.004905229518450309, 0.004910190540085294, 0.004885922898725739, 0.004860537698635679, 0.004846537023591151, 0.004845122653119839, 0.004841411083594373, 0.004831563098773712, 0.004834600401867891, 0.004859641167244201, 0.004833397975226729, 0.004834016858946068, 0.004859351948848586, 0.004844136693368589, 0.004836005551550011, 0.004850384081342907, 0.004856303648576677, 0.004878691928195484, 0.004870476815395764, 0.00487883537606011, 0.004884152250961515, 0.004874956478293618, 0.0048850939773835015, 0.004885457002788615, 0.004872253263532277, 0.004855157853049208, 0.004878527901271887, 0.004865434101412614, 0.004870307981232465, 0.004850926474449984, 0.004847303627221477, 0.004842751653393948, 0.004858427204633593, 0.004851716715019869, 0.00485592665317157, 0.004858418537911391, 0.004861275082965126, 0.00483972496994461, 0.004840838030025618, 0.004824064274950848, 0.004833556322229425, 0.004843724219806906, 0.004855567026826903, 0.004874224334127572, 0.0048825006442886195, 0.0048784476258082275, 0.004873980795757539, 0.004872774831765731, 0.004868499142663884, 0.0048551270511304765, 0.004868089336221449, 0.004863926736265147, 0.004858080423434531, 0.004859443977201866, 0.004868706840531291, 0.004866675178945686, 0.004848844458710117, 0.00482834495486629, 0.0048164454921620775, 0.0048391250544893615, 0.004843417800655886, 0.004842318723463246, 0.0048638794784947635, 0.004842379857861588, 0.004839581730900853, 0.004850874019729823, 0.004844376488077212, 0.004857157334428873, 0.004837674466920493, 0.0048478150497170865, 0.004858396005762136, 0.0048719865807853565, 0.004859316858736428, 0.004842545866477291, 0.004843653157488858, 0.004844531356163351, 0.004851576147452244, 0.00485827007662594, 0.004838820235334387, 0.0048185329399714994, 0.004802356426329277, 0.004790355686047639, 0.004778027070392375, 0.004770987134585751, 0.0047856296016262736, 0.004796532956756929, 0.004795522146634382, 0.00479088013608793, 0.004814445966702725, 0.004833560068157062, 0.004844174587145013, 0.0048628105097785574, 0.004873293203895497, 0.004870147720002699, 0.004867028700718451, 0.004864596320928118, 0.0048579257643285795, 0.004871548651567429, 0.0048697446742464465, 0.004858246237658368, 0.004860902138863288, 0.004867435215034895, 0.004845683254713651, 0.004842709039134703, 0.00483414388060344, 0.004850566688205847, 0.004842918571719085, 0.004862286830910859, 0.004874524387047545, 0.004861266223895688, 0.004863384466038243, 0.0048717724422570365, 0.004859334673845624, 0.004869964503479502, 0.00486772248692398, 0.004854550279688732, 0.004835774162124632, 0.004857189088046502, 0.004873763026972577, 0.004888720592883114, 0.0048847228327701065, 0.004880253563648188, 0.004905935762629318, 0.004914399994029541, 0.004908106390010214, 0.004913001681789239, 0.004905044562507596, 0.0049020693816647296, 0.004905943225087445, 0.0049290771382622545, 0.004935710191097534, 0.004931738490643333, 0.004960652462807643, 0.004962034347339043, 0.004962381980074418, 0.004971527758830489, 0.0049632846667396514, 0.004961450394396992, 0.004948629925708713, 0.00495610542865928, 0.004951665103883883, 0.004969896894099113, 0.004973162844143094, 0.0049622102884065745, 0.004960937741199657, 0.004966592160435892, 0.004975373173958558, 0.004973009996061294, 0.004962790243643708, 0.004968822974559148, 0.004964322461323663, 0.004971697724488589, 0.00496091128126445, 0.004968224092170069, 0.004964384554811257, 0.004970346331539185, 0.004970159586125715, 0.004961257194010456, 0.004969295243189096, 0.004974759725012916, 0.004972446163860294, 0.004985740526575156, 0.0049850248296682284, 0.004988836132855607, 0.0049777212608621, 0.0049825807056137865, 0.004984664156410341, 0.004973460333361969, 0.004980873598232481, 0.004977999328283086, 0.004970635050245723, 0.004971100356666747, 0.0049727054850528295, 0.004970676430254387, 0.004969553902887648, 0.004969742166241471, 0.004961070810840337, 0.004958801119385262, 0.004969455346073998, 0.004956614144398016, 0.004936429453873533, 0.004952932979201885, 0.004961626328233345, 0.004970426907434104, 0.004966438353459637, 0.004971742382777734, 0.004984678703223933, 0.0050084137438344365, 0.004998225195029037, 0.005001471517180183, 0.005009989281744166, 0.005021450144242271, 0.005019488369050334, 0.005023894120944991, 0.005032237354532413, 0.005036648938615873, 0.005045116691266151, 0.005035857586823231, 0.005028208021140647, 0.005034577499925353, 0.00504822115146462, 0.005032854537827851, 0.005029829525883913, 0.00502314677509159, 0.005034388928554525, 0.005040626823918421, 0.005057280731279517, 0.005067839959060942, 0.0050585627311261466, 0.005055133125558659, 0.005054692788297964, 0.005058684828963479, 0.0050545600511302646, 0.005046687997224963, 0.0050451410042930646, 0.005048341455406462, 0.005052843864257011, 0.00506240494109085, 0.005039769091724448, 0.0050535401078680275, 0.005049753163178166, 0.0050509214547367065, 0.005049777047516178, 0.0050404151962121484, 0.005021367888604322, 0.005012543116798404, 0.00501777087006157, 0.00498571514359764, 0.004978837679633321, 0.0049855576255329204, 0.004972872294651198, 0.0049898827567488495, 0.004982946723259261, 0.004973940558303308, 0.004986408580899641, 0.0049923671658276955, 0.005004831461229052, 0.0050035354302199134, 0.005009987950363164, 0.004994218921800349, 0.004989473703773306, 0.004999631372216745, 0.004990471241963463, 0.0050060193927472805, 0.005001105934059481, 0.004992738819883784, 0.004995299890867257, 0.004989370611956553, 0.004982187129863016, 0.0049741288122463305, 0.004965038479462263, 0.004966807281176309, 0.0049678157795767655, 0.004985319214295238, 0.004978580854019668, 0.005003381506500282, 0.0050090241286789945, 0.0050076149530982154, 0.0050130007296462446, 0.005010383696026099, 0.005000586220875297, 0.004996105115090148, 0.004992578122858525, 0.004991042470922158, 0.004977194610269744, 0.004970562037813599, 0.004966905737726554, 0.004974262420252293, 0.00496856599345338, 0.004968970677658341, 0.00496741873855205, 0.004976333752637628, 0.004990449253100117, 0.004986271004370612, 0.004990541815891545, 0.004988943056574314, 0.0049666274192237524, 0.004975522169562575, 0.00495287428292277, 0.0049634763773247345, 0.004963973725908863, 0.004930013859041315, 0.004940428228297478, 0.004923031651390054, 0.004916937799947628, 0.004912500397131384, 0.0049063997824207815, 0.0049004687408763115, 0.00491544200132842, 0.004913743244897175, 0.004915564426763131, 0.004916468999395072, 0.004900117190795168, 0.0048946748078257715, 0.0049035922653973656, 0.004921191444482348, 0.004913325508339397, 0.004901594621079151, 0.004893176981106793, 0.004901930483046498, 0.004897067480972, 0.004896715122490242, 0.004892880689059962, 0.0048880393866025185, 0.004903516009208017, 0.004916407134633066, 0.004900664344967435, 0.004908153269819333, 0.004918384959874945, 0.004915279629624224, 0.004923511953197747, 0.004931550728064658, 0.004937821592117218, 0.004921271842070071, 0.004919899418749417, 0.004916723627514514, 0.004924866324922593, 0.004959256410360867, 0.0049403666130600704, 0.0049522808137078, 0.004957184737274905, 0.004948639858116556, 0.004958370107699463, 0.004954084363753859, 0.004982031876949206, 0.004984257266803375, 0.004995486928922376, 0.005014292107766191, 0.005009533886201619, 0.0050063115386659125, 0.004999497922445718, 0.004991890459390311, 0.004999860981906275, 0.005003476412235455, 0.005014711793051599, 0.0050016966269220125, 0.00499255770187251, 0.004992990436027503, 0.004973929740008743, 0.004976460320392811, 0.004971656093312509, 0.004962947627928345, 0.0049652327396228135, 0.004975260984242515, 0.004975563112224628, 0.004976128542059622, 0.004985900326133878, 0.004990904167541979, 0.004983732565858091, 0.004988067521354002, 0.004984887846750911, 0.0049933936927039745, 0.004995821947575427, 0.004994321528214387, 0.004975394931035957, 0.004973398603340692, 0.004965286098333216, 0.004953133695829307, 0.004955539395522238, 0.004952774436980439, 0.004939252560373205, 0.004938996541490924, 0.00494110187275025, 0.004933683694122863, 0.004937410803046582, 0.004939741654045488, 0.004938222874311642, 0.004931590913481551, 0.004918805210428074, 0.0049106687211262455, 0.0049038493913746714, 0.0049056153207725755, 0.004899267966645876, 0.004908699216511275, 0.0049063454638468874, 0.004901393591334047, 0.004901959130471523, 0.004892636489694731, 0.004896030162065811, 0.004907600669485735, 0.004908146866656675, 0.004899640717655246, 0.004908792578223906, 0.004909713295741411, 0.004923276412302696, 0.004919836127009734, 0.004931231764367813, 0.004916774423642449, 0.004909972233595402, 0.004907473043134182, 0.004904211724512107, 0.004894909267117041, 0.004902096632445956, 0.004910499826385826, 0.004907201594370643, 0.0049026971236074204, 0.004904883836677185, 0.00490506511091978, 0.004915885392393622, 0.004937173967683, 0.00493407545108252, 0.004928396805962825, 0.0049365677613783035, 0.004925083813625267, 0.004937273368012167, 0.004926386636553079, 0.004937619516813867, 0.004935685666184314, 0.004936938076596258, 0.004938145596450761, 0.004947484065703029, 0.004955583479540622, 0.004945258871779608, 0.004944250021544532, 0.004932270727684496, 0.004926447070266723, 0.004925784250947274, 0.004931229851178597, 0.004928109908390083, 0.0049146363935105054, 0.004920324093736375, 0.004936065738874379, 0.004941145819135774, 0.004943793858442687, 0.004940788646068466, 0.004948753432783254, 0.00494292843462429, 0.0049398133030882216, 0.004952311596129228, 0.004937339365208517, 0.004944214773353351, 0.004945098263937227, 0.0049479444659890305, 0.004951150960429615, 0.004948051906342337, 0.004953834956015304, 0.004936415383956965, 0.004939557926845638, 0.004953575699529277, 0.004951718199889563, 0.0049491191174636075, 0.004952339986588868, 0.004960563122965786, 0.004957720359775209, 0.004951721060967582, 0.004953638114218049, 0.004941776156151876, 0.0049438088197897604, 0.0049385190813425045, 0.004932109846783321, 0.004918557361315694, 0.004920588744170409, 0.004914260035642244, 0.004917466266946069, 0.0049190788003065505, 0.0049206048096454265, 0.00493233290919376, 0.004932911234369115, 0.00493446443102437, 0.004937916121347392, 0.004940247186458836, 0.004923737511409332, 0.004927098758246189, 0.0049287721390332976, 0.00491596435709967, 0.00490790865661115, 0.004900839362215992, 0.004906458088131624, 0.004911096633878707, 0.004915124089643297, 0.004907364841641468, 0.004901097024483684, 0.004901550900447783, 0.0048860775532697034, 0.004888863590729971, 0.004884660559470133, 0.004883721063220813, 0.0048900124795223715, 0.00489263269470793, 0.004884340506167483, 0.0048943217200952405, 0.004885025993003854, 0.004888603652035339, 0.004873156337935543, 0.004859871974156262, 0.0048700727536846655, 0.004860100180488359, 0.004870162027248312, 0.004865670092778394, 0.004869143975766058, 0.004869241878089984, 0.004869098279986014, 0.004865317504218776, 0.004862654964512659, 0.0048658639427115605, 0.004862509536295392, 0.004851801191057438, 0.004855802759821432, 0.004859491054619728, 0.004874850001720701, 0.004877288332787066, 0.004882469136561377, 0.0049004360923663275, 0.004891874118589421, 0.004888684546683439, 0.004887788958506688, 0.004884644865027947, 0.004875670710775729, 0.004872627594561147, 0.004868358871008815, 0.004864913864065914, 0.004859756624740517, 0.004855929574112222, 0.004855055347803057, 0.004862589144786972, 0.004858773249467863, 0.004851974441060138, 0.004845089697025116, 0.004845382020240853, 0.004854297042280824, 0.004855805638642948, 0.004853691440514328, 0.004853232764650472, 0.004848654936080555, 0.004827414150721983, 0.0048242381347300915, 0.004828056946553988, 0.004830030494496354, 0.004824281372953968, 0.00481677086867621, 0.004816159123712759, 0.004821451753604737, 0.004810189800660767, 0.004797407731372575, 0.004795479127840784, 0.004793183804764802, 0.004791364972646854, 0.0047925180087853006, 0.0048113426696694515, 0.004823819777191874, 0.004833612486594945, 0.004830855256568492, 0.004821668020559353, 0.004824819647108301, 0.0048294650211249, 0.004824663029914923, 0.004823831667082228, 0.004821990864031042, 0.004820597199129234, 0.004821647958837338, 0.004826920555713842, 0.004825766458554973, 0.004837310894849511, 0.004833825636606989, 0.004825922570178833, 0.004826841589418968, 0.004814424170343811, 0.004813452911737948, 0.004812311291524406, 0.004823132761156958, 0.004819858714836845, 0.0048077319069707814, 0.004796242884066566, 0.0047946022960738775, 0.004795370089585135, 0.004793346706645416, 0.00479945232637372, 0.004784332064829041, 0.0047754442368030696, 0.004787520181863728, 0.004783529699014113, 0.004789233504641573, 0.004791499766649216, 0.004782360323396148, 0.004781000470297896, 0.0047775037982707835, 0.004779338992907518, 0.004778347170410148, 0.004779933554307331, 0.0047621859080929025, 0.004760764715227274, 0.0047520386849391515, 0.004760044857809381, 0.004751167434360265, 0.004751295698997099, 0.004753873694888989, 0.004746441958953115, 0.004752559393769897, 0.0047479247264565925, 0.004739826536104138, 0.004731546653708777, 0.004723181725046924, 0.004724953699973262, 0.004711298385143706, 0.004705683250615267, 0.004699173276651412, 0.00469288161317578, 0.004687438352979989, 0.004683496680350574, 0.004681452402281135, 0.004670601231656918, 0.004676340846511364, 0.004671677397548958, 0.0046697208757511014, 0.004674667510004048, 0.004678145475854143, 0.004666753243563831, 0.004653085303966904, 0.004648264462248861, 0.004659207054218573, 0.004661861120113744, 0.004660675138692087, 0.004667350049727199, 0.004664656057785964, 0.004659977273469063, 0.004668167167546977, 0.004674032665620068, 0.004656994260308988, 0.004660504220849291, 0.004652663615229632, 0.004652245871275492, 0.004640928684048761, 0.004638265293189019, 0.004620745286144402, 0.004615984213100051, 0.004611935121775966, 0.004611175194635765, 0.00459708233535866, 0.0045890608553081505, 0.004592283256283509, 0.004582499975854142, 0.00457243876029919, 0.004564825737014411, 0.004570631140384076, 0.004577363082122217, 0.004577995089926475, 0.004578151824466011, 0.004566576386982817, 0.004555261893129349, 0.00457401980571014, 0.004573718718228761, 0.004566771614180379, 0.0045594502116974205, 0.004559879776570948, 0.00455573395369457, 0.004546997880894652, 0.004542515469236166, 0.004542996381272505, 0.004544099846043339, 0.0045393876727580825, 0.004533556726131129, 0.004529215225259168, 0.004524594712590662, 0.0045221328662984886, 0.0045111673516048485, 0.004500790018589937, 0.004510223037490092, 0.0045010523588991215, 0.004505572521620525, 0.004508708327962958, 0.004507648458421367, 0.004512470084842542, 0.004508561879748761, 0.004507953171775274, 0.004502225788485644, 0.004496022792833852, 0.004492103878739522, 0.004493087929526676, 0.004492128389228731, 0.004494661575397682, 0.004487544096586993, 0.004476999386389618, 0.004471766526262905, 0.004459046988689675, 0.004444159065281971, 0.004443686746648873, 0.004446343453821539, 0.0044446779642515095, 0.004443200530923781, 0.004443523292480499, 0.004449510158716299, 0.0044579437723210715, 0.004463350047577159, 0.004471941161203714, 0.0044756872464916, 0.004476308500856064, 0.0044662961489264665, 0.00447434820610744, 0.004468699223818306, 0.004472240259519806, 0.004461703558056895, 0.004459038661691963, 0.004451564613656577, 0.004447620678776636, 0.004444964300523745, 0.004439590536262829, 0.004428183906270625, 0.0044367837997945836, 0.004432884043923831, 0.004430025172668723, 0.004424962356407076, 0.004426474003966807, 0.0044268932626542025, 0.004426591950261176, 0.004427485362636833, 0.004441473976091696, 0.0044382965031255954, 0.00444470730111798, 0.004439513876138966, 0.004438851989908788, 0.0044354537585702385, 0.00444710240132838, 0.004449141042361094, 0.004458132324932627, 0.004464126255818207, 0.004476893630433423, 0.004477914278473987, 0.004479280327891443, 0.00447030982809181, 0.004473142456925253, 0.004472740191862862, 0.004473975288425513, 0.004476915231693601, 0.00447154215881107, 0.004479313168290668, 0.0044963508572906765, 0.004486106906662189, 0.004480666602436725, 0.004487620174291954, 0.00449104921892199, 0.004495238425794325, 0.0044883612609314776, 0.0044923602408007395, 0.0044981195278908925, 0.004510492941953813, 0.004515470584869718, 0.004515651958816219, 0.00451150970075636, 0.004507132840128935, 0.004490826450159204, 0.004499962124936044, 0.004491108603665106, 0.004485115786172153, 0.0044777001864293965, 0.004491516498227484, 0.004496032231459496, 0.004495422019394367, 0.004488177254594165, 0.00448545125041982, 0.004492849494684579, 0.0044814162434248465, 0.004474617297998114, 0.004466042465331586, 0.00445049885744506, 0.004450784767453924, 0.004444770796365818, 0.004437641820112685, 0.004444626447793649, 0.004444279007597366, 0.0044364257100970765, 0.004438759780436773, 0.004458440095732688, 0.0044474723424837905, 0.004458102810900131, 0.004435912008747063, 0.004438898215274526, 0.004426393647050565, 0.004430089693030161, 0.004433096846287735]}\n",
      "| \u001b[0m4        \u001b[0m | \u001b[0m0.0      \u001b[0m | \u001b[0m0.04772  \u001b[0m | \u001b[0m0.03171  \u001b[0m | \u001b[0m19.58    \u001b[0m | \u001b[0m78.45    \u001b[0m | \u001b[0m1.898e+03\u001b[0m | \u001b[0m327.2    \u001b[0m |\n"
     ]
    },
    {
     "name": "stdout",
     "output_type": "stream",
     "text": [
      "{'valid auc-mean': [0.6908354575146266, 0.7018420135597921, 0.7073818150116781, 0.7112760711121529, 0.7140154347019155, 0.7164601944343567, 0.7173870588689946, 0.7182099694869774, 0.7189678227974704, 0.71972126798855, 0.7200081106967597, 0.7204018121746731, 0.7205673687650535, 0.7207065597655394, 0.7212880018983295, 0.7213661635799754, 0.7213179219686032, 0.7214759879939067, 0.72165148257264, 0.7217955720262467, 0.7218237616173359, 0.7217537919081637, 0.7217682938578491, 0.7218706160706679, 0.7218844329603926, 0.7219433544413882, 0.7220267156064594, 0.7221804411985041, 0.7221831837934883, 0.7221656996735648, 0.7221029197979068, 0.7221143388288308, 0.7221458810335935, 0.7221982951484799], 'valid auc-stdv': [0.006434067162525354, 0.0036438895277781146, 0.004197040026085208, 0.005751412380544917, 0.004848408439488886, 0.004572357661158755, 0.004042219529667218, 0.004051664211201198, 0.003728587963109949, 0.003963368670142227, 0.0038096520272075467, 0.003920921042792551, 0.003709057580606274, 0.0035920242456523297, 0.0036610603023550575, 0.0038120910448827764, 0.0036140657165371895, 0.003404474820337194, 0.0034832747723383154, 0.003441679617866571, 0.0033337047658673607, 0.0033760107658675283, 0.0033502009585223693, 0.003488965873222045, 0.0035238919900023413, 0.0036434294664450125, 0.003573726574057603, 0.0034612108564175156, 0.0034435698259326353, 0.003386900795065962, 0.0034175570449011287, 0.003443701563176303, 0.0034048309499013843, 0.0034202877175145705]}\n",
      "| \u001b[0m5        \u001b[0m | \u001b[0m0.0      \u001b[0m | \u001b[0m0.03032  \u001b[0m | \u001b[0m0.03983  \u001b[0m | \u001b[0m22.18    \u001b[0m | \u001b[0m316.4    \u001b[0m | \u001b[0m137.9    \u001b[0m | \u001b[0m3.973e+03\u001b[0m |\n",
      "{'valid auc-mean': [0.6936437248421643, 0.7024274197723966, 0.7069701373136065, 0.7090744938352401, 0.7110829690788615, 0.7132561555294615, 0.7143301258345357, 0.7153705188230441, 0.7164114525321583, 0.7169004427159665, 0.7170242256019081, 0.7172516075780327, 0.7177159951596779, 0.7177330286554993, 0.7180346149323572, 0.7181480220262818, 0.7181740122739683, 0.7183543822086124, 0.7183713396645445, 0.7185032658099666, 0.7184458990275547, 0.7185670307805528, 0.7186852142154034, 0.7187447790821114, 0.7188646511722031, 0.7188237877019423, 0.7188357897357317, 0.7189297032105401], 'valid auc-stdv': [0.004872211162069558, 0.0034858912659430042, 0.00432404927510729, 0.004619527080103164, 0.0047705924873113585, 0.005070235530570478, 0.004671400320631071, 0.004039261523999073, 0.0036047103736418324, 0.003572282945527214, 0.0032918616140190484, 0.003303265753062912, 0.0032280505141801005, 0.0032639999525604963, 0.003429018566675282, 0.0036612059592652183, 0.0038112806785957276, 0.003842781807295504, 0.003526360767759448, 0.0034971035431878997, 0.0033316719386772054, 0.0034389365820997136, 0.003478504686537895, 0.003550290078736722, 0.003560077105414908, 0.003593130764724011, 0.003708600609496978, 0.003616779534584825]}\n",
      "| \u001b[0m6        \u001b[0m | \u001b[0m0.0      \u001b[0m | \u001b[0m0.01295  \u001b[0m | \u001b[0m0.02146  \u001b[0m | \u001b[0m37.91    \u001b[0m | \u001b[0m673.6    \u001b[0m | \u001b[0m368.2    \u001b[0m | \u001b[0m3.135e+03\u001b[0m |\n",
      "{'valid auc-mean': [0.6976367415062156, 0.7038716811422215, 0.7063940191870287, 0.7084850286001476, 0.7100779683923236, 0.7111478383821467, 0.7120783587891161, 0.7129579510319886, 0.7135563580479714, 0.714165428412326, 0.7147421370976694, 0.715155666932158, 0.7156221981176539, 0.7160297547955056, 0.7165303889489519, 0.7168117417765593, 0.7172109671744292, 0.7176571475723615, 0.7177859185928043, 0.7179854787229017, 0.7181701694350369, 0.7184979108824038, 0.7187355261732242, 0.7189604286703979, 0.7191832850584259, 0.7192878593834754, 0.7195332780336313, 0.7196812275730395, 0.7199136304131494, 0.7200630383630126, 0.7202094893769718, 0.7202832354007901, 0.7204350227311668, 0.7206024612081429, 0.7207720097678529, 0.7208994984840434, 0.7210528731725073, 0.7211366530450293, 0.721245548584073, 0.7213232770265005, 0.7214420555156636, 0.7215633069112082, 0.7216513235507769, 0.7218397821405033, 0.7219871391143559, 0.7221844878991055, 0.7223233327653139, 0.7224966508683002, 0.7226422368231162, 0.7226991822543251, 0.7228466958127328, 0.7230907991583525, 0.7232787247569002, 0.7234383660200893, 0.7235886030077205, 0.7236680359537325, 0.7238413691189095, 0.7239199309462906, 0.7240067852469071, 0.724200590062939, 0.7242630605884846, 0.724378558063659, 0.7245598115571132, 0.7246535671435176, 0.7247733668791381, 0.7249213771963626, 0.7251170860993987, 0.7252798543277202, 0.7254754293283602, 0.7256283158667866, 0.7257952404370794, 0.7259685107949725, 0.7260903536867894, 0.7262337822360765, 0.7264041595641969, 0.7264843426165379, 0.7266296958035601, 0.7268849800468212, 0.7269909438240493, 0.72710564697397, 0.7272766225433771, 0.7273660366850336, 0.7275496061362073, 0.7277234032311726, 0.7278794581849054, 0.7280465782806561, 0.7282023496834293, 0.7283347408655633, 0.7284406716068861, 0.7286606459648274, 0.7288266559894501, 0.7289347931109376, 0.729071761173305, 0.7292455257197763, 0.729410226794487, 0.7295369604421215, 0.729708524716625, 0.7297920093226171, 0.7298744520321289, 0.730088713901018, 0.7301943497713933, 0.7303570943626356, 0.7304456638148178, 0.7306084992361864, 0.7307612832519549, 0.7309142409541759, 0.7310056983528712, 0.7311004049485206, 0.7311619042736907, 0.7313087507543967, 0.7313908545933874, 0.7314451071899316, 0.7315980636197423, 0.7317913961204882, 0.7318438726007472, 0.7319162419753753, 0.732036090277286, 0.7321185354453776, 0.7322143561594449, 0.7322896505727945, 0.732352648609992, 0.7324213646751851, 0.7325419420562073, 0.7325929217011828, 0.732683474724729, 0.7327700379539621, 0.7328168981298236, 0.7329244966237356, 0.7329772237851131, 0.7330292786937003, 0.7331106064029909, 0.733204641152032, 0.7332513926299068, 0.733297120478385, 0.7333777386138073, 0.733439294151014, 0.7335266643790924, 0.7336077874563154, 0.7337059136078231, 0.7337811686427215, 0.7338219247803525, 0.7338740900926312, 0.7339635504470228, 0.7340420512503761, 0.734073231539722, 0.7341419360836389, 0.7342002831395781, 0.7342601182892717, 0.7343441065769848, 0.7343787001121272, 0.7344186722390965, 0.734475766831097, 0.7345339815773521, 0.7345990064670431, 0.7346622004686889, 0.7346928422208823, 0.7347245369832803, 0.7347719696151928, 0.7348600649949711, 0.7349247345807167, 0.7349866974524595, 0.7350595505776258, 0.7351172240260176, 0.7351652945731653, 0.7352141929300529, 0.735292224927307, 0.7353330041795259, 0.7354040268926293, 0.7354408020627797, 0.7355054598245415, 0.7355572876399125, 0.7356327024950491, 0.7356836007966955, 0.7357435125861412, 0.7358061967136839, 0.735867264288549, 0.7359219436051018, 0.7359552294839419, 0.7360045442591172, 0.7360724436125748, 0.7361081099129457, 0.7361680250637583, 0.7361980325792844, 0.7362468721374201, 0.7362892095034538, 0.7363081466888582, 0.7363757329918951, 0.7364067054843723, 0.7364677066795998, 0.7365056709155554, 0.7365857634685279, 0.7366229861865992, 0.7366453757548355, 0.7366774824737927, 0.7367260496195343, 0.7367399376108247, 0.7367783162547089, 0.7368411676519955, 0.73688555332916, 0.7369289115746235, 0.7369664397131969, 0.7370052325922397, 0.737033076027419, 0.7370470047752807, 0.7370644341069318, 0.7371181676724318, 0.737150243669957, 0.7372022789114917, 0.7372408734807153, 0.7373125890538, 0.7373549468176243, 0.7374138819460961, 0.7374530293105913, 0.7374830086611871, 0.7375355650535843, 0.737562963000235, 0.7375872067555553, 0.7376521365019695, 0.7376722726244177, 0.737705280506853, 0.737745221419751, 0.7377679674586332, 0.7377833884785229, 0.7378066052092614, 0.7378392472930707, 0.7378780540567157, 0.7379303864439034, 0.737958317698249, 0.7380120006174077, 0.7380775959093816, 0.7380914837624419, 0.7381233263911565, 0.7381610354875824, 0.7381955536426199, 0.7382209003467505, 0.738261596062344, 0.7382975242701172, 0.7383472845722544, 0.7383842486418253, 0.7384321887052687, 0.7384445258035249, 0.7384848250529966, 0.7385056792219529, 0.7385311993599434, 0.738573679467536, 0.7386145351216961, 0.7386413063374291, 0.7386628100926643, 0.738682255446323, 0.7387259814361994, 0.7387654353701588, 0.7387954699069169, 0.7388011128134574, 0.7388203340318965, 0.7388312502061186, 0.7388741395855615, 0.738906947212859, 0.7389107181498665, 0.73894751858716, 0.7389954358654033, 0.7390130266123118, 0.7390519228345608, 0.7390764135693569, 0.7391008829276465, 0.7391124336684277, 0.7391284364662912, 0.73914834477077, 0.7391802186805436, 0.7391840306787768, 0.7392220165206135, 0.7392352462049353, 0.7392584563294663, 0.7392666718655417, 0.7392894736223075, 0.7392832134987227, 0.7392904892427157, 0.7393051513628294, 0.7393186398867369, 0.7393175229230263, 0.7393284023978094, 0.7393659131189425, 0.7394190083850903, 0.739431543538554, 0.7394420765828059, 0.739457682519903, 0.7394842243178156, 0.7395059892704822, 0.7395285303996827, 0.7395606136957924, 0.7395670001477379, 0.7395952329591338, 0.7396259603424612, 0.7396364333371112, 0.7396567949922236, 0.739675915206338, 0.7397090689804241, 0.7397367200888377, 0.7397719654955642, 0.7398106805782496, 0.7398280745763958, 0.7398168217296721, 0.7398348757752474, 0.739841318700187, 0.7398408846182116, 0.7398370319729385, 0.7398380904628863, 0.7398485260872807, 0.7398530229632589, 0.7398618962048538, 0.7398624623881226, 0.7399008102059467, 0.7399002225922344, 0.7399117498570967, 0.7399200996387284, 0.7399494123511183, 0.7399846523298029, 0.740013731535873, 0.7400449008015931, 0.7400702711163395, 0.7401006207824521, 0.7401286816771314, 0.7401349998062846, 0.7401469531263235, 0.7401631717583826, 0.7401682699820421, 0.7401860786459733, 0.7402000209656344, 0.7402103183585104, 0.740224156524332, 0.7402148650815175, 0.740235053515271, 0.740253897179819, 0.7402715855184893, 0.7402838659100507, 0.7402955645709408, 0.7403162317271715, 0.740325245133922, 0.7403422559171554, 0.7403714504123492, 0.7403983946447276, 0.7404070149035306, 0.7404322974836207, 0.740443968947841, 0.7404609270066645, 0.7404772648303815, 0.7404787927441739, 0.7405112671627294, 0.7405298071168066, 0.7405436031415192, 0.7405412118662845, 0.7405434712755854, 0.7405620290373491, 0.7405729979306447, 0.7406024098369545, 0.740605869613697, 0.7406192767425018, 0.7406360407058331, 0.7406324369632172, 0.7406362390244497, 0.7406563868869486, 0.7406739174237438, 0.74066364477862, 0.7406710154805015, 0.7406938658814696, 0.7407162994204001, 0.7407229114735842, 0.7407273167681834, 0.7407314635259045, 0.7407468999260512, 0.7407563664303378, 0.7407808321218848, 0.7407882497009726, 0.7408172355585235, 0.74081987048172, 0.7408394286323926, 0.7408445049632549, 0.7408581124953063, 0.7408665481851092, 0.7408559024096056, 0.7408593387756865, 0.7408728763665632, 0.7408816579167431, 0.7408865207805574, 0.7409020792139053, 0.7409161261516344, 0.7409342692914543, 0.7409472501125619, 0.7409786315319985, 0.7410052548721132, 0.7410284322196414, 0.7410337680093493, 0.7410254205259302, 0.7410345447788241, 0.7410386134433207, 0.7410673072455803, 0.7410675389463988, 0.7410984861464228, 0.7411173902918481, 0.7411250982900338, 0.7411274253494353, 0.7411315312525909, 0.7411572946921382, 0.7411786350798031, 0.7411796137089534, 0.7412117790910283, 0.741208097850075, 0.7412194173576557, 0.7412201528250656, 0.7412519717723546, 0.7412651494067609, 0.7412730202140435, 0.7412823094509432, 0.7412996257438035, 0.7412909002197671, 0.7413036322572671, 0.7413215207096719, 0.7413465465908341, 0.7413568263658106, 0.7413822917489862, 0.7414032527171927, 0.7414037953749325, 0.7414274104540891, 0.7414294087400132, 0.7414409360784252, 0.7414481007550487, 0.7414681859407782, 0.7414861114802719, 0.7415095067807324, 0.7415143303271706, 0.7415142505264388, 0.7415247934314735, 0.7415448711618567, 0.7415453166828337, 0.741556307048972, 0.7415712455616742, 0.7415821582064467, 0.741586925396056, 0.741615580431553, 0.7416241503265321, 0.7416299178366922, 0.7416525636328498, 0.7416583700144009, 0.7416726740087117, 0.7416932767680469, 0.7417216765980359, 0.7417362491503748, 0.7417613411507218, 0.74178641162977, 0.741808603956749, 0.7418190628251645, 0.7418181793659709, 0.7418385073929948, 0.741857695717545, 0.7418673376597051, 0.7418606457545929, 0.7418657321074708, 0.7418765919158504, 0.7418865841466576, 0.7418752162939767, 0.7418782966100873, 0.7419006584779102, 0.7419048579045903, 0.7419165817445802, 0.7419305628931608, 0.7419410142734931, 0.7419523355071848, 0.7419671959317822, 0.741992786167493, 0.7419959851865162, 0.7420023893092882, 0.742026743557497, 0.7420597690508374, 0.7420745093422682, 0.7420898369269652, 0.7420831198200393, 0.7420988285866481, 0.7420832870931721, 0.7420869006379477, 0.7420951357811543, 0.7420934097112756, 0.7421009286425351, 0.7421063595587908, 0.7421142967099456, 0.7421101694485984, 0.7420917946041387, 0.7420978442588361, 0.7420937112792142, 0.74210977833632, 0.7421156997250541, 0.7421325802469632, 0.7421479935075009, 0.7421642530160462, 0.7421778973486308, 0.7422026468505446, 0.7421959979552931, 0.7422156823666176, 0.7422196890115332, 0.7422238939867469, 0.7422175390103346, 0.7422344291410828, 0.7422484394310023, 0.7422438976022248, 0.7422506966235, 0.7422587369513645, 0.7422486320645855, 0.7422629187556021, 0.7422622533063058, 0.7422649754364032, 0.742255497138346, 0.7422579217352844, 0.7422599842749703, 0.7422681374329461, 0.7422697076804466, 0.7423019740087997, 0.7423116004279295, 0.7423184577056355, 0.7423195494142449, 0.7423201741864324, 0.7423121472390658, 0.7423214075472718, 0.7423269241038913, 0.7423339428839609, 0.7423358013855296, 0.7423458130199806, 0.7423527560510427, 0.7423531181549489, 0.7423604152031967, 0.7423527990764067, 0.7423527211478039, 0.7423548111387714, 0.7423739390819527, 0.7423878637621542, 0.7423877449908113, 0.7423972619204298, 0.7424108907829833, 0.7424212234331463, 0.7424348251707772, 0.7424459109396353, 0.7424503766068781, 0.7424685839446488, 0.7424813060274097, 0.7424861083764562, 0.7425102952677433, 0.7425275221190167, 0.7425307077162243, 0.7425439843942062, 0.7425498628165604, 0.7425468993925252, 0.7425683333219576, 0.7425814174482704, 0.7425875608169287, 0.7425982143518562, 0.7426029876069385, 0.7426091773271389, 0.7426159977037213, 0.742606107044509, 0.7426060019318551, 0.7426128748679371, 0.7426131685648292, 0.7426339678757848, 0.7426552852237096, 0.7426563359070029, 0.7426607006121758, 0.7426545498487416, 0.7426539543305252, 0.7426416739740801, 0.7426483795427125, 0.7426594980331949, 0.7426791690025136, 0.7426760087323704, 0.7426876759453446, 0.742691468143703, 0.7426985746360754, 0.7427072533178055, 0.7427193838042087, 0.742722995354777, 0.7427448515463836, 0.7427507806690158, 0.7427560402627215, 0.7427545380353054, 0.7427647384882, 0.7427680561943445, 0.7427678926372033, 0.7427829866909197, 0.7427784233734358, 0.7427731870894411, 0.7427910600191042, 0.7428055567699415, 0.7428053076532692, 0.7428059536929369, 0.7428064792163306, 0.7428176349751804, 0.7428080436226852, 0.742807636993866, 0.742815693077452, 0.7428181218449481, 0.742833293930814, 0.7428540172093075, 0.7428589463187834, 0.742870187621445, 0.7428668544474326, 0.7428696371357066, 0.7428669462289101, 0.7428748970262071, 0.7428812833980413, 0.7428949451112196, 0.7429022789834359, 0.7429091184707608, 0.7429235257013421, 0.7429239168066983, 0.7429278474234784, 0.7429150552525875, 0.7429188769890929, 0.7429202915013216, 0.7429224242350635, 0.7429221540521632, 0.7429303813652804, 0.7429382097350922, 0.7429429054236958, 0.7429553939552139, 0.7429435008174546, 0.7429477486281731, 0.7429464993792229, 0.7429331253585388, 0.7429266047848458, 0.7429282493172095, 0.7429358984277346, 0.7429413837526887, 0.7429476240740912, 0.7429604746912001, 0.7429578886810951, 0.7429663457124328, 0.7429815566096959, 0.7429917682146758, 0.7429946829827552, 0.7429986816703117, 0.743004563969818, 0.7430176421155285, 0.743011152638155, 0.7430218275981179, 0.7430225689779162, 0.7430221310769071, 0.7430169297057416, 0.7430204245016719, 0.7430196462004158, 0.7430210257765246, 0.7430144487384904, 0.7430163227894085, 0.7430191828695168, 0.7430198483364073, 0.7430138045384312, 0.743016283334956, 0.7430165963866026, 0.7430085889319326, 0.7430029594754736, 0.7430120466519505, 0.7430241227591473, 0.7430336244752933, 0.7430416878679914, 0.7430446397380138, 0.7430534018751761, 0.7430514386097378, 0.7430488155942419, 0.7430513218008027, 0.7430725122846794, 0.7430855984058483, 0.7431146968517336, 0.7431240816444377, 0.7431236010846596, 0.7431320519474826, 0.7431343384154392, 0.7431420517263666, 0.7431476890154386, 0.7431521880940147, 0.7431550076195972, 0.7431614116416349, 0.7431667977935804, 0.7431742951407352, 0.7431802455379861, 0.743184363017508, 0.7431962172525096, 0.7431989120825352, 0.7432012141345249, 0.7431969372661845, 0.743198332503049, 0.7431986399635465, 0.743216347487158, 0.7432263279182099, 0.7432307975538931, 0.743224952068188, 0.7432332474715505, 0.7432384080710742, 0.7432345844423219, 0.7432289919278715, 0.7432373319299854, 0.7432423426306963, 0.7432495092904223, 0.7432502661843096, 0.743244642602527, 0.7432530371313795, 0.7432595228296671, 0.7432540606362461, 0.7432614860811165, 0.7432650255389643, 0.743264292014421, 0.7432646987183041, 0.7432593691000674, 0.7432675494067613, 0.7432680785901192, 0.7432633150633583, 0.743267158064099, 0.7432589736441005, 0.7432677162820767, 0.743255534821603, 0.743259033510333, 0.7432519117030326, 0.743238864735772, 0.7432433015596968, 0.7432424645229272, 0.7432394057273223, 0.7432546435953421, 0.7432528612621584, 0.7432583739039856, 0.7432779609628734, 0.7432855265811193, 0.7432959020650566, 0.7433047967217359, 0.7432971841986662, 0.7433048100048164, 0.7433035742210904, 0.7433021575373422, 0.743300573580461, 0.7432998498252683, 0.7433058547942527, 0.7433033969773549, 0.7433095714080814, 0.7433101143434356, 0.7433063003794778, 0.7433088376527218, 0.7433042902694256, 0.7433090343408418, 0.7432982387299081, 0.7433160509409552, 0.7433457411070069, 0.7433513394994504, 0.7433603195714458, 0.7433517072556528, 0.7433490163422224, 0.7433570233894846, 0.7433720436992169, 0.7433742735958249, 0.7433695956155436, 0.7433695566107538, 0.7433685291528777, 0.7433617283486708, 0.7433670482633911, 0.7433734250133347, 0.7433862928849208, 0.7433777059313086, 0.7433829888361673, 0.7433914028238977, 0.7433882251059569, 0.7433829929903569, 0.7433894687897166, 0.7433837596768132, 0.7433877583477848, 0.7433992080658539, 0.7433912340224449, 0.7433999207039333, 0.7434020322237712, 0.7434075916198614, 0.7434039994955782, 0.7434098390577905, 0.7434115396075726, 0.7434271009178685, 0.7434308839173194, 0.7434338317393667, 0.7434339251349003, 0.7434285797117646, 0.743426774042118, 0.7434235787532196, 0.7434403150671178, 0.7434251275446787, 0.7434315157402577, 0.7434294942077168, 0.7434284376571746, 0.7434297821302341, 0.7434209323405462, 0.7434318098527056, 0.7434330707628929, 0.7434370441841714, 0.7434279492770415, 0.7434215354976229, 0.7434107902827454, 0.7434080640937123, 0.7434124735803573, 0.7434168480257496, 0.7434167061127787, 0.7434219853723111, 0.7434233201478394, 0.7434322341276184, 0.7434318973171749, 0.7434384509287559, 0.7434412081910339, 0.7434390795219237, 0.7434418933084643, 0.7434394589023, 0.7434409260038087, 0.7434421362936132, 0.7434524728287881, 0.743468905690072, 0.743471705816049, 0.7434833072728276, 0.7434775241424361, 0.7434671273135752, 0.7434637141359923, 0.7434684154299503, 0.7434653874228377, 0.7434734588794701, 0.7434557086007537, 0.7434606901251537, 0.7434532938514026, 0.743460882669035, 0.7434541192035002, 0.7434445979769194, 0.7434489917476464, 0.7434653741542508, 0.7434581528406609, 0.7434713204578106, 0.7434706395645861, 0.7434768157656259, 0.7434796429567481, 0.7434685902278693, 0.7434787360340382, 0.7434807421791833, 0.7434856576374694, 0.7434892557254095, 0.7434792928805298, 0.74349394516481, 0.7435052957972648, 0.7435051363507602, 0.7435073818468322, 0.7435147020194025, 0.7435059221791097, 0.7435116216128691, 0.7435172041363822, 0.7435236002317066, 0.7435300995066246, 0.743532411193124, 0.7435416481953686, 0.7435514204885548, 0.7435584742605555, 0.7435591672522773, 0.7435673126859456, 0.7435816869431028], 'valid auc-stdv': [0.004317530803618941, 0.0049273563959651104, 0.006643218487222587, 0.0060960609176923105, 0.006148678505062937, 0.005913153163119009, 0.005495738500357997, 0.005553129845344778, 0.005419345664416272, 0.005740946834407844, 0.005851086192801061, 0.005979960218002432, 0.005890883506903027, 0.005910762466003292, 0.005967268500890585, 0.006122902405157099, 0.006018633670969278, 0.005907561129321821, 0.00582505185123664, 0.005766066717930316, 0.0057300283707086555, 0.005775707661125018, 0.005698694208921159, 0.0056207259031223695, 0.005469581639007364, 0.005343050966734536, 0.005375914562100905, 0.005359172961538772, 0.005380953400446269, 0.005378143566869157, 0.005494801739936853, 0.00552798877061098, 0.005492926653355238, 0.005527472782044157, 0.0054484635252936685, 0.005391487795934391, 0.00539933663347672, 0.0053851081095065145, 0.005367917866881337, 0.005375052284439441, 0.00536299359676764, 0.005401940562798023, 0.0053562429875295674, 0.005272599066929562, 0.005260264673019852, 0.00528755447446393, 0.005282541846779445, 0.005327625470366842, 0.005338232523801581, 0.005292276685739925, 0.005305397665225671, 0.0053669241560071025, 0.005367756233982669, 0.005464979207100895, 0.005455788032441881, 0.005479224720784722, 0.005446475847797912, 0.0055059545488212154, 0.005523678936182169, 0.005569059535834623, 0.005546671853893527, 0.005525706890478601, 0.005456858739621012, 0.00546821871982656, 0.005439839571570582, 0.005406808763354786, 0.005360084380498673, 0.005344474487287798, 0.005313187347690318, 0.0052986855596464455, 0.0053069269978985156, 0.005286277148403381, 0.00527313325775315, 0.0053168498077684765, 0.005285000805229925, 0.005241961660456265, 0.005268320563950474, 0.005345966643246491, 0.0053865932004924216, 0.00531858373631547, 0.00529056926748335, 0.005262136927492794, 0.005276473815765419, 0.005404910025894311, 0.005391525443035314, 0.005403903543808875, 0.005427532659001761, 0.005434615478986338, 0.005464295714611319, 0.005481147086085269, 0.0054328661049431026, 0.0054261049850539535, 0.005475557130379645, 0.0054664506799408045, 0.005544115427373697, 0.005543768645049216, 0.005558219836533792, 0.005559953443575673, 0.005553084442112158, 0.005596888577065593, 0.005576326939412196, 0.00564251376844907, 0.0056862416442414725, 0.005727876723811331, 0.005717362231713051, 0.005733780431359649, 0.005759240195654977, 0.005756202173828293, 0.005752639507682215, 0.005784115380607938, 0.00579572255673083, 0.005807561622489211, 0.005842422591174576, 0.005862753510268671, 0.005850156719128404, 0.005873560546819965, 0.00591645849224167, 0.0058843976462973095, 0.005869364803370165, 0.0059286296029600685, 0.005899046283202069, 0.00592164122690689, 0.00594375050066893, 0.005955311350695369, 0.005955888030616372, 0.006000375717177481, 0.006018475770129149, 0.006038601771452341, 0.0060428255328215715, 0.006044384891231756, 0.00604124335731241, 0.006009857864468191, 0.00601029870014788, 0.006019454430614018, 0.005979821089607725, 0.005988634712364845, 0.005955976150155764, 0.005971965251208258, 0.005990187001379948, 0.005967709747636262, 0.005976010662861866, 0.005953350815778508, 0.005905571481973657, 0.00588115921296396, 0.005903370036402266, 0.005916909928966889, 0.005915127382926045, 0.005934168417718796, 0.005900102704468275, 0.005908867290971579, 0.005911793599407146, 0.005921975572185756, 0.005916581815153984, 0.00593641336643948, 0.005940393153299206, 0.005933931727506935, 0.005909104435240737, 0.005906809378970402, 0.005915519292414942, 0.005890579810499773, 0.005857822471041181, 0.0058734775554686374, 0.005886023066019569, 0.005899205307768031, 0.005861645148002902, 0.005824121611778107, 0.005847546630412068, 0.0058244477828931634, 0.005816365377373193, 0.005798200629785342, 0.005772531346763551, 0.005785613299995811, 0.00577494191278607, 0.00576071567766324, 0.005773064366652361, 0.005751969797470631, 0.00573421839661818, 0.005749034337967388, 0.005721745528982369, 0.005718550101426605, 0.005695411042104121, 0.005700547087799433, 0.005684957171986281, 0.005675585490928508, 0.005671373807661329, 0.005672446234180625, 0.005653390349074051, 0.005648238008637104, 0.005641892297995957, 0.0056250777525067045, 0.00559666791751892, 0.00558357989710558, 0.005560986560541069, 0.005569779954174522, 0.005564486947833391, 0.005550363674918782, 0.005536517114278018, 0.005553622686032686, 0.00553175022935509, 0.005511945391374614, 0.005511812698958327, 0.0055107842591841085, 0.00551147759797077, 0.005501129393819764, 0.005490990720813809, 0.005475667828372948, 0.005464025511736063, 0.0054204335026955255, 0.005407431793892216, 0.005375837853587007, 0.005369528204785576, 0.005338282617126674, 0.0053167617162427514, 0.005354650324002663, 0.005337258973170179, 0.005334433353804093, 0.005325507399362825, 0.0053338379153271805, 0.005318760957492805, 0.005313634384588554, 0.005318982426866604, 0.0052776948905229135, 0.005279499182148663, 0.005251866140034342, 0.005245737403480854, 0.0052319819991852754, 0.0052304532854423, 0.005221239305331163, 0.005207819965940771, 0.005214075627539637, 0.0052040197346663935, 0.005187849431250688, 0.005188167785484962, 0.0051717529327750845, 0.005182008075185269, 0.005194445308671528, 0.005216672539343892, 0.00519482594932038, 0.005176027899111868, 0.0051976174855166936, 0.005182048149167227, 0.005167715750180465, 0.005156879875223941, 0.0051534867409402715, 0.005169450484653954, 0.005166524409586232, 0.005168050807434938, 0.0051737047295447565, 0.005158279963130655, 0.005194274309343403, 0.0052251128396886715, 0.005225754704951212, 0.0052314412312152985, 0.005237011059614537, 0.005245045830949638, 0.005214969081472253, 0.005196516282383815, 0.005209280091647411, 0.005199397236831186, 0.005187135263040502, 0.005188321709030453, 0.00517110585612206, 0.005175657441195786, 0.005171372937834643, 0.005170192116528806, 0.005172623769515006, 0.005165949410627377, 0.005135624381435435, 0.005139805724086946, 0.005111590282506319, 0.005125984320930763, 0.005141488691595881, 0.005138636872071186, 0.005132315707997541, 0.005150088912915563, 0.00514051983637715, 0.005145616387012931, 0.005164983710062562, 0.00516670167948788, 0.005160000498220318, 0.0051507331222234035, 0.005137306142619107, 0.005151018697885147, 0.005146240245978473, 0.005145726139202834, 0.005135569852680958, 0.00511296170266229, 0.005103313081867286, 0.00511594188639491, 0.0051131690112463995, 0.005105421044919397, 0.00510159794960936, 0.005080567442794158, 0.0050809157670144885, 0.0050771044902503445, 0.0050765213492945495, 0.005058697438021988, 0.005067027273973073, 0.005063818287128554, 0.005072382185945373, 0.00506592579960096, 0.005053232472321006, 0.005044034965996794, 0.005052127039577475, 0.005038616806782875, 0.005039902359291278, 0.005043672934167977, 0.005048050841747166, 0.005045653318227007, 0.005047449698255437, 0.005019335133546266, 0.0050149468084348435, 0.005016542989314136, 0.005013151377905808, 0.005002749154778257, 0.0049935914031628914, 0.004982665830173855, 0.005018592829650893, 0.005021044620901109, 0.005028568507702403, 0.005055025959370663, 0.005058406678267129, 0.005069392941415233, 0.005081535260682693, 0.005080005734161822, 0.005075757208132961, 0.005069389697319994, 0.005078872814373052, 0.005076309867180541, 0.005073101852692073, 0.005074337855890435, 0.005083184212178121, 0.0050667520781259336, 0.005066691504453623, 0.005060777836733549, 0.005058787038545251, 0.0050457005868354415, 0.005047438437285839, 0.0050157056081011715, 0.005028479649948916, 0.005027208794904016, 0.005030509311473763, 0.005024062479804927, 0.005034232969986224, 0.005021985695159813, 0.004997386069791393, 0.0050088322027069115, 0.005025043153200091, 0.005039758188620108, 0.0050263281276367545, 0.005010429563806963, 0.005007781842493298, 0.005007488607206567, 0.005008929874540013, 0.005006935956824188, 0.005000405473155595, 0.004990186744960744, 0.004989349162585949, 0.0049981973541001305, 0.004978114184223363, 0.004975650870636903, 0.004995347245613703, 0.00500708681806621, 0.005004037310698304, 0.005030746993274329, 0.005032514481084399, 0.005040641050594151, 0.005032840425507029, 0.0050434140251488565, 0.005054900418423514, 0.005044321700884298, 0.005047384150665237, 0.005038719441397251, 0.005025543139344118, 0.005014100875149404, 0.005038673396144733, 0.00503812328733758, 0.005016952875269703, 0.005009704413767176, 0.0050123168832465845, 0.005003460872767445, 0.005014585326168277, 0.00500652505088336, 0.004990448341055299, 0.005007837663798906, 0.005018738955424655, 0.005022111900585944, 0.00499601332883216, 0.0050008231302060375, 0.0049981683154012415, 0.0049822775685929846, 0.004960897543447346, 0.0049566414136214786, 0.004964395592219981, 0.00496327940126487, 0.004955794848429124, 0.004946389227530044, 0.004945040757100169, 0.004919034584291039, 0.004930297929566364, 0.004922437095232248, 0.004913957996941715, 0.004915543024598465, 0.0049240262133717376, 0.004914067771408172, 0.0048979097388248075, 0.004879213071478827, 0.004883690045998977, 0.004883484627195756, 0.004873107048497145, 0.004882694437271489, 0.004905338950636697, 0.004910128042146357, 0.0049234972585592875, 0.004914091950375288, 0.004905478566995784, 0.004906116662684613, 0.004919180623227786, 0.004932253976291087, 0.004925821738357104, 0.004936893158468389, 0.004938234322891842, 0.00494301947877086, 0.004940789616651942, 0.004942748341433731, 0.004950223167417148, 0.004943718873707882, 0.004938210929802376, 0.0049515453099529755, 0.0049538360368905614, 0.004944297183098031, 0.004930238363817608, 0.004935077376415483, 0.0049291930223649884, 0.004925474750883593, 0.004915786206763213, 0.004928568519776946, 0.004921952987260702, 0.004904301733976011, 0.004907147614639612, 0.0049228294717756, 0.004929769464768905, 0.004934914839599066, 0.004939417073717458, 0.004951465883942049, 0.004954265977767686, 0.004955333198291005, 0.004960930259477209, 0.00497949522106863, 0.004987483501494905, 0.004989644692107551, 0.005014513645630511, 0.005008883892812803, 0.004996965892924861, 0.004999026138231913, 0.005009204038295696, 0.005012606501523479, 0.005003852702896892, 0.005004511938376892, 0.005004541533756855, 0.005007044443746611, 0.004993556847448427, 0.004998020969913193, 0.004989031540222762, 0.004982687567853752, 0.004971695532104111, 0.004981625069026382, 0.004976726257840762, 0.0049738417422774015, 0.004957093356732373, 0.004970353138420231, 0.0049579847860824556, 0.004940814300742021, 0.00494268525412793, 0.00494001969352364, 0.004954510574603131, 0.004945430685149617, 0.004941450394626642, 0.004928360921799154, 0.004932155287193104, 0.004927867367202151, 0.004928726632458978, 0.004927317878326883, 0.004929081163343975, 0.004927912356154598, 0.004930394861403783, 0.004925858848317431, 0.0049271804334483195, 0.004923020293907987, 0.004916304261724369, 0.004915295802869178, 0.004925514949678015, 0.004932758524652931, 0.004935399339020747, 0.0049267343481327955, 0.004929699630746062, 0.0049239656174044156, 0.004926504938044415, 0.0049134982845132095, 0.004916287544109251, 0.004914962132869109, 0.0049250646313253625, 0.00491756937151901, 0.004916713322893416, 0.004917054284077946, 0.004910581481525672, 0.004906734519642583, 0.004915308589764723, 0.004913285201475394, 0.004909261312760018, 0.0049139422816442836, 0.004913384175697315, 0.004916911092935514, 0.004923692562207255, 0.004910091156970205, 0.004909318879050787, 0.004903101379434008, 0.004892888609879837, 0.0049058225352725335, 0.004909346987303737, 0.0049088243467359715, 0.004907590044504813, 0.004895118834984246, 0.0048875662942175074, 0.00487732453240521, 0.004866884753457724, 0.004864621151512051, 0.004865988499429282, 0.004871440376163262, 0.004865475151739286, 0.004863539636336182, 0.004863127307272376, 0.004864641769839743, 0.004883036867791849, 0.004884577799562505, 0.004880424661800708, 0.004874840084166358, 0.004866843525165655, 0.004874936540977708, 0.004882753709432672, 0.0048867828477511975, 0.004890341733799466, 0.0049079417677407216, 0.004905799555486343, 0.004896451629684985, 0.004895584024311285, 0.004898934763683762, 0.004892269347673276, 0.004887090786999564, 0.004883237185615167, 0.004871007440261973, 0.004875947729433793, 0.0048742645328086085, 0.004878869532692355, 0.004873480539012647, 0.00486394082613582, 0.004865033713588523, 0.004856147159037824, 0.004862218840954116, 0.00486899182680134, 0.004851323495945728, 0.004854922024689932, 0.004845430217890397, 0.004839071169328482, 0.004840543421065461, 0.004837838983494336, 0.004833629214810634, 0.0048459171668080135, 0.004835760363738744, 0.004846579977801147, 0.004860409005715198, 0.004878100948421822, 0.004870425726917427, 0.004865296132747373, 0.004870645517077937, 0.004872599359549247, 0.004865661381689849, 0.004863943923938356, 0.004867207555480249, 0.00486351116568929, 0.0048523357239186405, 0.004852962158201436, 0.00485840520081312, 0.004861595908647927, 0.00487434737033836, 0.004872478795845996, 0.0048668559942743935, 0.004865032238669362, 0.0048690639357893695, 0.004867345113388893, 0.004862971346125893, 0.004854895027867494, 0.004863236700933561, 0.004857841271395849, 0.004848688739636047, 0.004830254010983462, 0.0048231832283432835, 0.004832419285672355, 0.004819861283608246, 0.004818395710909536, 0.00481006592956757, 0.004804821541552054, 0.004793672448092274, 0.004796427558426953, 0.004793377822533105, 0.004810675764932632, 0.004817997564454364, 0.00482875015042411, 0.004827568744720074, 0.004829816702401592, 0.004830469767395435, 0.004833256801743855, 0.004834931346190738, 0.004844549018994033, 0.0048412633097102585, 0.00482576362627588, 0.0048179773968129785, 0.004810989440835156, 0.004794340005228447, 0.0047972459330640795, 0.0047962042118525824, 0.004801271823701979, 0.004801704190977816, 0.004806820710441663, 0.004802827649594242, 0.004789072123389706, 0.004793955264356199, 0.0047984441074101, 0.004801311374390911, 0.0047980083915973954, 0.004794656205346255, 0.00477806541697714, 0.004777017993818892, 0.00479385522488061, 0.004804061554118603, 0.0048073039358054875, 0.004810956491970713, 0.004814503807919778, 0.00481410495277989, 0.004819097475486321, 0.004816545520533918, 0.004822443546010801, 0.0048251527859911655, 0.0048234472768612525, 0.004821476633492564, 0.00482391275996448, 0.004820319211612765, 0.0048103287974705, 0.004829029105533028, 0.0048291122740020615, 0.00482404624183922, 0.004838462977920086, 0.004849003683839315, 0.0048595884281448735, 0.004862097065377878, 0.004863993948503533, 0.004863740988464731, 0.004860897972387134, 0.004878173554252714, 0.004879903780425156, 0.0048868783946807055, 0.00488112349579391, 0.004878313540341676, 0.0048834565929307735, 0.004886235616004071, 0.004878523486425551, 0.004885061148154397, 0.004895633801313076, 0.0048895278479313175, 0.004895618556953405, 0.0048917722751906, 0.004895987217838983, 0.00489253204757589, 0.004877927258217183, 0.004878824701427645, 0.004868534692291152, 0.004868380647241901, 0.004871237057326974, 0.004876191335819912, 0.004873240895747157, 0.0048729188295509596, 0.004882679321936985, 0.004878527104615709, 0.004868361087108, 0.004863582096687748, 0.004861863665351212, 0.004855392258227387, 0.00485037717939198, 0.0048526470919046235, 0.004857991317163908, 0.004849096067953743, 0.004840077229135101, 0.004841086742807022, 0.004845551241931921, 0.004847996315418318, 0.004844629898956285, 0.004843871996493734, 0.00484743276091141, 0.00484857067983236, 0.004845301356621027, 0.004838888861545042, 0.004844324787475441, 0.00484548239586028, 0.004846720929698199, 0.004843506340275382, 0.004842592514165937, 0.00483752001291536, 0.004845792537679094, 0.004850150221039495, 0.0048525572998641, 0.004856974533986023, 0.004863631422908639, 0.004872728318410567, 0.004889564668685616, 0.004890212665006308, 0.00488804785496768, 0.004882821816747062, 0.004870821996295807, 0.004887194336632829, 0.004881194856300675, 0.004892737941084754, 0.004887261199193647, 0.004887269149218462, 0.004890742669709224, 0.0048873627643224, 0.0048823058488841695, 0.004879254787441244, 0.004896590722755895, 0.004901229575320711, 0.0049099240151080185, 0.004916811940569559, 0.004918993208280614, 0.0049148880093696536, 0.004914469432303197, 0.004921801919669141, 0.004911639107374591, 0.004909935183723721, 0.004912868986188289, 0.004920133132454639, 0.004912498324773238, 0.004909626563432874, 0.004904568167494595, 0.004920140054711779, 0.004913732295199072, 0.004908431596881226, 0.004914112152958737, 0.0049107908763077355, 0.0048964835949781155, 0.004907901226285508, 0.004897009892751503, 0.004900479942873563, 0.00490622726055303, 0.004912545879393401, 0.004912941542578911, 0.004911952526002371, 0.004918301866450215, 0.004911069781664462, 0.0049195409244409205, 0.004910513993099169, 0.004917522770706702, 0.004912608730463627, 0.004919116427274674, 0.004901444243352872, 0.004903583549820729, 0.004900347051695979, 0.004906369485429831, 0.004891311516302862, 0.004882865610181926, 0.004862677506474356, 0.0048480761441905525, 0.004847102088443171, 0.004851109237409084, 0.004851326657025994, 0.004858694864263877, 0.004848752828068225, 0.0048357949965232554, 0.004846113902858286, 0.004847148268854191, 0.004854675455146355, 0.004850978463294481, 0.004861883253935575, 0.004867944772281395, 0.004867279323092831, 0.004872911311089624, 0.004862081157492592, 0.004858340719986495, 0.004866233758403402, 0.004863772555191656, 0.004858015276846975, 0.004858064401927873, 0.00486062067628247, 0.004853954821090905, 0.004864772306385115, 0.004871792593599781, 0.004872791153790655, 0.004862431594468062, 0.004857122920501616, 0.004848694057167253, 0.0048419470648140275, 0.004847110170598735, 0.00485137117904359, 0.00485871537327882, 0.004863561457591327, 0.004866935646223713, 0.004863305391673398, 0.0048594915551273135, 0.004865038930112517, 0.004867521035286535, 0.0048695167245874135, 0.004867116341376889, 0.004866786182676073, 0.004865236536852992, 0.004855327075243148, 0.004855203914801159, 0.004858395507590347, 0.004864161564352496, 0.004861657593090248, 0.00487334964422355, 0.004876302286407221, 0.0048775881521504385, 0.004869160423901067, 0.004870115711607264, 0.004874700114074405, 0.004854141512949565, 0.004858209255468436, 0.004857676890021609, 0.0048495643132249406, 0.004859425402115757, 0.004864083113180079, 0.004855593948734875, 0.00485675735975427, 0.004867150337876826, 0.004877443736651381, 0.004875906897185717, 0.004877135336073158, 0.004867706466065829, 0.004859022539407519, 0.004857861711556609, 0.004865654727499485, 0.004844005572209439, 0.004837008690813581, 0.004839246215938289, 0.0048501506280455835, 0.004854496318810528, 0.004854594613904053, 0.0048656516935265005, 0.004864856862640133, 0.004861075164036626, 0.004860929008202274, 0.0048648558395915234, 0.004857223434182919, 0.004859221370142524, 0.004843843240832734, 0.004842154680156526, 0.004835143677212214]}\n",
      "| \u001b[0m7        \u001b[0m | \u001b[0m0.0      \u001b[0m | \u001b[0m0.02047  \u001b[0m | \u001b[0m0.03933  \u001b[0m | \u001b[0m41.28    \u001b[0m | \u001b[0m9.838e+03\u001b[0m | \u001b[0m1.984e+03\u001b[0m | \u001b[0m112.7    \u001b[0m |\n"
     ]
    },
    {
     "name": "stdout",
     "output_type": "stream",
     "text": [
      "{'valid auc-mean': [0.6988518590819139, 0.7054098182154651, 0.7089688716092043, 0.7110580151495577, 0.7130211689712582, 0.7139489429577562, 0.7153005660439735, 0.7158153291926675, 0.7164253287855255, 0.7170254363486223, 0.7173253050819257, 0.71776681253027, 0.7182972559361488, 0.7186564918876034, 0.718982100794765, 0.7192100688514865, 0.7193069956002437, 0.7194393551350841, 0.7196083956482213, 0.7199282077419662, 0.720140695871308, 0.7203563472376592, 0.7205615941362531, 0.7208312743290097, 0.7209737989679891, 0.7210538136672061, 0.7212016855896605, 0.721349107325381, 0.721423762741233, 0.7215720095914206, 0.7217111606123666, 0.7218590477438588, 0.7219992414265629, 0.722124016223978, 0.7222026450049008, 0.7223179099701739, 0.7223097064102292, 0.7223500828580703, 0.7224710685073856, 0.7225120418859946, 0.7226042572888175, 0.722685226690882, 0.7227491986142458, 0.7228703829514043, 0.7229540520107359, 0.7229560186300777, 0.7230451004538089, 0.7230714823799266, 0.7232076321802459, 0.7232361695740375, 0.7233915988062866, 0.7234817365187568, 0.7235513914852154, 0.7236331721685939, 0.7237070674990412, 0.7237678809828569, 0.7238468408847553, 0.7239263575926929, 0.723956913566148, 0.7239835735820138, 0.7240153495479604, 0.7240753088638692, 0.7242139059400406, 0.724301244232972, 0.7243953701538212, 0.7245211123610967, 0.72459460780518, 0.7246496417671917, 0.7247132600439666, 0.7247469378494684, 0.7247981367847554, 0.7248761818906981, 0.724941620604138, 0.7250344548475794, 0.7251106748574818, 0.7251912388870214, 0.7252237472147769, 0.7252990556187626, 0.7253584221617344, 0.72541025625544, 0.7254202309882626, 0.7254838739427014, 0.7255505726467045, 0.725688437215374, 0.725734628708275, 0.7258359240778268, 0.7259144882729683, 0.7259528206697942, 0.7259807826604981, 0.7260049607751395, 0.7260710431208276, 0.726089223331873, 0.7261495286616756, 0.7261891240129383, 0.7262699379990233, 0.7263393832076476, 0.7264268560290131, 0.7264182213865519, 0.7265205305043106, 0.7265691750422466, 0.7266001197861067, 0.7266152266268756, 0.7266291349619122, 0.7266611808809164, 0.7267400734760181, 0.7267764364073801, 0.7268176476859316, 0.7268548404156162, 0.7268737270655087, 0.7268847274791884, 0.726978335069735, 0.7270668893900706, 0.7270999623742528, 0.727194602117888, 0.7272093089645278, 0.7271967249555864, 0.7272555767250338, 0.7273647663842769, 0.7274105466534477, 0.7275103641758398, 0.7276450026135426, 0.7278031503605238, 0.7279171226326099, 0.7281199381313123, 0.7282770053587605, 0.7283883249878623, 0.7285001807020265, 0.7286530837871582, 0.7287524410721744, 0.7288310684069076, 0.7289918404917293, 0.7291208655803635, 0.7292735200324483, 0.7294279880449118, 0.7295419526252828, 0.7295996105252626, 0.729682810168537, 0.7297651465860754, 0.7298266551956005, 0.729904305892975, 0.7300230800105804, 0.7300832488044738, 0.7302255400020664, 0.7303166144094546, 0.7303615631477017, 0.7304510137735559, 0.7305392892938475, 0.7305970481150843, 0.7306568664756107, 0.730717922662238, 0.7307711379202214, 0.7308624937592917, 0.7309711006385541, 0.7310527623020349, 0.7311201494496468, 0.7311879508131648, 0.7312500789189823, 0.7313282625524095, 0.7313417355152136, 0.7314578031706157, 0.7315100071387558, 0.7315679680867541, 0.7316932061940128, 0.7317641704028518, 0.731866643994239, 0.7319360407196048, 0.732021998046554, 0.7321589536505712, 0.7322488331590841, 0.7323686883513062, 0.7324232660315834, 0.7325052645448064, 0.7326034339824913, 0.7326570199899347, 0.7327650534829585, 0.7328655206814391, 0.7329873799618656, 0.7330420199800786, 0.733170465140442, 0.7332696933733059, 0.7333403050947215, 0.73345283250962, 0.7335112849083082, 0.7335850104457157, 0.7336600531223644, 0.7337307103646427, 0.7337973739505986, 0.7338777677752195, 0.7339565229129494, 0.7340369962585248, 0.7341139498101322, 0.7341455395066022, 0.7342141877638508, 0.7342852237515981, 0.7343816197600145, 0.7344875314725812, 0.7345429755190954, 0.7346196531021792, 0.7346493235021745, 0.7346757615365661, 0.7347597568678191, 0.7348048878999283, 0.7348402962058144, 0.734886601653849, 0.7349353277684544, 0.7349896118398829, 0.7350582856519119, 0.7351447178991056, 0.735172806601855, 0.7352202041275456, 0.7352927293546925, 0.7353439196884833, 0.7353981763745363, 0.7354206995121041, 0.7354744525131193, 0.7355669152103119, 0.7356756396723679, 0.7357103268373933, 0.7357269461540116, 0.7357973284627262, 0.7358323700881829, 0.7359357388227146, 0.7359753802990295, 0.7360560700349662, 0.7360783251760793, 0.7361340166391135, 0.736169809448835, 0.7362455253399006, 0.7362868500412155, 0.736326201313025, 0.736364183378011, 0.7363913536002878, 0.7364239840882615, 0.7364691888101299, 0.7365337900198677, 0.736607186929599, 0.7366713155858791, 0.7367037811452978, 0.7367696528113284, 0.7368196985642795, 0.7368702410280962, 0.736888025005278, 0.7369182831770452, 0.737017360913613, 0.7370422235529605, 0.7370739960464587, 0.7371025535914333, 0.7371201370002423, 0.7371507783870666, 0.7372057798603615, 0.7372403600834362, 0.7372793816155984, 0.737316824193487, 0.7373683352834024, 0.7373808790111779, 0.7374005170361321, 0.7374562958910951, 0.7374797086964625, 0.7375364559676195, 0.7375629163588204, 0.737583824809061, 0.7376295454203184, 0.7376465308861496, 0.7376771241100174, 0.7377022181811497, 0.7377143779091213, 0.7377370766969914, 0.7377650697822844, 0.7377825669431513, 0.7377831563787334, 0.7377870308933686, 0.7378220988524392, 0.7378378663202382, 0.7378795646910815, 0.7379159343982481, 0.7379325400976392, 0.7379523613920708, 0.7379950171322274, 0.7380387526045021, 0.7380665007448344, 0.7380813141361845, 0.7381181087510078, 0.7381473862981919, 0.7381657241730263, 0.7381679441458292, 0.7382217979520801, 0.7382376683039041, 0.738267424949174, 0.7383030305418171, 0.7383517237344833, 0.7383677481520006, 0.7384113883731255, 0.7384287985323817, 0.7384558931372477, 0.7384713887554518, 0.7384915948461873, 0.7385051885701429, 0.7385381650835479, 0.7385609898961336, 0.7385779461744769, 0.7386081089404238, 0.7386402938252902, 0.7386536952059674, 0.7386666352031552, 0.7386819161196135, 0.7386771274777121, 0.7387081643168257, 0.7387319625264362, 0.7387554451479438, 0.7387675092895377, 0.7387999004459092, 0.7388088416188965, 0.7388346067818872, 0.7388551556733308, 0.7388878813788523, 0.7389063692098969, 0.7389588862025711, 0.7389762469259559, 0.7389765099461223, 0.7389844275913848, 0.7390122130209237, 0.7390344987745866, 0.7390661949929808, 0.7390486453352035, 0.7390736673749068, 0.7390844495697215, 0.7390882026766169, 0.7391042251385765, 0.7390960133963692, 0.7391140710574904, 0.7391364642499255, 0.7391520490548884, 0.7391832005779267, 0.7391980651289521, 0.739198102317136, 0.7392163177559762, 0.739225537388083, 0.7392629255476106, 0.7392717442094682, 0.7392932986747157, 0.7393115335520277, 0.7393456118619639, 0.73937306238131, 0.7393926632755501, 0.739400092380024, 0.7394269820573979, 0.739439812587932, 0.739449360963087, 0.7394662141538456, 0.7394966867826257, 0.7395234230088792, 0.739553475075205, 0.7395714004008999, 0.7396218057630511, 0.7396547005538411, 0.7396924386357094, 0.7397064138511347, 0.7397272850157023, 0.7397454593343328, 0.7397647737842608, 0.7397721448279321, 0.7397714424086494, 0.739770269027107, 0.739769195036771, 0.7397966102646508, 0.7398124692958742, 0.7398212100529241, 0.7398340627623784, 0.739856924979687, 0.7398516731268017, 0.7398744029489785, 0.7398948168013945, 0.7399105370322423, 0.7399068591473922, 0.7399153158425643, 0.7399159383742973, 0.7399290749745903, 0.739952378892256, 0.7399818508457882, 0.7399740028695664, 0.7400016201419332, 0.7399946439310031, 0.7400065683219158, 0.7400289090742612, 0.7400482353402413, 0.7400781451559886, 0.7400857884991336, 0.7401030034736406, 0.7401045061285103, 0.7401138990209138, 0.7401153580780296, 0.7401461377358874, 0.7401695096593608, 0.740172119119498, 0.7401770360766844, 0.7401763044169151, 0.7402055977865922, 0.7402276153135613, 0.7402382221438358, 0.7402638511827956, 0.7402681946678634, 0.7402717303569366, 0.7402831213877322, 0.740275686584741, 0.7402992484356, 0.7403155259994495, 0.7403238096069501, 0.7403358719271788, 0.7403607727756089, 0.7403588114253479, 0.7403820644691007, 0.7403968725102851, 0.7404282947080695, 0.740453692291377, 0.7404738869046777, 0.7404773543561899, 0.7404895876979914, 0.7405052224174759, 0.7405103518446787, 0.7404903850418485, 0.7405201686020636, 0.7405190457147878, 0.7405285454796307, 0.7405351789047788, 0.7405473738736692, 0.7405719154924014, 0.7406006715860154, 0.7406167113340357, 0.7406356858010753, 0.7406444597762823, 0.740658717033131, 0.7406742707471824, 0.7406755198747036, 0.7406857726102047, 0.7406821591250621, 0.7407037329569622, 0.7407109713297624, 0.7407294998165718, 0.7407424203454355, 0.740739408099885, 0.7407504436706224, 0.7407685539954388, 0.7407630940451403, 0.7407629014797709, 0.7407842187933724, 0.7408023834642257, 0.7407947770487397, 0.7407936936949465, 0.7407790550576738, 0.740787264809568, 0.7407977687850932, 0.7408060778155616, 0.7407976852578418, 0.7408093468567364, 0.7408425451089377, 0.7408348256879748, 0.7408359930548801, 0.7408406241880958, 0.7408510501059457, 0.7408386647983677, 0.7408490498312226, 0.7408469888688177, 0.7408844333700314, 0.7408905746189433, 0.740890529724551, 0.740888498464482, 0.7408862103277398, 0.7408970079943883, 0.7408977475011204, 0.740901316412533, 0.740917752624151, 0.7409340918691804, 0.7409400325726496, 0.7409669593590329, 0.7409677726900767, 0.7409743846374791, 0.7409920061968195, 0.741009787761282, 0.7410259459581802, 0.7410292873192142, 0.7410323459442846, 0.7410239807765552, 0.7410011400999422, 0.7410072926263346, 0.7409841388532962, 0.7409798926776171, 0.7409809181556355, 0.7409789957044546, 0.7409845585824032, 0.7409945818317261, 0.7409977146388341, 0.7410011335554588, 0.7410027290509221, 0.7410065115046628, 0.7410016601814494, 0.7410044933484149, 0.7410151252615979, 0.7410274428264167, 0.7410156257423193, 0.7410426674479867, 0.7410547435215814, 0.7410433508588472, 0.7410509631640799, 0.7410562555746637, 0.7410587618513853, 0.7410759690074844, 0.7410649824815794, 0.7410783349306334, 0.7410673700515664, 0.7410826607148057, 0.7410903060571332, 0.7411012806965372, 0.7411092199366484, 0.7411241079607085, 0.7411309828807585, 0.7411461254148489, 0.7411580439072177, 0.7411629808637284, 0.7411744613562288, 0.7411661214188675, 0.7411781760141394, 0.7411798104343529, 0.7411728734835457, 0.7411835755938131, 0.7411877904973024, 0.7411814021023462, 0.7411945270679375, 0.7412049296316582, 0.7412076093288276, 0.7412213511527281, 0.7412349137469784, 0.7412417786368647, 0.7412466432017687, 0.7412342227628756, 0.7412523586165136, 0.7412394220778215, 0.7412464564421407, 0.7412405079734788, 0.7412395193513005, 0.7412494336769399, 0.7412476065066892, 0.7412575323419955, 0.741270579637634, 0.7412658066412016, 0.7412800991612504, 0.7412864660604338, 0.741274670195144, 0.7412591616933352, 0.741249644585611, 0.7412439160452685, 0.7412525909718525, 0.7412683721931618, 0.7412661010629912, 0.74127379885471, 0.74126602879029, 0.7412615537508652, 0.7412816137740795, 0.7412870522654523, 0.7412938920915387, 0.7413059097948449, 0.7413148355838975, 0.7413107297163631, 0.7413034933328668, 0.7413097278663386, 0.7413027443036806, 0.7413221037272474, 0.7413226503755647, 0.741321453804154, 0.74131939493222, 0.7413270968515207, 0.7413289202258122, 0.7413229250611503, 0.7413129137732484, 0.7413150424865603, 0.7413052238685838, 0.7413005714595955, 0.7412989859199529, 0.7413120953495348, 0.7413146619238362, 0.7413281992840407, 0.7413117489778434, 0.7413170068449331, 0.7413170708732867, 0.7413127686451447, 0.7413149208394233, 0.741326874450849, 0.7413379754490433, 0.7413380221614118, 0.7413489071670624, 0.741336113226291, 0.7413443809764707, 0.7413367995906056, 0.7413450186457471, 0.7413402607967366, 0.7413315180637947, 0.741329626595436, 0.7413252111419614, 0.7413388439849252, 0.7413302529612009, 0.7413254134456752, 0.741327812897981, 0.7413257093071643, 0.7413179725278171, 0.7413225044716557, 0.7413104594600574, 0.7413201946492816, 0.7413212570006619, 0.7413102585581869, 0.7413139456650191, 0.7413347334605392, 0.7413392029892149, 0.7413430946945844, 0.7413485099483538, 0.7413321683854986, 0.7413315729734244, 0.7413319642531367, 0.741343637526464, 0.7413538262969941, 0.7413460756832317, 0.741338401306573, 0.7413279907117271, 0.7413240290627311, 0.7413382883912306, 0.7413440484621964, 0.7413464342763643, 0.7413542762922462, 0.7413527839676518, 0.7413504160479163, 0.7413632374000937, 0.7413570396777551, 0.7413658603965533, 0.7413711317554029, 0.741404199855018, 0.7414196986028352, 0.7414167972165518, 0.7414253569047755, 0.7414068749890759, 0.741420638114203, 0.7414333270348346, 0.7414638112849761, 0.7414827270223431, 0.741491131488773, 0.7414874166940743, 0.7415020748598088, 0.741498951784339, 0.7414915537301079, 0.7414825248888753, 0.7414935367236016, 0.7415136414544499, 0.7415178620184558, 0.7415202302732032, 0.7415103025736999, 0.7415292633014343, 0.7415285528557135, 0.7415291775510343, 0.7415312011467171], 'valid auc-stdv': [0.004475048889342045, 0.004871802624354054, 0.00599631262836669, 0.005239803113614228, 0.004882106288640924, 0.004784093698428717, 0.005085609646119182, 0.004929924658515339, 0.004667939029899295, 0.004438869695560452, 0.004628727363946135, 0.004448227414888727, 0.004785318136468196, 0.004769539556253869, 0.004887127170306885, 0.0047012098947770975, 0.004657334556588754, 0.004754102572040613, 0.004775563882744989, 0.00482465054967085, 0.004729193482140182, 0.004668829153998316, 0.004729922364006745, 0.004738951015108785, 0.00468494079278044, 0.004684854326748984, 0.004731529482912684, 0.004724148088629565, 0.004734586671831843, 0.004675504033598797, 0.004713267917831121, 0.0048972506903999105, 0.004844184183754104, 0.004915253923814764, 0.00493405774206173, 0.0050218878833868585, 0.005033072705310106, 0.005005938319247513, 0.004985287871837756, 0.004984312383460907, 0.004978260696243878, 0.004986014591685012, 0.004961706357106819, 0.004926715585333885, 0.0048755456232310685, 0.004857674065310766, 0.00487619214265005, 0.004882662950933008, 0.00482949638121673, 0.004805820527735728, 0.004824461493687832, 0.004732885285787531, 0.004761005639305781, 0.004764750124671807, 0.0048424625450588345, 0.004832706705986373, 0.004761120276266707, 0.004774220624359755, 0.00470418147240715, 0.004672419628142701, 0.004690415288183148, 0.004674811986056109, 0.004623637107373715, 0.004573386336638606, 0.004547983543941712, 0.004553112044274214, 0.00455128291174674, 0.004598288461600397, 0.004578374301339962, 0.004596088468484339, 0.004601841799051065, 0.0045906234597317885, 0.004596420717970034, 0.004552199371115077, 0.00454128121278864, 0.00454092104489378, 0.004573512369634374, 0.00455119908984281, 0.00456417308747843, 0.004557992762038438, 0.004557715782114108, 0.0045362565715811685, 0.004526555527571109, 0.004478996339361744, 0.004459179302702608, 0.004386615167465966, 0.004328526780408914, 0.0043421250827633765, 0.0043570949144178415, 0.004310780571889993, 0.004279734501164674, 0.0042865739407029835, 0.004229080058397683, 0.004177357078314439, 0.004122275118385869, 0.0040559219300946815, 0.004058417774125441, 0.004037144683169151, 0.004077032562904298, 0.004091914143975051, 0.004053556445860742, 0.0040441351460228925, 0.0040278721907661, 0.004004815906225055, 0.003928326751126093, 0.003904399483239884, 0.0038553381850858224, 0.0037801860468006723, 0.0037782225980902123, 0.00374895659290621, 0.0037735671658021, 0.003788482312341044, 0.0037309629701342147, 0.0037156629478576225, 0.003720704714947571, 0.003717429547648026, 0.003775205046411252, 0.0038325501965372983, 0.0038413555831458756, 0.003995540202420015, 0.004116775784869381, 0.004226813098083592, 0.004186921586873817, 0.004225018008670799, 0.004312025284504472, 0.004408448875055208, 0.004449961802551352, 0.004425285570093234, 0.004415410833342802, 0.004440344614461761, 0.004532502896305451, 0.004519809974707045, 0.004525681900813955, 0.004586769085462742, 0.004655595274178785, 0.004666616284827949, 0.004665073201185164, 0.004621584845100485, 0.004644624926524812, 0.0046072447342751, 0.00460088222990371, 0.004570166005109773, 0.00460704403802967, 0.004615394001703047, 0.00466756230066698, 0.004618299608275009, 0.0046677328209861835, 0.004697368677082334, 0.004678057409698102, 0.00475581653656936, 0.004781654822641536, 0.004833681313072332, 0.004831569128012027, 0.004810442632020806, 0.004831537719225121, 0.004865515445842788, 0.004845873125235591, 0.0048154773770690005, 0.00482853390735605, 0.004815342438936436, 0.0048075366584840575, 0.004850037739377399, 0.004862295444138698, 0.004847557776676449, 0.004845713775933332, 0.00483749745000141, 0.00481797739444736, 0.004847382134691935, 0.0048628834753515595, 0.00490103576404718, 0.004912584544874297, 0.004940427358512368, 0.004929556466046683, 0.004899736265999236, 0.0048647009374827395, 0.004872626112038174, 0.00492688865060433, 0.004931651327163612, 0.0049216402922995575, 0.004896235132955042, 0.004892002684117392, 0.004915058137574795, 0.004891867329440579, 0.004869939456218307, 0.004857005269622334, 0.004816282501685768, 0.00481796022211864, 0.004811565273451012, 0.00481864983493042, 0.0048222106478789765, 0.00480879076163061, 0.00478382535170265, 0.0047903727341774135, 0.004787685045906948, 0.004814150072720748, 0.0048231282479149545, 0.004801276027808271, 0.0047729392041114945, 0.004782934031252479, 0.0048131735587402386, 0.004818789676242606, 0.004794840152635354, 0.004832986102067387, 0.004858278904715584, 0.004883378499048846, 0.004875357462048032, 0.004875315363795964, 0.004834742171577046, 0.004829166483695244, 0.004831912266172677, 0.004791205134760079, 0.004770992426230575, 0.0047744315999283735, 0.004791905842329824, 0.0047783214554621145, 0.004727315251410146, 0.00467417985338559, 0.004670305817493208, 0.004690265756892615, 0.004680888110555167, 0.004659745585281543, 0.004644325225066969, 0.0046323011716023635, 0.0046141450855555505, 0.004603021460605991, 0.004566407426393384, 0.004539290306220896, 0.004535128371210665, 0.004518937961589769, 0.0045226742196371895, 0.004487818717383847, 0.00448461384522329, 0.004474206576250494, 0.0044617605238068065, 0.004449139013344631, 0.004412670000152472, 0.004378901800647903, 0.004340366886121202, 0.004336772866788933, 0.004341739278686974, 0.004316288716569684, 0.004277095080403922, 0.004283708076994424, 0.00429411530978509, 0.0042795675102915145, 0.004261275755881031, 0.004264224635849001, 0.004234321236971326, 0.004248084030043505, 0.004277398427251179, 0.00426861551298282, 0.004211636731042456, 0.004203953506334351, 0.004204223571807574, 0.004167457941438304, 0.004150602265131003, 0.004123878489888849, 0.004118931715332886, 0.00412830794655025, 0.0041032614173473455, 0.00409943223095773, 0.004075003579593746, 0.004077398942154649, 0.004063664349275695, 0.004056878819727978, 0.004058092456464097, 0.004046467245094223, 0.004058826376816723, 0.004065295717738904, 0.004074408842510033, 0.0040581462891877565, 0.004088384623457388, 0.004084064613483641, 0.004066976905865366, 0.004099404151272544, 0.004120017617058738, 0.004082711616074541, 0.004065484175706296, 0.004061165977154202, 0.004059944581390581, 0.004089936242419506, 0.00408204690455157, 0.004083848513083101, 0.00408462671852551, 0.0040995410814302306, 0.004106190031570454, 0.004116194650729307, 0.004093984248330661, 0.004091753051597915, 0.00410768942255801, 0.004097961992884058, 0.004088129524065419, 0.004062334366014904, 0.004045173922780893, 0.004008088520449272, 0.00399846597178857, 0.004006267738005885, 0.004015649257360767, 0.004030049922257176, 0.004032401820919288, 0.0040425976075494936, 0.0040322630858925824, 0.0040226549209241725, 0.0040252107044477774, 0.00402560885679556, 0.004017068812005095, 0.004005800671689041, 0.003993968586849163, 0.004002482170757384, 0.004017222604216895, 0.004006422910880355, 0.004012395403139058, 0.004019072936053938, 0.0039907540601849395, 0.0039881408030058635, 0.00398186797651122, 0.003988911045464525, 0.00400810563357675, 0.003989722998060576, 0.0039955196939572835, 0.003976041991782832, 0.003993389238980693, 0.003997549268099349, 0.0039887332142555555, 0.0039838310120606886, 0.003976763210117674, 0.0040040655808672165, 0.003995171159450097, 0.004005184923482815, 0.004006324557653501, 0.003999714323564342, 0.003980922588851447, 0.003977044852230998, 0.003974937046451988, 0.003962822241310237, 0.003955013666409943, 0.003949124606566609, 0.003937851963632857, 0.003939199492471717, 0.003936281929753844, 0.003929422225441766, 0.003913633067127929, 0.003907198979038244, 0.003899394460595174, 0.003912694540765631, 0.003930969787141359, 0.003962054692114701, 0.003963370318287086, 0.0039628610272439595, 0.0039459297010881805, 0.0039482297243479784, 0.0039463399369885285, 0.003948490653134402, 0.003975882592591649, 0.003984882188774317, 0.003992384602996771, 0.0039942728877159555, 0.00400827265721707, 0.004014895850869658, 0.004030175814918641, 0.004025036029443381, 0.004022705726277765, 0.0040238221227273194, 0.0040163117546849515, 0.004024890166388737, 0.0040143629109814245, 0.004019998821430217, 0.00400665177903145, 0.003996428803370423, 0.00399344858316469, 0.003987572288178977, 0.004003483352587537, 0.004029772888343339, 0.00404054956527092, 0.004043976119921006, 0.004052382020256219, 0.004050921412031279, 0.0040413601318540875, 0.004053293370816719, 0.0040692689734029945, 0.004096393728658397, 0.0041115421702419145, 0.004106139082864582, 0.004094236132622514, 0.004101420837625112, 0.004111098554127997, 0.004113277702286049, 0.004121718000645157, 0.004096475815649151, 0.0040865955815630045, 0.004106455530504978, 0.004113678949111144, 0.004109857049871649, 0.0041071800374021085, 0.004122073963543919, 0.004123064206448611, 0.004110161404028849, 0.004110261315723256, 0.004116808853222246, 0.004118442070726179, 0.004100936429085698, 0.00409881382204397, 0.004104463819615868, 0.004083495942151895, 0.0041237409122546875, 0.004103300952168869, 0.004101421633014838, 0.0041089594335012025, 0.004135476047905758, 0.004130337353715235, 0.004136740068082826, 0.004138784233896288, 0.004123122240906715, 0.004118878829294981, 0.004097657917985775, 0.004102903665356571, 0.004122689791595044, 0.004142966101710502, 0.004136634879468349, 0.004149658060372257, 0.004146069128935075, 0.004152891732268552, 0.004151508770476488, 0.004154357718624695, 0.004143111221214488, 0.004126290449241979, 0.004125387820820668, 0.0041295621278596845, 0.004113285514316717, 0.004110850137608259, 0.004118935510348425, 0.004098021579193461, 0.004105019307941323, 0.004108060989760359, 0.004108367023177113, 0.004110592801352697, 0.004126132610865505, 0.004131568321655934, 0.004134880960481585, 0.004137165160098561, 0.004161977356690701, 0.00415606856935567, 0.004146570303966634, 0.0041421516436558805, 0.004124880753021456, 0.004126886594487062, 0.004127228670296651, 0.004099014521823775, 0.004090291399570309, 0.004083290891117881, 0.004073848845650604, 0.004064600922704253, 0.004065441158073182, 0.004065832016083878, 0.004080368403838585, 0.004089115056976057, 0.004097936255415143, 0.004100147996479403, 0.004103572923373941, 0.004094654874275248, 0.004099129707559593, 0.004115730969856382, 0.004109515257301423, 0.004105296097101315, 0.004113199975027584, 0.004099956199652551, 0.004087986803278513, 0.00408644355938962, 0.004081884612165511, 0.004071121236581125, 0.004103054314195776, 0.004116481598105976, 0.004119005524305126, 0.00412897319758711, 0.004131362020909053, 0.00413832870936199, 0.004152359329376325, 0.004141261537535605, 0.00415925435464072, 0.004142088311682708, 0.004158357399661506, 0.004150795929493582, 0.004153401415391226, 0.004171508308633115, 0.0041631495500934436, 0.004179389266972685, 0.004179127902604164, 0.004175146456574335, 0.004196221512123934, 0.004192313162563031, 0.004194879561697291, 0.004193677212469355, 0.004200519986811034, 0.004218713440118698, 0.004233990351267593, 0.004235201263017454, 0.004253853827139404, 0.004242325948041196, 0.00423143984025046, 0.00423508957405698, 0.0042352903129797784, 0.004211680813963437, 0.004208642647994906, 0.0042292316574679524, 0.004229782804135103, 0.004240158179524608, 0.004248256586798125, 0.004255311900964302, 0.004249821883235231, 0.004248959268811507, 0.004248054334399728, 0.004251805926345509, 0.004247416886479157, 0.004237786936154145, 0.004228948517034504, 0.0042423337193680495, 0.004240663552931775, 0.004224514972074574, 0.004232884660738529, 0.0042291755810018915, 0.004233178807555571, 0.0042394470135405475, 0.004235175829104356, 0.004245611556715501, 0.004237987623951164, 0.00424393769046925, 0.004240586974996708, 0.004244038336202454, 0.0042303922869130735, 0.00422591841996946, 0.004233334207403594, 0.004242009961506702, 0.004249302991889363, 0.004246725785598235, 0.00422777795978465, 0.004250955602296698, 0.0042495778063927365, 0.0042468956454214755, 0.004254742715904453, 0.004247407802586112, 0.004248835373369322, 0.004250818340155118, 0.004237353581518243, 0.0042244120769043365, 0.004218635886726999, 0.004217967406332483, 0.0042196592400602275, 0.004216444967649918, 0.004208394864757017, 0.004203537452498371, 0.0041900190075866185, 0.0041777391493169926, 0.004195113345663362, 0.00419872188638992, 0.004210378865413719, 0.004185308780080892, 0.004182635102603883, 0.004195819491308996, 0.004190788045980486, 0.004190052196504153, 0.004186132927128084, 0.004190870203799392, 0.004173588265920989, 0.00417569259784604, 0.004166292940279413, 0.0041680222767414106, 0.004176882723039261, 0.004169749886413697, 0.004178199112757097, 0.004167990260186343, 0.004163842469909138, 0.004159934973786502, 0.004147709568220245, 0.0041507208615472494, 0.004136277099834402, 0.004128598559767004, 0.004107945729313309, 0.004101473038454877, 0.004102975963325227, 0.004108554703892766, 0.0041027327776970235, 0.004095518660406979, 0.004108054790570896, 0.004102749666925306, 0.004099653722768094, 0.004092583543854455, 0.004104256791502222, 0.004103768996622045, 0.004114801021079295, 0.004106714699480227, 0.004121529724003436, 0.004137383700964516, 0.004155746973412026, 0.00416715343877118, 0.00416414438864291, 0.004168885349905062, 0.004187710368769534, 0.0041808485401063356, 0.004181763487139717, 0.0041887132861058015, 0.004177319061544398, 0.0041828017737932655, 0.00418173521260458, 0.004180841865776298, 0.004185856983845656, 0.004186506965658552, 0.004192990467062588, 0.004215480353377106, 0.004234045569154802, 0.004230084521300422, 0.004238441410272051, 0.004237953757115029, 0.00424419531015165, 0.004251595929722855, 0.00425082786848053, 0.004240675653149545, 0.004239937742207734, 0.004227444074824606, 0.0042410244184372895, 0.0042326495276295865, 0.004243330584049723, 0.004233509977969467, 0.004234330352864985, 0.004218097599553504, 0.004208348024927259, 0.004199818611126097, 0.004190201980015151, 0.0041778870003340175, 0.004177612330607487, 0.004184893213823674, 0.004180509310138814, 0.004180708185833473, 0.004181390340766314, 0.004188152265627852, 0.004193171842548564, 0.004204545542535569, 0.004207960888481088, 0.004209996515966605, 0.004215176283844189, 0.004200894584007533, 0.004207422024552362, 0.004192997729967465, 0.0041999627102988395, 0.004205162443718632, 0.004204165600294122, 0.004196655969784688, 0.00419650978087066, 0.004188366677795304, 0.004191420866479802, 0.0041920173471609945, 0.004183207059589145, 0.00417781559322575, 0.004170695585005073, 0.0041818605964245616, 0.0041788926926513495, 0.0041857664724658725]}\n",
      "| \u001b[0m8        \u001b[0m | \u001b[0m0.0      \u001b[0m | \u001b[0m0.01091  \u001b[0m | \u001b[0m0.04792  \u001b[0m | \u001b[0m28.3     \u001b[0m | \u001b[0m5.911e+03\u001b[0m | \u001b[0m1.153e+03\u001b[0m | \u001b[0m142.7    \u001b[0m |\n"
     ]
    },
    {
     "name": "stdout",
     "output_type": "stream",
     "text": [
      "{'valid auc-mean': [0.6955591606321905, 0.7052729024838361, 0.7089763771618044, 0.7105832079159587, 0.7132632995991822, 0.7149923646800412, 0.7155842152699762, 0.7158965701049885, 0.7164857215974997, 0.7168093873593637, 0.7171015836185667, 0.7176131077175733, 0.7177641152436477, 0.7179639081022765, 0.7180569811568116, 0.7181048551684909, 0.7181694641168498, 0.7182802874409796, 0.7184954970685403, 0.7187834275978239, 0.7189020371696571, 0.719293354942297, 0.7192634486287784, 0.7193192375051441, 0.7192656214982455, 0.7194183574750462, 0.7194417633120459, 0.7194515046402206, 0.7194867245409476], 'valid auc-stdv': [0.0048316493473673835, 0.004891556319589137, 0.006987940629437897, 0.006681857305758517, 0.006916148987848341, 0.0065103733103477595, 0.006157453599571623, 0.005504260017649271, 0.005113887581092938, 0.004637976853593715, 0.004647756005759744, 0.004642671801495051, 0.004500565829128573, 0.0043971504377717414, 0.004368901019888278, 0.00413930705979925, 0.004223561358002831, 0.004179129359120653, 0.004171957577892286, 0.0040803456368721175, 0.0039982297496710785, 0.004177626937036366, 0.004088557735011891, 0.004064968061239746, 0.003997265839354993, 0.003865179828677747, 0.003909119226197564, 0.0037968524977174288, 0.0037564833448107543]}\n",
      "| \u001b[0m9        \u001b[0m | \u001b[0m0.0      \u001b[0m | \u001b[0m0.01265  \u001b[0m | \u001b[0m0.02119  \u001b[0m | \u001b[0m49.19    \u001b[0m | \u001b[0m186.3    \u001b[0m | \u001b[0m101.4    \u001b[0m | \u001b[0m106.9    \u001b[0m |\n",
      "{'valid auc-mean': [0.6937142673496819, 0.7044335263111391, 0.7086006202104991, 0.7107531694879912, 0.713351736721346, 0.7148842150028946, 0.7154226348460098, 0.7162125892506005, 0.7166822223583765, 0.7171951181122225, 0.7175779483319026, 0.7179055565286534, 0.7182241355093567, 0.7184374819350885, 0.7187591825174907, 0.7188928248224705, 0.7190030084494429, 0.7189933828518708, 0.7191744379086682, 0.7192559176377795, 0.7193585772540549, 0.7195788539801485, 0.7197486786652522, 0.7198722885708905, 0.7200059355685591, 0.7200878079789376, 0.7203073534673797, 0.720292557797728, 0.7203683761539095, 0.7203630384934067, 0.7203996743320014, 0.7204691227634016, 0.7205501409112322, 0.7206096329016266, 0.7206022007287229, 0.7205146946733367, 0.7205288640642213, 0.7205315423034117, 0.7205997133463131, 0.7205819996270023, 0.7205158625744511, 0.7205085225527926, 0.7206289624823197, 0.7206329538551035, 0.7207759006775154, 0.7206618484967166, 0.7206363144143468, 0.720690788070506, 0.7206878405588458, 0.7207231936154394, 0.7206605424562729, 0.7206795460092007, 0.7206760997707274, 0.7207422377863476, 0.7207932290311246, 0.7208590975640812, 0.7208345504118858, 0.7208753328924328], 'valid auc-stdv': [0.005842727026035986, 0.004837047735245657, 0.00482061729019455, 0.005568188759876387, 0.005465876472315864, 0.004867965009899953, 0.0050892422981346705, 0.004314528040953138, 0.004030116147811022, 0.0041651670801619144, 0.0042804744389019775, 0.004607313794799771, 0.004441165072431685, 0.004452378967574464, 0.004394727791486488, 0.004364205397578831, 0.004575078628352064, 0.00440823111900803, 0.004132652168291675, 0.00425491703913359, 0.004306126786204041, 0.004362244002339871, 0.004215922833432147, 0.004173133830708377, 0.0040995487905112265, 0.004062570931367897, 0.003987375956571473, 0.003963293392591456, 0.003948895324058705, 0.003911519567530232, 0.003947011500722116, 0.003953972343512204, 0.004005895100287699, 0.003986351117520838, 0.0038940049078126085, 0.0038600042375979624, 0.00386451420053863, 0.0038853443826459195, 0.0038744020558289472, 0.003833243175216011, 0.0037790907638245285, 0.0036993122173662497, 0.003837371176953991, 0.0038932071891257863, 0.003931065525893521, 0.003876263850481872, 0.0038493851030779957, 0.003854219662478163, 0.003876053123594016, 0.003898424000332904, 0.003932013068417216, 0.0039549401616559236, 0.003999626464143934, 0.003947038454306955, 0.003907903127933401, 0.0038236510624668277, 0.003804062570714586, 0.003860710620387746]}\n",
      "| \u001b[0m10       \u001b[0m | \u001b[0m0.0      \u001b[0m | \u001b[0m0.02029  \u001b[0m | \u001b[0m0.03885  \u001b[0m | \u001b[0m10.34    \u001b[0m | \u001b[0m1.841e+03\u001b[0m | \u001b[0m126.5    \u001b[0m | \u001b[0m299.5    \u001b[0m |\n",
      "{'valid auc-mean': [0.6937674612056686, 0.7047194706891938, 0.7083059636604593, 0.7105807496026001, 0.7128136400089301, 0.7145499331798688, 0.7159533321249207, 0.7163643079959657, 0.7169601501350235, 0.7176622802739333, 0.7179056443869021, 0.7183396858114056, 0.7186344718804222, 0.7189303410026876, 0.7189991226681434, 0.7190510307413361, 0.7192405172365463, 0.7194251580506362, 0.7196544531342782, 0.7197914834882523, 0.7197403453348196, 0.7199477285574999, 0.7200114357095647, 0.7200502820670102, 0.7200446445476986, 0.7200101664163311, 0.7200495723747053, 0.7200614289340944, 0.7200733536097239, 0.720133439217471], 'valid auc-stdv': [0.004651118455001898, 0.004980898509084798, 0.006374979656065104, 0.006473235162950961, 0.005744762951436447, 0.006163552599969321, 0.005788307080994081, 0.005445726831018906, 0.005352736841135236, 0.004922925161420854, 0.005183764884367095, 0.005246460207685328, 0.005050364443599291, 0.005121518262722824, 0.00525111418102103, 0.005296784976044588, 0.0052810346311750285, 0.005185015404853757, 0.005190273787320228, 0.0051803955203990875, 0.005245103415699996, 0.00518289737038576, 0.005249300558952123, 0.00539878086162713, 0.005237858466555173, 0.005166629046677682, 0.005129483709450116, 0.004955875692948307, 0.004905872049792653, 0.004849184005536146]}\n",
      "| \u001b[0m11       \u001b[0m | \u001b[0m0.0      \u001b[0m | \u001b[0m0.04546  \u001b[0m | \u001b[0m0.04861  \u001b[0m | \u001b[0m38.41    \u001b[0m | \u001b[0m9.853e+03\u001b[0m | \u001b[0m185.7    \u001b[0m | \u001b[0m149.3    \u001b[0m |\n",
      "{'valid auc-mean': [0.7002681633481259, 0.7061413468818095, 0.7094680039507186, 0.7112875912840816, 0.7128815939798017, 0.7142865547526771, 0.7149343740754953, 0.7156308621515954, 0.7167000609917661, 0.71717363201725, 0.7177007543869124, 0.7180396357637857, 0.7184576591018894, 0.718661371661942, 0.7190763898792283, 0.7192202208611783, 0.7195720222139944, 0.7198093473676576, 0.719931107803958, 0.7202822880991362, 0.7204058203023368, 0.720546879353778, 0.7207496759311285, 0.7208066327796706, 0.7209662317546153, 0.7211945224947528, 0.7211950749998275, 0.7213767011203869, 0.7216218125289281, 0.7217836504428786, 0.7219552793912069, 0.7219683682985042, 0.7220545831636054, 0.7221498478497822, 0.7222284046462176, 0.7223902742333124, 0.7225009355227806, 0.7226041186966888, 0.7226228044564644, 0.7227184883880146, 0.7228882526087176, 0.723065095207338, 0.7231351831876065, 0.723276479809098, 0.7234016545590721, 0.7234239835556838, 0.7234996220406377, 0.723551957501411, 0.7236172521053751, 0.7237089411912964, 0.7237638857701284, 0.7238256996906243, 0.7239444122240702, 0.7240405115983286, 0.7240869533478868, 0.7241620959019991, 0.7242546948977587, 0.7243045661616999, 0.7243764498276724, 0.7244643802153329, 0.7246140762574548, 0.7246233660436698, 0.7247301266321684, 0.7248554009305073, 0.7248954747907366, 0.7249731926029573, 0.7250067353848623, 0.72505507352358, 0.7250837167874794, 0.7251703863816589, 0.7252592862374546, 0.7253620249450314, 0.7253980278817781, 0.7255119143266695, 0.7256031556734407, 0.725633530965756, 0.7257322403609683, 0.7258098897381973, 0.7258908276321359, 0.7259427430367582, 0.726001621412747, 0.7260586303991036, 0.7261800309976228, 0.7262116262968511, 0.7262335876783387, 0.7262940726070547, 0.7263104735431064, 0.726306536660683, 0.7263324185310811, 0.7263129345770839, 0.7264188662137666, 0.7264437044263848, 0.7263904162957652, 0.7264391784360359, 0.7264531525564354, 0.7265355120447206, 0.7265902436700546, 0.7266222869185549, 0.7266510978920903, 0.7267405550310609, 0.7267725338630524, 0.7267898106959437, 0.7268401671589201, 0.7269157704929458, 0.7269698727981956, 0.7270461973168509, 0.7271186646230117, 0.7271510887016829, 0.7272529077191825, 0.727328781388688, 0.7274282336075806, 0.7275062030962927, 0.7276630450447149, 0.727691874714591, 0.7277807299465779, 0.72792139539583, 0.7279567555305392, 0.728038752183603, 0.7281699454574518, 0.7282529159384552, 0.7283118964420966, 0.7284321047364594, 0.7285436074899581, 0.7286881563293864, 0.7288022362824537, 0.7289670093357388, 0.729099302246497, 0.7292389427061874, 0.7292977856549315, 0.7294190582338788, 0.7295697633139966, 0.7296562933044503, 0.7298187718583647, 0.7299538136305079, 0.7300417619668615, 0.7300875776691177, 0.7302271374783608, 0.7302800283110975, 0.7303683364932363, 0.7304912259764578, 0.7305662941561857, 0.7307025963320326, 0.7307823929577536, 0.730885495054626, 0.7309826704191602, 0.7310593299677789, 0.7311087355188195, 0.7312118799262536, 0.7313005178661381, 0.7314087298048587, 0.731524129730202, 0.7315728577402991, 0.7316427649425875, 0.7317198892937488, 0.7318631596516356, 0.7319280963365289, 0.7320348777454768, 0.7320812343408564, 0.7321741330213571, 0.732280277190862, 0.7323673872737748, 0.7324075886457946, 0.7325305132781419, 0.7326051140487104, 0.7327302266098313, 0.7327667244510044, 0.7328584721011477, 0.7329672333580405, 0.7330516921079476, 0.7331148941679756, 0.7332164361835779, 0.7332836283191743, 0.733379527016574, 0.7334499189478283, 0.7335425559414316, 0.7335848670244705, 0.7336517491208944, 0.7337216297332984, 0.7338202659331209, 0.7339021447879337, 0.7340094014408893, 0.7340904081665555, 0.734143419308113, 0.7342195753541981, 0.7343193919831412, 0.7343719789883045, 0.7344718622556791, 0.7345406467568735, 0.7345942523325822, 0.7346618290187039, 0.7347159498721133, 0.7347853531369871, 0.7348669513432785, 0.7349116421016787, 0.7349691092166971, 0.7349805704158784, 0.7350216594095015, 0.7350635576992447, 0.7351402363038764, 0.7351626517988238, 0.7351924431541561, 0.7352498409133692, 0.7352951189422496, 0.7353471414108648, 0.7353956793718585, 0.7354547659402982, 0.7355478797456723, 0.7355898827530639, 0.7356477955482008, 0.7356954363723478, 0.7357846153444512, 0.7358289853214893, 0.7358932590605171, 0.7359250970880472, 0.7359579742377912, 0.7360054750629906, 0.7360606972617539, 0.7361071181436323, 0.7361572946726116, 0.7362120341177961, 0.7362791063851853, 0.7362966579020398, 0.7363174631087993, 0.7363677033552766, 0.7364252598840482, 0.7364640881974744, 0.7365424236246291, 0.736628723185016, 0.7366688803817002, 0.736703993875118, 0.7367377140502375, 0.7367952341738415, 0.7368076143689204, 0.7368538094348237, 0.73687923610712, 0.7369196459890083, 0.7369653758506581, 0.737028009580991, 0.7370812664884538, 0.7371378679125226, 0.7372040765725106, 0.7372283979276233, 0.7372608746366037, 0.7372947037507656, 0.7373123545223267, 0.7373719511280491, 0.7374198288759102, 0.737441274366278, 0.73749031213285, 0.7375187473526598, 0.7375791324291137, 0.737613624992596, 0.7376326792182567, 0.7376422002465417, 0.7376650057282405, 0.7376939486985855, 0.7377256742925958, 0.7377638936324601, 0.737788238347831, 0.737833424988725, 0.7378465322956762, 0.7378678165765814, 0.7378989912212743, 0.7379395939648941, 0.7379744927473362, 0.7380117362396718, 0.7380380717900191, 0.7380797818425058, 0.7381111490267536, 0.7381551062748879, 0.738182428480391, 0.7382094631112959, 0.7382521187445891, 0.7382723617970184, 0.7382872392891181, 0.7383276340016637, 0.7383747099877088, 0.7384090174654684, 0.7384185151091948, 0.7384678330666216, 0.7384947017187246, 0.7385275250817699, 0.7385523776145195, 0.7385930894271917, 0.7386102365155898, 0.738643728899708, 0.738650601357933, 0.7386746326198742, 0.7387139510349297, 0.7387433508415885, 0.7387577832620855, 0.7387770451955622, 0.7387920285153345, 0.738802002839091, 0.7388357054794511, 0.7388527805973509, 0.7388818399657621, 0.7388779479276882, 0.7388978369281759, 0.7389223083779456, 0.7389268344977995, 0.7389413073468507, 0.7389725559411783, 0.7389854748328394, 0.7389935108108866, 0.7390104616637118, 0.7390241236048943, 0.7390484062835228, 0.7390424792272774, 0.7390745876691732, 0.739111160486721, 0.7391501069924661, 0.7391666464459073, 0.7391828593449093, 0.7392274664776314, 0.7392264510270367, 0.7392384066620172, 0.7392488986092057, 0.7392532145514874, 0.7392687544640046, 0.7392849244789735, 0.7393018885408971, 0.7393142954096493, 0.739336194577803, 0.7393891613039066, 0.7393984059212159, 0.7394087033037082, 0.7394366090786981, 0.7394538839857043, 0.739475142781413, 0.7395057452117596, 0.7395224877981516, 0.7395304426103982, 0.7395517827973878, 0.739570595459284, 0.7395898478300703, 0.7396035896812997, 0.7396315148974292, 0.7396556207064161, 0.7396716391400142, 0.7397059897884345, 0.7397207181174351, 0.7397490328667593, 0.7397757400336601, 0.7398047257044521, 0.7398079906230928, 0.7398282723964243, 0.739818696587366, 0.7398198718049113, 0.7398393788067968, 0.7398456914978851, 0.7398651248744037, 0.7398769716852813, 0.7398838657720294, 0.7398884887166369, 0.7398931787809938, 0.739931631277528, 0.7399496364337352, 0.7399695815983082, 0.7399889799401356, 0.7399964519581349, 0.7400304330097347, 0.7400426708633071, 0.7400542449526654, 0.7400748459579839, 0.7400888074495349, 0.7401108132624842, 0.7401095094233408, 0.7401169153959931, 0.7401291570737909, 0.740173709981761, 0.7401745911339447, 0.7401873350174215, 0.7401830113682101, 0.7402114544275555, 0.7402275779341482, 0.7402330006751354, 0.7402155810875254, 0.7402580207300056, 0.7402815875082638, 0.7403062595668587, 0.7403292287884913, 0.7403345491404, 0.7403380596750342, 0.740360116168504, 0.7403697717438992, 0.7403727879937995, 0.7404020030592656, 0.7404291146014795, 0.7404546853737695, 0.7404669409078308, 0.7404831947271605, 0.7404785401390814, 0.7404953640942565, 0.7405200651432691, 0.7405282727491698, 0.7405403196800555, 0.740541822153214, 0.7405491752074873, 0.7405561862967072, 0.7405746507479524, 0.7405810879422866, 0.7405871297911952, 0.740602408925731, 0.7406075908872679, 0.7406225042150298, 0.7406303655748502, 0.7406465961145378, 0.7406412526931806, 0.7406454658124401, 0.7406530434377511, 0.7406806807184557, 0.7406969756510727, 0.7407117117357478, 0.7407056540118521, 0.740724620540064, 0.7407181231545806, 0.740719709277934, 0.7407167594011813, 0.7407193417824004, 0.7407236949542554, 0.7407157502848042, 0.7407333293310329, 0.7407312941871057, 0.7407535861892507, 0.7407573613039546, 0.7407914780642454, 0.7408162061771778, 0.7408126137295644, 0.7408211345554109, 0.7408478123665968, 0.7408608303967993, 0.7408790651006925, 0.7408808180842185, 0.740913773212608, 0.7409204045618512, 0.7409246661612684, 0.7409358394213476, 0.7409461894170598, 0.7409810147357999, 0.7409809970537248, 0.7409907730130764, 0.7410036313038733, 0.7410227357267174, 0.7410381373377716, 0.7410506532571887, 0.7410519045199594, 0.7410608707724661, 0.7410798682342508, 0.74107222312173, 0.7410958577443468, 0.7411152715073887, 0.7411402919370739, 0.7411607935075611, 0.7411694234015945, 0.7411700221715742, 0.7411756068945848, 0.7411757294772455, 0.7411883773946979, 0.7411854819056604, 0.7412204297650224, 0.7412430778270885, 0.7412634480120223, 0.7412702584081953, 0.7413029509808631, 0.7412987770163051, 0.7413137350835001, 0.7413148441709723, 0.7413207169598501, 0.7413204250638449, 0.7413310690226703, 0.7413488834355221, 0.7413600352312674, 0.7413597084207023, 0.7413400568927394, 0.7413369082368911, 0.7413405646422649, 0.7413676685703517, 0.7413780243573838, 0.741383449573824, 0.7413921163934255, 0.741411528634709, 0.7414328439676595, 0.7414329023602294, 0.7414452761432142, 0.7414613136540248, 0.7414723295543926, 0.7414872194003946, 0.7415006946774195, 0.741493108005204, 0.7414985346775683, 0.7414944484103869, 0.7414876980548023, 0.7414720163046664, 0.7414681655906504, 0.7414796188703291, 0.7414867656266337, 0.7414728895663346, 0.7414798424373408, 0.7414741528239119, 0.741475740948034, 0.7414729056074578, 0.7414784062688278, 0.7414854657480708, 0.7414926888645668, 0.7414976661426959, 0.7414925545580796, 0.7414900267232843, 0.7414839887797222, 0.7414895967803558, 0.7415064598909535, 0.7415001998068836, 0.7415126518405039, 0.741522710334639, 0.7415196826998901, 0.741535193237512, 0.7415443270497791, 0.7415597558897353, 0.7415633849203336, 0.7415788176711883, 0.7415826257496537, 0.7415948029503724, 0.7415870058891647, 0.74158397806023, 0.7415944956055355, 0.7415967936746636, 0.741614890089424, 0.7416203620459222, 0.7416522546185784, 0.7416452220440414, 0.7416581071191247, 0.7416838059189904, 0.7416712588878228, 0.7416845528983745, 0.7416914411504659, 0.7416959885816415, 0.7416938228286875, 0.7417095573826954, 0.74172444301812, 0.7417091034035, 0.7417226037330757, 0.741726349319728, 0.7417243702769362, 0.7417236737073085, 0.7417161553938669, 0.741731080287323, 0.7417399848718454, 0.7417489553265653, 0.7417441079703501, 0.741743234587469, 0.7417475350248194, 0.7417577606511173, 0.7417659741303962, 0.7417660988183096, 0.741781457623856, 0.7417897801770904, 0.7418014610245973, 0.7418105287827207, 0.7417915215716313, 0.7417949968879888, 0.7417863824306008, 0.7417751645093973, 0.7417819984748685, 0.7417782484614602, 0.7417809180041525, 0.7417677771644389, 0.7417859535838515, 0.7417944861823411, 0.7417953910361405, 0.7418257231299253, 0.7418398013689037, 0.7418407722764143, 0.7418359211204185, 0.7418398500358201, 0.7418409570383021, 0.7418341345653361, 0.7418277267332062, 0.7418311340490922, 0.741826654635766, 0.7418154539340677, 0.741813447545776, 0.7417991629375867, 0.7418146948206372, 0.7418279053196571, 0.7418426511883925, 0.741843104637958, 0.7418316299382917, 0.7418310611959971, 0.7418190045543844, 0.7418295509715628, 0.7418196598292298, 0.7418255363640239, 0.7418391769969853, 0.7418515488654419, 0.7418570401637875, 0.7418632239456407, 0.74187489743082, 0.7418858255367544, 0.7418886314119403, 0.7419029336817983, 0.7419063854571238, 0.7418953096192814, 0.7418856852069774, 0.7418715951200756, 0.7418796062158176, 0.7419005611983743, 0.7419249546312813, 0.7419290407709044, 0.7419313191827864, 0.7419422706793363, 0.7419357171250088, 0.7419254429134202, 0.7419189805766168, 0.741934704911972, 0.7419643691782086, 0.7419595667726298, 0.7419536862742264, 0.7419658943815494], 'valid auc-stdv': [0.0047815125474094215, 0.0049032776577214105, 0.006136027017755769, 0.005960769756663277, 0.0055922232482762705, 0.005316461507603198, 0.005335461808271967, 0.005024975632561978, 0.005016886572730423, 0.004937290590763743, 0.005189480800879945, 0.005385438016694638, 0.0055305481929917655, 0.005765433415695148, 0.005646487652721744, 0.005486671925896934, 0.005334048918784192, 0.005321622774456334, 0.0053249299340635894, 0.00531040640665472, 0.005227252935744533, 0.005115655057892488, 0.00505015331324281, 0.005025664546168042, 0.005015597722708356, 0.005030598515179932, 0.005003132390570189, 0.004844272681794464, 0.005018437782740286, 0.0050103219536846684, 0.004997203628725018, 0.005012858794864227, 0.0050242707377072225, 0.005076897249159828, 0.005026709969966364, 0.004987729771528507, 0.004999482109196035, 0.0050316238506439015, 0.0051025263271352855, 0.00508374248550486, 0.005027494746775095, 0.00508660474106665, 0.005049455166625961, 0.004989081074024813, 0.004929629571157289, 0.004937108601126751, 0.0049581725094892184, 0.004923438469026673, 0.004809103035565097, 0.00488051669230094, 0.004867516669905629, 0.004922332401102188, 0.004869549116195493, 0.004881272898562265, 0.0049551924679510405, 0.005018745124913896, 0.005023145987219301, 0.005040936219341791, 0.0050176677132677695, 0.0049912332168640374, 0.0049483440290251325, 0.0048883529728992806, 0.004809276475295918, 0.0046814902531359445, 0.004693865553219431, 0.004635384559916224, 0.004636669562247203, 0.004641658089737803, 0.004697129790271246, 0.004687277045772614, 0.004696122984580137, 0.004725139772195346, 0.00474945196460589, 0.004724056435621072, 0.004689792333059446, 0.004727383299249097, 0.004704784987730904, 0.004730619315445711, 0.004700904524110512, 0.004667027965742398, 0.00470723357954401, 0.00466062057944717, 0.004677923292691364, 0.004656915237805786, 0.004692151207770444, 0.004720352571384474, 0.004723431123187339, 0.004754519990911539, 0.004743438403720653, 0.004745155575240758, 0.004669982712848939, 0.004668585440667537, 0.004634711400591426, 0.0045933747140891115, 0.004527212393882724, 0.004498565844776399, 0.004483735802071017, 0.004447289563106415, 0.004407668033643808, 0.004425861927993482, 0.004397030151443477, 0.004368826329267852, 0.004464505974820356, 0.004438954143703445, 0.004358736527520429, 0.0043274217320496385, 0.004264490337234859, 0.0042608434922388715, 0.004292588414714296, 0.004275403519437459, 0.004344968005635024, 0.004324968520179241, 0.004332767887329228, 0.004349129387295737, 0.004356624135192794, 0.00433834709671373, 0.004347569866215384, 0.004370889572516411, 0.0043849653750724785, 0.004353436574630826, 0.004347778652423159, 0.004452605347118742, 0.004537329533526718, 0.004598750097664237, 0.004634137106761969, 0.004600815066276101, 0.004660162835749878, 0.004663187164588906, 0.004667703436303157, 0.004662279442081029, 0.0047048018845974315, 0.004702392491607439, 0.004687099551583511, 0.0046734512900228654, 0.004680360005194733, 0.004725249119047694, 0.004724564126573353, 0.004714489719225284, 0.004787715274689915, 0.004788623315293724, 0.004766049685328288, 0.0047799367446361134, 0.004760281563426887, 0.004753311102109817, 0.004723344198072198, 0.0047224264887026825, 0.004728964999807548, 0.004749515261492134, 0.004770966721563912, 0.004764946435152086, 0.004761956681805076, 0.004790360902204778, 0.004799370001311647, 0.004813182294717206, 0.0048271149802969005, 0.0048253120706395255, 0.004836559488331128, 0.004829831155733518, 0.004892008065312617, 0.004847389353716125, 0.004888464553044714, 0.004906786971115136, 0.00490289196804301, 0.004904966715404869, 0.004856850529911071, 0.004851797363408162, 0.004861555203655962, 0.004820860710101615, 0.004811623350270618, 0.004802892932917446, 0.00476856927466069, 0.00475235576417438, 0.004732825182128611, 0.004730072762596815, 0.004735073309946832, 0.004731976354693015, 0.004698519068644362, 0.004670020699272886, 0.004670207180243885, 0.004641434954247793, 0.004627097184548696, 0.004620620858139509, 0.004633409389099557, 0.004605049037736815, 0.004646157874676026, 0.004654905257196323, 0.004667641185998088, 0.0046727670118933634, 0.004631275320498968, 0.004603549802569544, 0.00458390446103973, 0.004590309787622748, 0.0045871837154481355, 0.0045906048529606, 0.004607329399169069, 0.004606299036388208, 0.00460761038172352, 0.004619024007804946, 0.004641231078114791, 0.004639729683315771, 0.004636363011794555, 0.0046138167367469115, 0.004638937931159612, 0.0046610822134760975, 0.004652154122776216, 0.004640638113698481, 0.004640714466514208, 0.004673194606276524, 0.004685760535289602, 0.0046816260895421935, 0.004698890592876992, 0.004685797484728728, 0.004703820511140674, 0.004721761838021714, 0.004738172577049862, 0.004728502859029424, 0.0047099605101965725, 0.00469945424317513, 0.004682103561242787, 0.004673607957580632, 0.00467125079340052, 0.004684980887603489, 0.004687684466816134, 0.00469885199424638, 0.004721120830592548, 0.004697937416805507, 0.004669679752617005, 0.004659507755668779, 0.004645001355388339, 0.004631166438666887, 0.0046205384898304995, 0.004610376001047217, 0.004578320657475866, 0.004573068259319134, 0.004574527370606306, 0.004575620866317159, 0.004579293814491783, 0.0045776076179119204, 0.004557620209164842, 0.004562006289468159, 0.004539799416937559, 0.004545032237504734, 0.004537777362342445, 0.004529849434407205, 0.004543094544199063, 0.004519524951882199, 0.004543569645041144, 0.004541289410172164, 0.004549955127729961, 0.004538106224511431, 0.00449216251957811, 0.004489352023722582, 0.0044743728321021406, 0.004480146276518155, 0.00448675146525547, 0.004481898548984417, 0.004475045378320488, 0.0044472941431600325, 0.004451059183298488, 0.004471870798097908, 0.004476456615544087, 0.00445783961337759, 0.004467191010185695, 0.004456312274518489, 0.004479404998151289, 0.0045066224637216054, 0.004499295266763346, 0.0044818689403749125, 0.004497182019424798, 0.004497242644177177, 0.0044824513327100576, 0.004447114146646393, 0.004436274250664357, 0.004428155865062709, 0.004463273379900147, 0.004441773956562035, 0.0044702409283615555, 0.004481294046407639, 0.004489645135601869, 0.004498405920859616, 0.004495400890379169, 0.004473671549400742, 0.004481379093416903, 0.004467166819384653, 0.004463233002289026, 0.004460439603185257, 0.004480846395207821, 0.004494327724487314, 0.004486190673559389, 0.004506956708169039, 0.004515971136355787, 0.004530602257771972, 0.004522982120898106, 0.004535282043086414, 0.004526489118766426, 0.004521481574219267, 0.004538211762286564, 0.004556454611114276, 0.0045440248656899145, 0.004532721554381012, 0.0045312121352674446, 0.0045615105181063655, 0.004568370299325523, 0.00455495914023459, 0.004580748247891076, 0.004562382640387108, 0.004563634935386458, 0.004557358448716681, 0.004552633916096012, 0.004574710073222019, 0.004564431529718126, 0.004570033673699491, 0.004594138968953669, 0.0045991289201941865, 0.004601929758525109, 0.004585842413000483, 0.004575214519660148, 0.004585350842909911, 0.004587275570617317, 0.0045779819794300285, 0.004589105729099132, 0.004590656363636856, 0.004591483136924464, 0.004570815461224048, 0.004564266983257638, 0.004578189995914199, 0.004587002653926647, 0.004586564129924153, 0.004617222053930425, 0.004607761679231976, 0.004623326674593027, 0.0046042883031779175, 0.004597351910446751, 0.004605592303241058, 0.004606543652777433, 0.0046092434870153775, 0.004599997956220452, 0.004599257691968432, 0.004577275175919051, 0.004575463809790487, 0.004566763569602988, 0.004565551640964483, 0.004543522599163775, 0.004538063931626961, 0.004538608904538389, 0.004554786453268008, 0.0045566562798078514, 0.0045646646107814735, 0.004571167482363875, 0.004590182484168882, 0.004573994785994176, 0.004576370669443016, 0.004560841220363977, 0.004567488959191208, 0.004592260196866838, 0.004563938847317519, 0.004556405908703346, 0.004557382857630062, 0.004556421724605797, 0.004559178949285268, 0.004565023977958188, 0.004549684759869913, 0.0045372575644601855, 0.004534378556659008, 0.004530006258007362, 0.004537477761532163, 0.0045415254102985055, 0.004545660536502704, 0.00454722936887536, 0.004534656674039931, 0.004519258940355681, 0.004537861603917551, 0.0045172058571738925, 0.004514067038838103, 0.004501249863290626, 0.0045010234998458624, 0.004523297759792593, 0.004529664814799787, 0.004521411928407132, 0.004501188426895688, 0.004481595945077935, 0.004473485189062574, 0.004453744804476643, 0.0044417771314436555, 0.004437835982989123, 0.0044288403258020345, 0.0044211423386560774, 0.004434228896687384, 0.004450470168740502, 0.0044436779568191, 0.004419141461825569, 0.004419431685840444, 0.004422899526595801, 0.004425526277226896, 0.004417132279001721, 0.004420599658504028, 0.004418860215331265, 0.004404958908541942, 0.004426323525798123, 0.004419875253604137, 0.004416745191492915, 0.004401832302086407, 0.004405317573797869, 0.00439538941058114, 0.0043914616749419115, 0.004383148092058451, 0.004379624619292144, 0.004376043502671083, 0.004379850615982011, 0.004360486430223062, 0.004337081699965546, 0.004335363341679194, 0.0043217385099088975, 0.004320620585853347, 0.0043339517179336534, 0.004326626064559445, 0.004333403746905397, 0.004321188264531105, 0.004318156391347532, 0.004305269977288601, 0.0042899337181153, 0.004270090244606412, 0.0042683749059600215, 0.004255546061283466, 0.004250493067653164, 0.004245203354042169, 0.0042559775156661055, 0.004257941329724157, 0.004276974181942376, 0.0042849316772679575, 0.004287691306600225, 0.004277823987548951, 0.004282235410733791, 0.004297856247562263, 0.004307485837320073, 0.0043172951402307026, 0.004307675928560646, 0.004302521043808436, 0.004309903615167909, 0.004307279512490717, 0.004314746419288704, 0.004320988421090796, 0.004324881544611684, 0.004332691046438875, 0.004330448400098349, 0.004323549934447819, 0.004318940373601546, 0.004335953896439611, 0.004342238025975083, 0.004329157770659125, 0.004324042523431501, 0.0043334137914104185, 0.004309782578721636, 0.004316104548028943, 0.004318570760350725, 0.004348222723327204, 0.00434200093754796, 0.0043421869178038065, 0.004356003521350702, 0.004356876698379974, 0.004355056675535412, 0.004352607126014265, 0.004360959015494859, 0.004370245139717704, 0.004372356944750516, 0.004374946701084195, 0.00436567178438039, 0.004371160721199081, 0.0043648436417692196, 0.004363689497554709, 0.004360846275717216, 0.00436274448218334, 0.00436333257425405, 0.004358997395418053, 0.004367220908892359, 0.00437938800764394, 0.0043714924527239775, 0.004378535499831398, 0.004389481786617912, 0.004381042696876412, 0.004384520245781086, 0.0043725088413916965, 0.004353973102482514, 0.0043522509174247865, 0.004352162414431718, 0.004371807710830557, 0.004353298441975047, 0.004350364642287608, 0.004344416862545125, 0.004327479831958502, 0.004346790804912473, 0.004343387959996746, 0.00434881473184003, 0.004345488796741054, 0.004336470207089895, 0.004342983484857515, 0.004365802372487834, 0.0043687784514726165, 0.004353182417716413, 0.004345365349671931, 0.004328284998119002, 0.0043391663845352545, 0.004356591928812333, 0.004363817022827708, 0.004361156027626498, 0.004375686874124922, 0.004363130894051236, 0.004370977136764187, 0.004364652714433657, 0.004364465906247809, 0.00435349742902636, 0.004365133393173015, 0.004341896552919068, 0.004324954639334322, 0.004316435104467311, 0.004316044266074341, 0.004321999852963874, 0.004320252848448527, 0.004321326552731762, 0.0043185861192874125, 0.00431802410991153, 0.00432144984945001, 0.00431908666163465, 0.004322010238664008, 0.0043152586100039855, 0.00431544585935575, 0.004326186111067308, 0.004316565927706412, 0.00433100143476053, 0.004342199184169511, 0.004369643642963909, 0.0043878111908783515, 0.004390817810268586, 0.004401264030509592, 0.004408673761987665, 0.0044126797847099716, 0.004412559061497983, 0.004398664349765386, 0.004414521703862438, 0.004432517686256473, 0.004439694862309093, 0.004451990700387912, 0.004457422458458532, 0.004454512300391614, 0.004424064511461926, 0.004420494348825491, 0.004404601957977427, 0.004405313311588015, 0.004416361587136892, 0.004398335654301353, 0.004395090496643469, 0.0043905573765699165, 0.004393281882794414, 0.004384235276577841, 0.004381632735335989, 0.004377838787484517, 0.004389949967921565, 0.004389903534191834, 0.00438662990897468, 0.004387231793354566, 0.004392333899516431, 0.004391014011199886, 0.004387533245434457, 0.004405940776044558, 0.004417090129714415, 0.004438617119000046, 0.004436258064877565, 0.004438890398710479, 0.004437956430171961, 0.0044461078276673395, 0.00445392602837036, 0.004458676422117492, 0.00446439597894569, 0.004452250551277854, 0.004463598082093837, 0.004478445574677851, 0.00448325214999889, 0.004477635060847345, 0.004478473156443262, 0.004494496855018481, 0.0045058997803442925, 0.00450425716237289, 0.004507780340207599, 0.004508892405118025, 0.00450561558163225, 0.004502772820584588, 0.004497527332545542, 0.004529441088817709, 0.004531928623248013, 0.004544361211108093, 0.004560771120234681, 0.004560438124960787, 0.004554759112596795, 0.004553200421885558, 0.00455007169430348, 0.004561274875355856, 0.004549485003746148, 0.004544044583824777, 0.0045483460886371835, 0.004541321090259101, 0.004552594129897268, 0.00454952799139886, 0.004558133743888884, 0.004560543265230143, 0.004563554144401131, 0.004569397708437092, 0.004569372928648976, 0.004580255242848216, 0.004591905038840003, 0.004584250734817841, 0.004577421017640059, 0.00457854364039897, 0.00458545257228894, 0.004599474094584084, 0.004630561996111499, 0.004631587561010135, 0.0046366490766439295, 0.004651894939865497]}\n",
      "| \u001b[0m12       \u001b[0m | \u001b[0m0.0      \u001b[0m | \u001b[0m0.01275  \u001b[0m | \u001b[0m0.03051  \u001b[0m | \u001b[0m59.86    \u001b[0m | \u001b[0m1.033e+03\u001b[0m | \u001b[0m1.184e+03\u001b[0m | \u001b[0m3.152e+03\u001b[0m |\n",
      "=================================================================================================\n"
     ]
    }
   ],
   "source": [
    "lgbBO = BayesianOptimization(lgb_eval, {'num_leaves': (25, 4000),\n",
    "                                                'max_depth': (5, 63),\n",
    "                                                'lambda_l2': (0.0, 0.05),\n",
    "                                                'lambda_l1': (0.0, 0.05),\n",
    "                                                'min_child_samples': (50, 10000),\n",
    "                                                'min_data_in_leaf': (100, 2000)\n",
    "                                                })\n",
    "\n",
    "lgbBO.maximize(n_iter=10, init_points=2)"
   ]
  },
  {
   "cell_type": "markdown",
   "metadata": {
    "colab_type": "text",
    "id": "rdkxhhST-KZS"
   },
   "source": [
    " **<font color='teal'> Print the best result by using the '.max' function.</font>**"
   ]
  },
  {
   "cell_type": "code",
   "execution_count": 19,
   "metadata": {
    "ExecuteTime": {
     "end_time": "2019-04-22T15:49:01.513767Z",
     "start_time": "2019-04-22T15:49:01.509392Z"
    },
    "colab": {},
    "colab_type": "code",
    "id": "oc8z6mfy-KZS"
   },
   "outputs": [
    {
     "data": {
      "text/plain": [
       "{'target': 0.0,\n",
       " 'params': {'lambda_l1': 0.041562969647767165,\n",
       "  'lambda_l2': 0.0007266741731021487,\n",
       "  'max_depth': 31.954553057985578,\n",
       "  'min_child_samples': 7221.74398341644,\n",
       "  'min_data_in_leaf': 733.9763881811416,\n",
       "  'num_leaves': 1697.9801849557773}}"
      ]
     },
     "execution_count": 19,
     "metadata": {},
     "output_type": "execute_result"
    }
   ],
   "source": [
    "lgbBO.max"
   ]
  },
  {
   "cell_type": "markdown",
   "metadata": {
    "ExecuteTime": {
     "end_time": "2019-04-22T15:50:29.049881Z",
     "start_time": "2019-04-22T15:50:29.045908Z"
    },
    "colab_type": "text",
    "id": "J5LAydKC-KZW"
   },
   "source": [
    "Review the process at each step by using the '.res[0]' function."
   ]
  },
  {
   "cell_type": "code",
   "execution_count": 20,
   "metadata": {
    "ExecuteTime": {
     "end_time": "2019-04-22T15:51:01.001688Z",
     "start_time": "2019-04-22T15:51:00.997484Z"
    },
    "colab": {},
    "colab_type": "code",
    "id": "X1ttZmrI-KZX"
   },
   "outputs": [
    {
     "data": {
      "text/plain": [
       "{'target': 0.0,\n",
       " 'params': {'lambda_l1': 0.041562969647767165,\n",
       "  'lambda_l2': 0.0007266741731021487,\n",
       "  'max_depth': 31.954553057985578,\n",
       "  'min_child_samples': 7221.74398341644,\n",
       "  'min_data_in_leaf': 733.9763881811416,\n",
       "  'num_leaves': 1697.9801849557773}}"
      ]
     },
     "execution_count": 20,
     "metadata": {},
     "output_type": "execute_result"
    }
   ],
   "source": [
    "lgbBO.res[0]"
   ]
  }
 ],
 "metadata": {
  "colab": {
   "name": "Bayesian_optimization_exercise.ipynb",
   "provenance": []
  },
  "deepnote_execution_queue": [],
  "kernelspec": {
   "display_name": "Python 3 (ipykernel)",
   "language": "python",
   "name": "python3"
  },
  "language_info": {
   "codemirror_mode": {
    "name": "ipython",
    "version": 3
   },
   "file_extension": ".py",
   "mimetype": "text/x-python",
   "name": "python",
   "nbconvert_exporter": "python",
   "pygments_lexer": "ipython3",
   "version": "3.11.7"
  },
  "varInspector": {
   "cols": {
    "lenName": 16,
    "lenType": 16,
    "lenVar": 40
   },
   "kernels_config": {
    "python": {
     "delete_cmd_postfix": "",
     "delete_cmd_prefix": "del ",
     "library": "var_list.py",
     "varRefreshCmd": "print(var_dic_list())"
    },
    "r": {
     "delete_cmd_postfix": ") ",
     "delete_cmd_prefix": "rm(",
     "library": "var_list.r",
     "varRefreshCmd": "cat(var_dic_list()) "
    }
   },
   "types_to_exclude": [
    "module",
    "function",
    "builtin_function_or_method",
    "instance",
    "_Feature"
   ],
   "window_display": false
  }
 },
 "nbformat": 4,
 "nbformat_minor": 1
}
